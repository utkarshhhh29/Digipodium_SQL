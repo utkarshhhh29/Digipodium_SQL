{
    "metadata": {
        "kernelspec": {
            "name": "SQL",
            "display_name": "SQL",
            "language": "sql"
        },
        "language_info": {
            "name": "sql",
            "version": ""
        }
    },
    "nbformat_minor": 2,
    "nbformat": 4,
    "cells": [
        {
            "cell_type": "code",
            "source": [
                "USE sakila;"
            ],
            "metadata": {
                "azdata_cell_guid": "39d92be0-6e92-4c44-afbd-4a6e19663ab0",
                "language": "sql"
            },
            "outputs": [
                {
                    "output_type": "display_data",
                    "data": {
                        "text/html": "Commands completed successfully"
                    },
                    "metadata": {}
                },
                {
                    "output_type": "display_data",
                    "data": {
                        "text/html": "Total execution time: 00:00:00"
                    },
                    "metadata": {}
                }
            ],
            "execution_count": 1
        },
        {
            "cell_type": "code",
            "source": [
                "show tables;"
            ],
            "metadata": {
                "azdata_cell_guid": "339bb5b1-536e-4c2d-b592-d32c5d5c4c49",
                "language": "sql"
            },
            "outputs": [
                {
                    "output_type": "display_data",
                    "data": {
                        "text/html": "(23 row(s) affected)"
                    },
                    "metadata": {}
                },
                {
                    "output_type": "display_data",
                    "data": {
                        "text/html": "Total execution time: 00:00:01.007"
                    },
                    "metadata": {}
                },
                {
                    "output_type": "execute_result",
                    "metadata": {},
                    "execution_count": 3,
                    "data": {
                        "application/vnd.dataresource+json": {
                            "schema": {
                                "fields": [
                                    {
                                        "name": "Tables_in_sakila"
                                    }
                                ]
                            },
                            "data": [
                                {
                                    "Tables_in_sakila": "actor"
                                },
                                {
                                    "Tables_in_sakila": "actor_info"
                                },
                                {
                                    "Tables_in_sakila": "address"
                                },
                                {
                                    "Tables_in_sakila": "category"
                                },
                                {
                                    "Tables_in_sakila": "city"
                                },
                                {
                                    "Tables_in_sakila": "country"
                                },
                                {
                                    "Tables_in_sakila": "customer"
                                },
                                {
                                    "Tables_in_sakila": "customer_list"
                                },
                                {
                                    "Tables_in_sakila": "film"
                                },
                                {
                                    "Tables_in_sakila": "film_actor"
                                },
                                {
                                    "Tables_in_sakila": "film_category"
                                },
                                {
                                    "Tables_in_sakila": "film_list"
                                },
                                {
                                    "Tables_in_sakila": "film_text"
                                },
                                {
                                    "Tables_in_sakila": "inventory"
                                },
                                {
                                    "Tables_in_sakila": "language"
                                },
                                {
                                    "Tables_in_sakila": "nicer_but_slower_film_list"
                                },
                                {
                                    "Tables_in_sakila": "payment"
                                },
                                {
                                    "Tables_in_sakila": "rental"
                                },
                                {
                                    "Tables_in_sakila": "sales_by_film_category"
                                },
                                {
                                    "Tables_in_sakila": "sales_by_store"
                                },
                                {
                                    "Tables_in_sakila": "staff"
                                },
                                {
                                    "Tables_in_sakila": "staff_list"
                                },
                                {
                                    "Tables_in_sakila": "store"
                                }
                            ]
                        },
                        "text/html": [
                            "<table>",
                            "<tr><th>Tables_in_sakila</th></tr>",
                            "<tr><td>actor</td></tr>",
                            "<tr><td>actor_info</td></tr>",
                            "<tr><td>address</td></tr>",
                            "<tr><td>category</td></tr>",
                            "<tr><td>city</td></tr>",
                            "<tr><td>country</td></tr>",
                            "<tr><td>customer</td></tr>",
                            "<tr><td>customer_list</td></tr>",
                            "<tr><td>film</td></tr>",
                            "<tr><td>film_actor</td></tr>",
                            "<tr><td>film_category</td></tr>",
                            "<tr><td>film_list</td></tr>",
                            "<tr><td>film_text</td></tr>",
                            "<tr><td>inventory</td></tr>",
                            "<tr><td>language</td></tr>",
                            "<tr><td>nicer_but_slower_film_list</td></tr>",
                            "<tr><td>payment</td></tr>",
                            "<tr><td>rental</td></tr>",
                            "<tr><td>sales_by_film_category</td></tr>",
                            "<tr><td>sales_by_store</td></tr>",
                            "<tr><td>staff</td></tr>",
                            "<tr><td>staff_list</td></tr>",
                            "<tr><td>store</td></tr>",
                            "</table>"
                        ]
                    }
                }
            ],
            "execution_count": 3
        },
        {
            "cell_type": "code",
            "source": [
                "DESCRIBE actor;"
            ],
            "metadata": {
                "azdata_cell_guid": "899631af-41f0-4cd4-97d0-d73ff424c34c",
                "language": "sql"
            },
            "outputs": [
                {
                    "output_type": "display_data",
                    "data": {
                        "text/html": "(4 row(s) affected)"
                    },
                    "metadata": {}
                },
                {
                    "output_type": "display_data",
                    "data": {
                        "text/html": "Total execution time: 00:00:01.014"
                    },
                    "metadata": {}
                },
                {
                    "output_type": "execute_result",
                    "metadata": {},
                    "execution_count": 4,
                    "data": {
                        "application/vnd.dataresource+json": {
                            "schema": {
                                "fields": [
                                    {
                                        "name": "Field"
                                    },
                                    {
                                        "name": "Type"
                                    },
                                    {
                                        "name": "Null"
                                    },
                                    {
                                        "name": "Key"
                                    },
                                    {
                                        "name": "Default"
                                    },
                                    {
                                        "name": "Extra"
                                    }
                                ]
                            },
                            "data": [
                                {
                                    "Field": "actor_id",
                                    "Type": "b'smallint unsigned'",
                                    "Null": "NO",
                                    "Key": "PRI",
                                    "Default": "NULL",
                                    "Extra": "auto_increment"
                                },
                                {
                                    "Field": "first_name",
                                    "Type": "b'varchar(45)'",
                                    "Null": "NO",
                                    "Key": "",
                                    "Default": "NULL",
                                    "Extra": ""
                                },
                                {
                                    "Field": "last_name",
                                    "Type": "b'varchar(45)'",
                                    "Null": "NO",
                                    "Key": "MUL",
                                    "Default": "NULL",
                                    "Extra": ""
                                },
                                {
                                    "Field": "last_update",
                                    "Type": "b'timestamp'",
                                    "Null": "NO",
                                    "Key": "",
                                    "Default": "b'CURRENT_TIMESTAMP'",
                                    "Extra": "DEFAULT_GENERATED on update CURRENT_TIMESTAMP"
                                }
                            ]
                        },
                        "text/html": [
                            "<table>",
                            "<tr><th>Field</th><th>Type</th><th>Null</th><th>Key</th><th>Default</th><th>Extra</th></tr>",
                            "<tr><td>actor_id</td><td>b&#39;smallint unsigned&#39;</td><td>NO</td><td>PRI</td><td>NULL</td><td>auto_increment</td></tr>",
                            "<tr><td>first_name</td><td>b&#39;varchar(45)&#39;</td><td>NO</td><td></td><td>NULL</td><td></td></tr>",
                            "<tr><td>last_name</td><td>b&#39;varchar(45)&#39;</td><td>NO</td><td>MUL</td><td>NULL</td><td></td></tr>",
                            "<tr><td>last_update</td><td>b&#39;timestamp&#39;</td><td>NO</td><td></td><td>b&#39;CURRENT_TIMESTAMP&#39;</td><td>DEFAULT_GENERATED on update CURRENT_TIMESTAMP</td></tr>",
                            "</table>"
                        ]
                    }
                }
            ],
            "execution_count": 4
        },
        {
            "cell_type": "code",
            "source": [
                "SELECT first_name, last_name FROM actor;"
            ],
            "metadata": {
                "azdata_cell_guid": "ec158f29-1b06-44ce-877b-c1b80aa01b84",
                "language": "sql"
            },
            "outputs": [
                {
                    "output_type": "display_data",
                    "data": {
                        "text/html": "(200 row(s) affected)"
                    },
                    "metadata": {}
                },
                {
                    "output_type": "display_data",
                    "data": {
                        "text/html": "Total execution time: 00:00:01.010"
                    },
                    "metadata": {}
                },
                {
                    "output_type": "execute_result",
                    "metadata": {},
                    "execution_count": 5,
                    "data": {
                        "application/vnd.dataresource+json": {
                            "schema": {
                                "fields": [
                                    {
                                        "name": "first_name"
                                    },
                                    {
                                        "name": "last_name"
                                    }
                                ]
                            },
                            "data": [
                                {
                                    "first_name": "PENELOPE",
                                    "last_name": "GUINESS"
                                },
                                {
                                    "first_name": "NICK",
                                    "last_name": "WAHLBERG"
                                },
                                {
                                    "first_name": "ED",
                                    "last_name": "CHASE"
                                },
                                {
                                    "first_name": "JENNIFER",
                                    "last_name": "DAVIS"
                                },
                                {
                                    "first_name": "JOHNNY",
                                    "last_name": "LOLLOBRIGIDA"
                                },
                                {
                                    "first_name": "BETTE",
                                    "last_name": "NICHOLSON"
                                },
                                {
                                    "first_name": "GRACE",
                                    "last_name": "MOSTEL"
                                },
                                {
                                    "first_name": "MATTHEW",
                                    "last_name": "JOHANSSON"
                                },
                                {
                                    "first_name": "JOE",
                                    "last_name": "SWANK"
                                },
                                {
                                    "first_name": "CHRISTIAN",
                                    "last_name": "GABLE"
                                },
                                {
                                    "first_name": "ZERO",
                                    "last_name": "CAGE"
                                },
                                {
                                    "first_name": "KARL",
                                    "last_name": "BERRY"
                                },
                                {
                                    "first_name": "UMA",
                                    "last_name": "WOOD"
                                },
                                {
                                    "first_name": "VIVIEN",
                                    "last_name": "BERGEN"
                                },
                                {
                                    "first_name": "CUBA",
                                    "last_name": "OLIVIER"
                                },
                                {
                                    "first_name": "FRED",
                                    "last_name": "COSTNER"
                                },
                                {
                                    "first_name": "HELEN",
                                    "last_name": "VOIGHT"
                                },
                                {
                                    "first_name": "DAN",
                                    "last_name": "TORN"
                                },
                                {
                                    "first_name": "BOB",
                                    "last_name": "FAWCETT"
                                },
                                {
                                    "first_name": "LUCILLE",
                                    "last_name": "TRACY"
                                },
                                {
                                    "first_name": "KIRSTEN",
                                    "last_name": "PALTROW"
                                },
                                {
                                    "first_name": "ELVIS",
                                    "last_name": "MARX"
                                },
                                {
                                    "first_name": "SANDRA",
                                    "last_name": "KILMER"
                                },
                                {
                                    "first_name": "CAMERON",
                                    "last_name": "STREEP"
                                },
                                {
                                    "first_name": "KEVIN",
                                    "last_name": "BLOOM"
                                },
                                {
                                    "first_name": "RIP",
                                    "last_name": "CRAWFORD"
                                },
                                {
                                    "first_name": "JULIA",
                                    "last_name": "MCQUEEN"
                                },
                                {
                                    "first_name": "WOODY",
                                    "last_name": "HOFFMAN"
                                },
                                {
                                    "first_name": "ALEC",
                                    "last_name": "WAYNE"
                                },
                                {
                                    "first_name": "SANDRA",
                                    "last_name": "PECK"
                                },
                                {
                                    "first_name": "SISSY",
                                    "last_name": "SOBIESKI"
                                },
                                {
                                    "first_name": "TIM",
                                    "last_name": "HACKMAN"
                                },
                                {
                                    "first_name": "MILLA",
                                    "last_name": "PECK"
                                },
                                {
                                    "first_name": "AUDREY",
                                    "last_name": "OLIVIER"
                                },
                                {
                                    "first_name": "JUDY",
                                    "last_name": "DEAN"
                                },
                                {
                                    "first_name": "BURT",
                                    "last_name": "DUKAKIS"
                                },
                                {
                                    "first_name": "VAL",
                                    "last_name": "BOLGER"
                                },
                                {
                                    "first_name": "TOM",
                                    "last_name": "MCKELLEN"
                                },
                                {
                                    "first_name": "GOLDIE",
                                    "last_name": "BRODY"
                                },
                                {
                                    "first_name": "JOHNNY",
                                    "last_name": "CAGE"
                                },
                                {
                                    "first_name": "JODIE",
                                    "last_name": "DEGENERES"
                                },
                                {
                                    "first_name": "TOM",
                                    "last_name": "MIRANDA"
                                },
                                {
                                    "first_name": "KIRK",
                                    "last_name": "JOVOVICH"
                                },
                                {
                                    "first_name": "NICK",
                                    "last_name": "STALLONE"
                                },
                                {
                                    "first_name": "REESE",
                                    "last_name": "KILMER"
                                },
                                {
                                    "first_name": "PARKER",
                                    "last_name": "GOLDBERG"
                                },
                                {
                                    "first_name": "JULIA",
                                    "last_name": "BARRYMORE"
                                },
                                {
                                    "first_name": "FRANCES",
                                    "last_name": "DAY-LEWIS"
                                },
                                {
                                    "first_name": "ANNE",
                                    "last_name": "CRONYN"
                                },
                                {
                                    "first_name": "NATALIE",
                                    "last_name": "HOPKINS"
                                },
                                {
                                    "first_name": "GARY",
                                    "last_name": "PHOENIX"
                                },
                                {
                                    "first_name": "CARMEN",
                                    "last_name": "HUNT"
                                },
                                {
                                    "first_name": "MENA",
                                    "last_name": "TEMPLE"
                                },
                                {
                                    "first_name": "PENELOPE",
                                    "last_name": "PINKETT"
                                },
                                {
                                    "first_name": "FAY",
                                    "last_name": "KILMER"
                                },
                                {
                                    "first_name": "DAN",
                                    "last_name": "HARRIS"
                                },
                                {
                                    "first_name": "JUDE",
                                    "last_name": "CRUISE"
                                },
                                {
                                    "first_name": "CHRISTIAN",
                                    "last_name": "AKROYD"
                                },
                                {
                                    "first_name": "DUSTIN",
                                    "last_name": "TAUTOU"
                                },
                                {
                                    "first_name": "HENRY",
                                    "last_name": "BERRY"
                                },
                                {
                                    "first_name": "CHRISTIAN",
                                    "last_name": "NEESON"
                                },
                                {
                                    "first_name": "JAYNE",
                                    "last_name": "NEESON"
                                },
                                {
                                    "first_name": "CAMERON",
                                    "last_name": "WRAY"
                                },
                                {
                                    "first_name": "RAY",
                                    "last_name": "JOHANSSON"
                                },
                                {
                                    "first_name": "ANGELA",
                                    "last_name": "HUDSON"
                                },
                                {
                                    "first_name": "MARY",
                                    "last_name": "TANDY"
                                },
                                {
                                    "first_name": "JESSICA",
                                    "last_name": "BAILEY"
                                },
                                {
                                    "first_name": "RIP",
                                    "last_name": "WINSLET"
                                },
                                {
                                    "first_name": "KENNETH",
                                    "last_name": "PALTROW"
                                },
                                {
                                    "first_name": "MICHELLE",
                                    "last_name": "MCCONAUGHEY"
                                },
                                {
                                    "first_name": "ADAM",
                                    "last_name": "GRANT"
                                },
                                {
                                    "first_name": "SEAN",
                                    "last_name": "WILLIAMS"
                                },
                                {
                                    "first_name": "GARY",
                                    "last_name": "PENN"
                                },
                                {
                                    "first_name": "MILLA",
                                    "last_name": "KEITEL"
                                },
                                {
                                    "first_name": "BURT",
                                    "last_name": "POSEY"
                                },
                                {
                                    "first_name": "ANGELINA",
                                    "last_name": "ASTAIRE"
                                },
                                {
                                    "first_name": "CARY",
                                    "last_name": "MCCONAUGHEY"
                                },
                                {
                                    "first_name": "GROUCHO",
                                    "last_name": "SINATRA"
                                },
                                {
                                    "first_name": "MAE",
                                    "last_name": "HOFFMAN"
                                },
                                {
                                    "first_name": "RALPH",
                                    "last_name": "CRUZ"
                                },
                                {
                                    "first_name": "SCARLETT",
                                    "last_name": "DAMON"
                                },
                                {
                                    "first_name": "WOODY",
                                    "last_name": "JOLIE"
                                },
                                {
                                    "first_name": "BEN",
                                    "last_name": "WILLIS"
                                },
                                {
                                    "first_name": "JAMES",
                                    "last_name": "PITT"
                                },
                                {
                                    "first_name": "MINNIE",
                                    "last_name": "ZELLWEGER"
                                },
                                {
                                    "first_name": "GREG",
                                    "last_name": "CHAPLIN"
                                },
                                {
                                    "first_name": "SPENCER",
                                    "last_name": "PECK"
                                },
                                {
                                    "first_name": "KENNETH",
                                    "last_name": "PESCI"
                                },
                                {
                                    "first_name": "CHARLIZE",
                                    "last_name": "DENCH"
                                },
                                {
                                    "first_name": "SEAN",
                                    "last_name": "GUINESS"
                                },
                                {
                                    "first_name": "CHRISTOPHER",
                                    "last_name": "BERRY"
                                },
                                {
                                    "first_name": "KIRSTEN",
                                    "last_name": "AKROYD"
                                },
                                {
                                    "first_name": "ELLEN",
                                    "last_name": "PRESLEY"
                                },
                                {
                                    "first_name": "KENNETH",
                                    "last_name": "TORN"
                                },
                                {
                                    "first_name": "DARYL",
                                    "last_name": "WAHLBERG"
                                },
                                {
                                    "first_name": "GENE",
                                    "last_name": "WILLIS"
                                },
                                {
                                    "first_name": "MEG",
                                    "last_name": "HAWKE"
                                },
                                {
                                    "first_name": "CHRIS",
                                    "last_name": "BRIDGES"
                                },
                                {
                                    "first_name": "JIM",
                                    "last_name": "MOSTEL"
                                },
                                {
                                    "first_name": "SPENCER",
                                    "last_name": "DEPP"
                                },
                                {
                                    "first_name": "SUSAN",
                                    "last_name": "DAVIS"
                                },
                                {
                                    "first_name": "WALTER",
                                    "last_name": "TORN"
                                },
                                {
                                    "first_name": "MATTHEW",
                                    "last_name": "LEIGH"
                                },
                                {
                                    "first_name": "PENELOPE",
                                    "last_name": "CRONYN"
                                },
                                {
                                    "first_name": "SIDNEY",
                                    "last_name": "CROWE"
                                },
                                {
                                    "first_name": "GROUCHO",
                                    "last_name": "DUNST"
                                },
                                {
                                    "first_name": "GINA",
                                    "last_name": "DEGENERES"
                                },
                                {
                                    "first_name": "WARREN",
                                    "last_name": "NOLTE"
                                },
                                {
                                    "first_name": "SYLVESTER",
                                    "last_name": "DERN"
                                },
                                {
                                    "first_name": "SUSAN",
                                    "last_name": "DAVIS"
                                },
                                {
                                    "first_name": "CAMERON",
                                    "last_name": "ZELLWEGER"
                                },
                                {
                                    "first_name": "RUSSELL",
                                    "last_name": "BACALL"
                                },
                                {
                                    "first_name": "MORGAN",
                                    "last_name": "HOPKINS"
                                },
                                {
                                    "first_name": "MORGAN",
                                    "last_name": "MCDORMAND"
                                },
                                {
                                    "first_name": "HARRISON",
                                    "last_name": "BALE"
                                },
                                {
                                    "first_name": "DAN",
                                    "last_name": "STREEP"
                                },
                                {
                                    "first_name": "RENEE",
                                    "last_name": "TRACY"
                                },
                                {
                                    "first_name": "CUBA",
                                    "last_name": "ALLEN"
                                },
                                {
                                    "first_name": "WARREN",
                                    "last_name": "JACKMAN"
                                },
                                {
                                    "first_name": "PENELOPE",
                                    "last_name": "MONROE"
                                },
                                {
                                    "first_name": "LIZA",
                                    "last_name": "BERGMAN"
                                },
                                {
                                    "first_name": "SALMA",
                                    "last_name": "NOLTE"
                                },
                                {
                                    "first_name": "JULIANNE",
                                    "last_name": "DENCH"
                                },
                                {
                                    "first_name": "SCARLETT",
                                    "last_name": "BENING"
                                },
                                {
                                    "first_name": "ALBERT",
                                    "last_name": "NOLTE"
                                },
                                {
                                    "first_name": "FRANCES",
                                    "last_name": "TOMEI"
                                },
                                {
                                    "first_name": "KEVIN",
                                    "last_name": "GARLAND"
                                },
                                {
                                    "first_name": "CATE",
                                    "last_name": "MCQUEEN"
                                },
                                {
                                    "first_name": "DARYL",
                                    "last_name": "CRAWFORD"
                                },
                                {
                                    "first_name": "GRETA",
                                    "last_name": "KEITEL"
                                },
                                {
                                    "first_name": "JANE",
                                    "last_name": "JACKMAN"
                                },
                                {
                                    "first_name": "ADAM",
                                    "last_name": "HOPPER"
                                },
                                {
                                    "first_name": "RICHARD",
                                    "last_name": "PENN"
                                },
                                {
                                    "first_name": "GENE",
                                    "last_name": "HOPKINS"
                                },
                                {
                                    "first_name": "RITA",
                                    "last_name": "REYNOLDS"
                                },
                                {
                                    "first_name": "ED",
                                    "last_name": "MANSFIELD"
                                },
                                {
                                    "first_name": "MORGAN",
                                    "last_name": "WILLIAMS"
                                },
                                {
                                    "first_name": "LUCILLE",
                                    "last_name": "DEE"
                                },
                                {
                                    "first_name": "EWAN",
                                    "last_name": "GOODING"
                                },
                                {
                                    "first_name": "WHOOPI",
                                    "last_name": "HURT"
                                },
                                {
                                    "first_name": "CATE",
                                    "last_name": "HARRIS"
                                },
                                {
                                    "first_name": "JADA",
                                    "last_name": "RYDER"
                                },
                                {
                                    "first_name": "RIVER",
                                    "last_name": "DEAN"
                                },
                                {
                                    "first_name": "ANGELA",
                                    "last_name": "WITHERSPOON"
                                },
                                {
                                    "first_name": "KIM",
                                    "last_name": "ALLEN"
                                },
                                {
                                    "first_name": "ALBERT",
                                    "last_name": "JOHANSSON"
                                },
                                {
                                    "first_name": "FAY",
                                    "last_name": "WINSLET"
                                },
                                {
                                    "first_name": "EMILY",
                                    "last_name": "DEE"
                                },
                                {
                                    "first_name": "RUSSELL",
                                    "last_name": "TEMPLE"
                                },
                                {
                                    "first_name": "JAYNE",
                                    "last_name": "NOLTE"
                                },
                                {
                                    "first_name": "GEOFFREY",
                                    "last_name": "HESTON"
                                },
                                {
                                    "first_name": "BEN",
                                    "last_name": "HARRIS"
                                },
                                {
                                    "first_name": "MINNIE",
                                    "last_name": "KILMER"
                                },
                                {
                                    "first_name": "MERYL",
                                    "last_name": "GIBSON"
                                },
                                {
                                    "first_name": "IAN",
                                    "last_name": "TANDY"
                                },
                                {
                                    "first_name": "FAY",
                                    "last_name": "WOOD"
                                },
                                {
                                    "first_name": "GRETA",
                                    "last_name": "MALDEN"
                                },
                                {
                                    "first_name": "VIVIEN",
                                    "last_name": "BASINGER"
                                },
                                {
                                    "first_name": "LAURA",
                                    "last_name": "BRODY"
                                },
                                {
                                    "first_name": "CHRIS",
                                    "last_name": "DEPP"
                                },
                                {
                                    "first_name": "HARVEY",
                                    "last_name": "HOPE"
                                },
                                {
                                    "first_name": "OPRAH",
                                    "last_name": "KILMER"
                                },
                                {
                                    "first_name": "CHRISTOPHER",
                                    "last_name": "WEST"
                                },
                                {
                                    "first_name": "HUMPHREY",
                                    "last_name": "WILLIS"
                                },
                                {
                                    "first_name": "AL",
                                    "last_name": "GARLAND"
                                },
                                {
                                    "first_name": "NICK",
                                    "last_name": "DEGENERES"
                                },
                                {
                                    "first_name": "LAURENCE",
                                    "last_name": "BULLOCK"
                                },
                                {
                                    "first_name": "WILL",
                                    "last_name": "WILSON"
                                },
                                {
                                    "first_name": "KENNETH",
                                    "last_name": "HOFFMAN"
                                },
                                {
                                    "first_name": "MENA",
                                    "last_name": "HOPPER"
                                },
                                {
                                    "first_name": "OLYMPIA",
                                    "last_name": "PFEIFFER"
                                },
                                {
                                    "first_name": "GROUCHO",
                                    "last_name": "WILLIAMS"
                                },
                                {
                                    "first_name": "ALAN",
                                    "last_name": "DREYFUSS"
                                },
                                {
                                    "first_name": "MICHAEL",
                                    "last_name": "BENING"
                                },
                                {
                                    "first_name": "WILLIAM",
                                    "last_name": "HACKMAN"
                                },
                                {
                                    "first_name": "JON",
                                    "last_name": "CHASE"
                                },
                                {
                                    "first_name": "GENE",
                                    "last_name": "MCKELLEN"
                                },
                                {
                                    "first_name": "LISA",
                                    "last_name": "MONROE"
                                },
                                {
                                    "first_name": "ED",
                                    "last_name": "GUINESS"
                                },
                                {
                                    "first_name": "JEFF",
                                    "last_name": "SILVERSTONE"
                                },
                                {
                                    "first_name": "MATTHEW",
                                    "last_name": "CARREY"
                                },
                                {
                                    "first_name": "DEBBIE",
                                    "last_name": "AKROYD"
                                },
                                {
                                    "first_name": "RUSSELL",
                                    "last_name": "CLOSE"
                                },
                                {
                                    "first_name": "HUMPHREY",
                                    "last_name": "GARLAND"
                                },
                                {
                                    "first_name": "MICHAEL",
                                    "last_name": "BOLGER"
                                },
                                {
                                    "first_name": "JULIA",
                                    "last_name": "ZELLWEGER"
                                },
                                {
                                    "first_name": "RENEE",
                                    "last_name": "BALL"
                                },
                                {
                                    "first_name": "ROCK",
                                    "last_name": "DUKAKIS"
                                },
                                {
                                    "first_name": "CUBA",
                                    "last_name": "BIRCH"
                                },
                                {
                                    "first_name": "AUDREY",
                                    "last_name": "BAILEY"
                                },
                                {
                                    "first_name": "GREGORY",
                                    "last_name": "GOODING"
                                },
                                {
                                    "first_name": "JOHN",
                                    "last_name": "SUVARI"
                                },
                                {
                                    "first_name": "BURT",
                                    "last_name": "TEMPLE"
                                },
                                {
                                    "first_name": "MERYL",
                                    "last_name": "ALLEN"
                                },
                                {
                                    "first_name": "JAYNE",
                                    "last_name": "SILVERSTONE"
                                },
                                {
                                    "first_name": "BELA",
                                    "last_name": "WALKEN"
                                },
                                {
                                    "first_name": "REESE",
                                    "last_name": "WEST"
                                },
                                {
                                    "first_name": "MARY",
                                    "last_name": "KEITEL"
                                },
                                {
                                    "first_name": "JULIA",
                                    "last_name": "FAWCETT"
                                },
                                {
                                    "first_name": "THORA",
                                    "last_name": "TEMPLE"
                                }
                            ]
                        },
                        "text/html": [
                            "<table>",
                            "<tr><th>first_name</th><th>last_name</th></tr>",
                            "<tr><td>PENELOPE</td><td>GUINESS</td></tr>",
                            "<tr><td>NICK</td><td>WAHLBERG</td></tr>",
                            "<tr><td>ED</td><td>CHASE</td></tr>",
                            "<tr><td>JENNIFER</td><td>DAVIS</td></tr>",
                            "<tr><td>JOHNNY</td><td>LOLLOBRIGIDA</td></tr>",
                            "<tr><td>BETTE</td><td>NICHOLSON</td></tr>",
                            "<tr><td>GRACE</td><td>MOSTEL</td></tr>",
                            "<tr><td>MATTHEW</td><td>JOHANSSON</td></tr>",
                            "<tr><td>JOE</td><td>SWANK</td></tr>",
                            "<tr><td>CHRISTIAN</td><td>GABLE</td></tr>",
                            "<tr><td>ZERO</td><td>CAGE</td></tr>",
                            "<tr><td>KARL</td><td>BERRY</td></tr>",
                            "<tr><td>UMA</td><td>WOOD</td></tr>",
                            "<tr><td>VIVIEN</td><td>BERGEN</td></tr>",
                            "<tr><td>CUBA</td><td>OLIVIER</td></tr>",
                            "<tr><td>FRED</td><td>COSTNER</td></tr>",
                            "<tr><td>HELEN</td><td>VOIGHT</td></tr>",
                            "<tr><td>DAN</td><td>TORN</td></tr>",
                            "<tr><td>BOB</td><td>FAWCETT</td></tr>",
                            "<tr><td>LUCILLE</td><td>TRACY</td></tr>",
                            "<tr><td>KIRSTEN</td><td>PALTROW</td></tr>",
                            "<tr><td>ELVIS</td><td>MARX</td></tr>",
                            "<tr><td>SANDRA</td><td>KILMER</td></tr>",
                            "<tr><td>CAMERON</td><td>STREEP</td></tr>",
                            "<tr><td>KEVIN</td><td>BLOOM</td></tr>",
                            "<tr><td>RIP</td><td>CRAWFORD</td></tr>",
                            "<tr><td>JULIA</td><td>MCQUEEN</td></tr>",
                            "<tr><td>WOODY</td><td>HOFFMAN</td></tr>",
                            "<tr><td>ALEC</td><td>WAYNE</td></tr>",
                            "<tr><td>SANDRA</td><td>PECK</td></tr>",
                            "<tr><td>SISSY</td><td>SOBIESKI</td></tr>",
                            "<tr><td>TIM</td><td>HACKMAN</td></tr>",
                            "<tr><td>MILLA</td><td>PECK</td></tr>",
                            "<tr><td>AUDREY</td><td>OLIVIER</td></tr>",
                            "<tr><td>JUDY</td><td>DEAN</td></tr>",
                            "<tr><td>BURT</td><td>DUKAKIS</td></tr>",
                            "<tr><td>VAL</td><td>BOLGER</td></tr>",
                            "<tr><td>TOM</td><td>MCKELLEN</td></tr>",
                            "<tr><td>GOLDIE</td><td>BRODY</td></tr>",
                            "<tr><td>JOHNNY</td><td>CAGE</td></tr>",
                            "<tr><td>JODIE</td><td>DEGENERES</td></tr>",
                            "<tr><td>TOM</td><td>MIRANDA</td></tr>",
                            "<tr><td>KIRK</td><td>JOVOVICH</td></tr>",
                            "<tr><td>NICK</td><td>STALLONE</td></tr>",
                            "<tr><td>REESE</td><td>KILMER</td></tr>",
                            "<tr><td>PARKER</td><td>GOLDBERG</td></tr>",
                            "<tr><td>JULIA</td><td>BARRYMORE</td></tr>",
                            "<tr><td>FRANCES</td><td>DAY-LEWIS</td></tr>",
                            "<tr><td>ANNE</td><td>CRONYN</td></tr>",
                            "<tr><td>NATALIE</td><td>HOPKINS</td></tr>",
                            "<tr><td>GARY</td><td>PHOENIX</td></tr>",
                            "<tr><td>CARMEN</td><td>HUNT</td></tr>",
                            "<tr><td>MENA</td><td>TEMPLE</td></tr>",
                            "<tr><td>PENELOPE</td><td>PINKETT</td></tr>",
                            "<tr><td>FAY</td><td>KILMER</td></tr>",
                            "<tr><td>DAN</td><td>HARRIS</td></tr>",
                            "<tr><td>JUDE</td><td>CRUISE</td></tr>",
                            "<tr><td>CHRISTIAN</td><td>AKROYD</td></tr>",
                            "<tr><td>DUSTIN</td><td>TAUTOU</td></tr>",
                            "<tr><td>HENRY</td><td>BERRY</td></tr>",
                            "<tr><td>CHRISTIAN</td><td>NEESON</td></tr>",
                            "<tr><td>JAYNE</td><td>NEESON</td></tr>",
                            "<tr><td>CAMERON</td><td>WRAY</td></tr>",
                            "<tr><td>RAY</td><td>JOHANSSON</td></tr>",
                            "<tr><td>ANGELA</td><td>HUDSON</td></tr>",
                            "<tr><td>MARY</td><td>TANDY</td></tr>",
                            "<tr><td>JESSICA</td><td>BAILEY</td></tr>",
                            "<tr><td>RIP</td><td>WINSLET</td></tr>",
                            "<tr><td>KENNETH</td><td>PALTROW</td></tr>",
                            "<tr><td>MICHELLE</td><td>MCCONAUGHEY</td></tr>",
                            "<tr><td>ADAM</td><td>GRANT</td></tr>",
                            "<tr><td>SEAN</td><td>WILLIAMS</td></tr>",
                            "<tr><td>GARY</td><td>PENN</td></tr>",
                            "<tr><td>MILLA</td><td>KEITEL</td></tr>",
                            "<tr><td>BURT</td><td>POSEY</td></tr>",
                            "<tr><td>ANGELINA</td><td>ASTAIRE</td></tr>",
                            "<tr><td>CARY</td><td>MCCONAUGHEY</td></tr>",
                            "<tr><td>GROUCHO</td><td>SINATRA</td></tr>",
                            "<tr><td>MAE</td><td>HOFFMAN</td></tr>",
                            "<tr><td>RALPH</td><td>CRUZ</td></tr>",
                            "<tr><td>SCARLETT</td><td>DAMON</td></tr>",
                            "<tr><td>WOODY</td><td>JOLIE</td></tr>",
                            "<tr><td>BEN</td><td>WILLIS</td></tr>",
                            "<tr><td>JAMES</td><td>PITT</td></tr>",
                            "<tr><td>MINNIE</td><td>ZELLWEGER</td></tr>",
                            "<tr><td>GREG</td><td>CHAPLIN</td></tr>",
                            "<tr><td>SPENCER</td><td>PECK</td></tr>",
                            "<tr><td>KENNETH</td><td>PESCI</td></tr>",
                            "<tr><td>CHARLIZE</td><td>DENCH</td></tr>",
                            "<tr><td>SEAN</td><td>GUINESS</td></tr>",
                            "<tr><td>CHRISTOPHER</td><td>BERRY</td></tr>",
                            "<tr><td>KIRSTEN</td><td>AKROYD</td></tr>",
                            "<tr><td>ELLEN</td><td>PRESLEY</td></tr>",
                            "<tr><td>KENNETH</td><td>TORN</td></tr>",
                            "<tr><td>DARYL</td><td>WAHLBERG</td></tr>",
                            "<tr><td>GENE</td><td>WILLIS</td></tr>",
                            "<tr><td>MEG</td><td>HAWKE</td></tr>",
                            "<tr><td>CHRIS</td><td>BRIDGES</td></tr>",
                            "<tr><td>JIM</td><td>MOSTEL</td></tr>",
                            "<tr><td>SPENCER</td><td>DEPP</td></tr>",
                            "<tr><td>SUSAN</td><td>DAVIS</td></tr>",
                            "<tr><td>WALTER</td><td>TORN</td></tr>",
                            "<tr><td>MATTHEW</td><td>LEIGH</td></tr>",
                            "<tr><td>PENELOPE</td><td>CRONYN</td></tr>",
                            "<tr><td>SIDNEY</td><td>CROWE</td></tr>",
                            "<tr><td>GROUCHO</td><td>DUNST</td></tr>",
                            "<tr><td>GINA</td><td>DEGENERES</td></tr>",
                            "<tr><td>WARREN</td><td>NOLTE</td></tr>",
                            "<tr><td>SYLVESTER</td><td>DERN</td></tr>",
                            "<tr><td>SUSAN</td><td>DAVIS</td></tr>",
                            "<tr><td>CAMERON</td><td>ZELLWEGER</td></tr>",
                            "<tr><td>RUSSELL</td><td>BACALL</td></tr>",
                            "<tr><td>MORGAN</td><td>HOPKINS</td></tr>",
                            "<tr><td>MORGAN</td><td>MCDORMAND</td></tr>",
                            "<tr><td>HARRISON</td><td>BALE</td></tr>",
                            "<tr><td>DAN</td><td>STREEP</td></tr>",
                            "<tr><td>RENEE</td><td>TRACY</td></tr>",
                            "<tr><td>CUBA</td><td>ALLEN</td></tr>",
                            "<tr><td>WARREN</td><td>JACKMAN</td></tr>",
                            "<tr><td>PENELOPE</td><td>MONROE</td></tr>",
                            "<tr><td>LIZA</td><td>BERGMAN</td></tr>",
                            "<tr><td>SALMA</td><td>NOLTE</td></tr>",
                            "<tr><td>JULIANNE</td><td>DENCH</td></tr>",
                            "<tr><td>SCARLETT</td><td>BENING</td></tr>",
                            "<tr><td>ALBERT</td><td>NOLTE</td></tr>",
                            "<tr><td>FRANCES</td><td>TOMEI</td></tr>",
                            "<tr><td>KEVIN</td><td>GARLAND</td></tr>",
                            "<tr><td>CATE</td><td>MCQUEEN</td></tr>",
                            "<tr><td>DARYL</td><td>CRAWFORD</td></tr>",
                            "<tr><td>GRETA</td><td>KEITEL</td></tr>",
                            "<tr><td>JANE</td><td>JACKMAN</td></tr>",
                            "<tr><td>ADAM</td><td>HOPPER</td></tr>",
                            "<tr><td>RICHARD</td><td>PENN</td></tr>",
                            "<tr><td>GENE</td><td>HOPKINS</td></tr>",
                            "<tr><td>RITA</td><td>REYNOLDS</td></tr>",
                            "<tr><td>ED</td><td>MANSFIELD</td></tr>",
                            "<tr><td>MORGAN</td><td>WILLIAMS</td></tr>",
                            "<tr><td>LUCILLE</td><td>DEE</td></tr>",
                            "<tr><td>EWAN</td><td>GOODING</td></tr>",
                            "<tr><td>WHOOPI</td><td>HURT</td></tr>",
                            "<tr><td>CATE</td><td>HARRIS</td></tr>",
                            "<tr><td>JADA</td><td>RYDER</td></tr>",
                            "<tr><td>RIVER</td><td>DEAN</td></tr>",
                            "<tr><td>ANGELA</td><td>WITHERSPOON</td></tr>",
                            "<tr><td>KIM</td><td>ALLEN</td></tr>",
                            "<tr><td>ALBERT</td><td>JOHANSSON</td></tr>",
                            "<tr><td>FAY</td><td>WINSLET</td></tr>",
                            "<tr><td>EMILY</td><td>DEE</td></tr>",
                            "<tr><td>RUSSELL</td><td>TEMPLE</td></tr>",
                            "<tr><td>JAYNE</td><td>NOLTE</td></tr>",
                            "<tr><td>GEOFFREY</td><td>HESTON</td></tr>",
                            "<tr><td>BEN</td><td>HARRIS</td></tr>",
                            "<tr><td>MINNIE</td><td>KILMER</td></tr>",
                            "<tr><td>MERYL</td><td>GIBSON</td></tr>",
                            "<tr><td>IAN</td><td>TANDY</td></tr>",
                            "<tr><td>FAY</td><td>WOOD</td></tr>",
                            "<tr><td>GRETA</td><td>MALDEN</td></tr>",
                            "<tr><td>VIVIEN</td><td>BASINGER</td></tr>",
                            "<tr><td>LAURA</td><td>BRODY</td></tr>",
                            "<tr><td>CHRIS</td><td>DEPP</td></tr>",
                            "<tr><td>HARVEY</td><td>HOPE</td></tr>",
                            "<tr><td>OPRAH</td><td>KILMER</td></tr>",
                            "<tr><td>CHRISTOPHER</td><td>WEST</td></tr>",
                            "<tr><td>HUMPHREY</td><td>WILLIS</td></tr>",
                            "<tr><td>AL</td><td>GARLAND</td></tr>",
                            "<tr><td>NICK</td><td>DEGENERES</td></tr>",
                            "<tr><td>LAURENCE</td><td>BULLOCK</td></tr>",
                            "<tr><td>WILL</td><td>WILSON</td></tr>",
                            "<tr><td>KENNETH</td><td>HOFFMAN</td></tr>",
                            "<tr><td>MENA</td><td>HOPPER</td></tr>",
                            "<tr><td>OLYMPIA</td><td>PFEIFFER</td></tr>",
                            "<tr><td>GROUCHO</td><td>WILLIAMS</td></tr>",
                            "<tr><td>ALAN</td><td>DREYFUSS</td></tr>",
                            "<tr><td>MICHAEL</td><td>BENING</td></tr>",
                            "<tr><td>WILLIAM</td><td>HACKMAN</td></tr>",
                            "<tr><td>JON</td><td>CHASE</td></tr>",
                            "<tr><td>GENE</td><td>MCKELLEN</td></tr>",
                            "<tr><td>LISA</td><td>MONROE</td></tr>",
                            "<tr><td>ED</td><td>GUINESS</td></tr>",
                            "<tr><td>JEFF</td><td>SILVERSTONE</td></tr>",
                            "<tr><td>MATTHEW</td><td>CARREY</td></tr>",
                            "<tr><td>DEBBIE</td><td>AKROYD</td></tr>",
                            "<tr><td>RUSSELL</td><td>CLOSE</td></tr>",
                            "<tr><td>HUMPHREY</td><td>GARLAND</td></tr>",
                            "<tr><td>MICHAEL</td><td>BOLGER</td></tr>",
                            "<tr><td>JULIA</td><td>ZELLWEGER</td></tr>",
                            "<tr><td>RENEE</td><td>BALL</td></tr>",
                            "<tr><td>ROCK</td><td>DUKAKIS</td></tr>",
                            "<tr><td>CUBA</td><td>BIRCH</td></tr>",
                            "<tr><td>AUDREY</td><td>BAILEY</td></tr>",
                            "<tr><td>GREGORY</td><td>GOODING</td></tr>",
                            "<tr><td>JOHN</td><td>SUVARI</td></tr>",
                            "<tr><td>BURT</td><td>TEMPLE</td></tr>",
                            "<tr><td>MERYL</td><td>ALLEN</td></tr>",
                            "<tr><td>JAYNE</td><td>SILVERSTONE</td></tr>",
                            "<tr><td>BELA</td><td>WALKEN</td></tr>",
                            "<tr><td>REESE</td><td>WEST</td></tr>",
                            "<tr><td>MARY</td><td>KEITEL</td></tr>",
                            "<tr><td>JULIA</td><td>FAWCETT</td></tr>",
                            "<tr><td>THORA</td><td>TEMPLE</td></tr>",
                            "</table>"
                        ]
                    }
                }
            ],
            "execution_count": 5
        },
        {
            "cell_type": "code",
            "source": [
                "SELECT \r\n",
                "    first_name, \r\n",
                "    last_name \r\n",
                "FROM \r\n",
                "    actor;"
            ],
            "metadata": {
                "azdata_cell_guid": "489a3fe7-af06-479c-8847-395fa056c753",
                "language": "sql"
            },
            "outputs": [
                {
                    "output_type": "display_data",
                    "data": {
                        "text/html": "(200 row(s) affected)"
                    },
                    "metadata": {}
                },
                {
                    "output_type": "display_data",
                    "data": {
                        "text/html": "Total execution time: 00:00:01.007"
                    },
                    "metadata": {}
                },
                {
                    "output_type": "execute_result",
                    "metadata": {},
                    "execution_count": 6,
                    "data": {
                        "application/vnd.dataresource+json": {
                            "schema": {
                                "fields": [
                                    {
                                        "name": "first_name"
                                    },
                                    {
                                        "name": "last_name"
                                    }
                                ]
                            },
                            "data": [
                                {
                                    "first_name": "PENELOPE",
                                    "last_name": "GUINESS"
                                },
                                {
                                    "first_name": "NICK",
                                    "last_name": "WAHLBERG"
                                },
                                {
                                    "first_name": "ED",
                                    "last_name": "CHASE"
                                },
                                {
                                    "first_name": "JENNIFER",
                                    "last_name": "DAVIS"
                                },
                                {
                                    "first_name": "JOHNNY",
                                    "last_name": "LOLLOBRIGIDA"
                                },
                                {
                                    "first_name": "BETTE",
                                    "last_name": "NICHOLSON"
                                },
                                {
                                    "first_name": "GRACE",
                                    "last_name": "MOSTEL"
                                },
                                {
                                    "first_name": "MATTHEW",
                                    "last_name": "JOHANSSON"
                                },
                                {
                                    "first_name": "JOE",
                                    "last_name": "SWANK"
                                },
                                {
                                    "first_name": "CHRISTIAN",
                                    "last_name": "GABLE"
                                },
                                {
                                    "first_name": "ZERO",
                                    "last_name": "CAGE"
                                },
                                {
                                    "first_name": "KARL",
                                    "last_name": "BERRY"
                                },
                                {
                                    "first_name": "UMA",
                                    "last_name": "WOOD"
                                },
                                {
                                    "first_name": "VIVIEN",
                                    "last_name": "BERGEN"
                                },
                                {
                                    "first_name": "CUBA",
                                    "last_name": "OLIVIER"
                                },
                                {
                                    "first_name": "FRED",
                                    "last_name": "COSTNER"
                                },
                                {
                                    "first_name": "HELEN",
                                    "last_name": "VOIGHT"
                                },
                                {
                                    "first_name": "DAN",
                                    "last_name": "TORN"
                                },
                                {
                                    "first_name": "BOB",
                                    "last_name": "FAWCETT"
                                },
                                {
                                    "first_name": "LUCILLE",
                                    "last_name": "TRACY"
                                },
                                {
                                    "first_name": "KIRSTEN",
                                    "last_name": "PALTROW"
                                },
                                {
                                    "first_name": "ELVIS",
                                    "last_name": "MARX"
                                },
                                {
                                    "first_name": "SANDRA",
                                    "last_name": "KILMER"
                                },
                                {
                                    "first_name": "CAMERON",
                                    "last_name": "STREEP"
                                },
                                {
                                    "first_name": "KEVIN",
                                    "last_name": "BLOOM"
                                },
                                {
                                    "first_name": "RIP",
                                    "last_name": "CRAWFORD"
                                },
                                {
                                    "first_name": "JULIA",
                                    "last_name": "MCQUEEN"
                                },
                                {
                                    "first_name": "WOODY",
                                    "last_name": "HOFFMAN"
                                },
                                {
                                    "first_name": "ALEC",
                                    "last_name": "WAYNE"
                                },
                                {
                                    "first_name": "SANDRA",
                                    "last_name": "PECK"
                                },
                                {
                                    "first_name": "SISSY",
                                    "last_name": "SOBIESKI"
                                },
                                {
                                    "first_name": "TIM",
                                    "last_name": "HACKMAN"
                                },
                                {
                                    "first_name": "MILLA",
                                    "last_name": "PECK"
                                },
                                {
                                    "first_name": "AUDREY",
                                    "last_name": "OLIVIER"
                                },
                                {
                                    "first_name": "JUDY",
                                    "last_name": "DEAN"
                                },
                                {
                                    "first_name": "BURT",
                                    "last_name": "DUKAKIS"
                                },
                                {
                                    "first_name": "VAL",
                                    "last_name": "BOLGER"
                                },
                                {
                                    "first_name": "TOM",
                                    "last_name": "MCKELLEN"
                                },
                                {
                                    "first_name": "GOLDIE",
                                    "last_name": "BRODY"
                                },
                                {
                                    "first_name": "JOHNNY",
                                    "last_name": "CAGE"
                                },
                                {
                                    "first_name": "JODIE",
                                    "last_name": "DEGENERES"
                                },
                                {
                                    "first_name": "TOM",
                                    "last_name": "MIRANDA"
                                },
                                {
                                    "first_name": "KIRK",
                                    "last_name": "JOVOVICH"
                                },
                                {
                                    "first_name": "NICK",
                                    "last_name": "STALLONE"
                                },
                                {
                                    "first_name": "REESE",
                                    "last_name": "KILMER"
                                },
                                {
                                    "first_name": "PARKER",
                                    "last_name": "GOLDBERG"
                                },
                                {
                                    "first_name": "JULIA",
                                    "last_name": "BARRYMORE"
                                },
                                {
                                    "first_name": "FRANCES",
                                    "last_name": "DAY-LEWIS"
                                },
                                {
                                    "first_name": "ANNE",
                                    "last_name": "CRONYN"
                                },
                                {
                                    "first_name": "NATALIE",
                                    "last_name": "HOPKINS"
                                },
                                {
                                    "first_name": "GARY",
                                    "last_name": "PHOENIX"
                                },
                                {
                                    "first_name": "CARMEN",
                                    "last_name": "HUNT"
                                },
                                {
                                    "first_name": "MENA",
                                    "last_name": "TEMPLE"
                                },
                                {
                                    "first_name": "PENELOPE",
                                    "last_name": "PINKETT"
                                },
                                {
                                    "first_name": "FAY",
                                    "last_name": "KILMER"
                                },
                                {
                                    "first_name": "DAN",
                                    "last_name": "HARRIS"
                                },
                                {
                                    "first_name": "JUDE",
                                    "last_name": "CRUISE"
                                },
                                {
                                    "first_name": "CHRISTIAN",
                                    "last_name": "AKROYD"
                                },
                                {
                                    "first_name": "DUSTIN",
                                    "last_name": "TAUTOU"
                                },
                                {
                                    "first_name": "HENRY",
                                    "last_name": "BERRY"
                                },
                                {
                                    "first_name": "CHRISTIAN",
                                    "last_name": "NEESON"
                                },
                                {
                                    "first_name": "JAYNE",
                                    "last_name": "NEESON"
                                },
                                {
                                    "first_name": "CAMERON",
                                    "last_name": "WRAY"
                                },
                                {
                                    "first_name": "RAY",
                                    "last_name": "JOHANSSON"
                                },
                                {
                                    "first_name": "ANGELA",
                                    "last_name": "HUDSON"
                                },
                                {
                                    "first_name": "MARY",
                                    "last_name": "TANDY"
                                },
                                {
                                    "first_name": "JESSICA",
                                    "last_name": "BAILEY"
                                },
                                {
                                    "first_name": "RIP",
                                    "last_name": "WINSLET"
                                },
                                {
                                    "first_name": "KENNETH",
                                    "last_name": "PALTROW"
                                },
                                {
                                    "first_name": "MICHELLE",
                                    "last_name": "MCCONAUGHEY"
                                },
                                {
                                    "first_name": "ADAM",
                                    "last_name": "GRANT"
                                },
                                {
                                    "first_name": "SEAN",
                                    "last_name": "WILLIAMS"
                                },
                                {
                                    "first_name": "GARY",
                                    "last_name": "PENN"
                                },
                                {
                                    "first_name": "MILLA",
                                    "last_name": "KEITEL"
                                },
                                {
                                    "first_name": "BURT",
                                    "last_name": "POSEY"
                                },
                                {
                                    "first_name": "ANGELINA",
                                    "last_name": "ASTAIRE"
                                },
                                {
                                    "first_name": "CARY",
                                    "last_name": "MCCONAUGHEY"
                                },
                                {
                                    "first_name": "GROUCHO",
                                    "last_name": "SINATRA"
                                },
                                {
                                    "first_name": "MAE",
                                    "last_name": "HOFFMAN"
                                },
                                {
                                    "first_name": "RALPH",
                                    "last_name": "CRUZ"
                                },
                                {
                                    "first_name": "SCARLETT",
                                    "last_name": "DAMON"
                                },
                                {
                                    "first_name": "WOODY",
                                    "last_name": "JOLIE"
                                },
                                {
                                    "first_name": "BEN",
                                    "last_name": "WILLIS"
                                },
                                {
                                    "first_name": "JAMES",
                                    "last_name": "PITT"
                                },
                                {
                                    "first_name": "MINNIE",
                                    "last_name": "ZELLWEGER"
                                },
                                {
                                    "first_name": "GREG",
                                    "last_name": "CHAPLIN"
                                },
                                {
                                    "first_name": "SPENCER",
                                    "last_name": "PECK"
                                },
                                {
                                    "first_name": "KENNETH",
                                    "last_name": "PESCI"
                                },
                                {
                                    "first_name": "CHARLIZE",
                                    "last_name": "DENCH"
                                },
                                {
                                    "first_name": "SEAN",
                                    "last_name": "GUINESS"
                                },
                                {
                                    "first_name": "CHRISTOPHER",
                                    "last_name": "BERRY"
                                },
                                {
                                    "first_name": "KIRSTEN",
                                    "last_name": "AKROYD"
                                },
                                {
                                    "first_name": "ELLEN",
                                    "last_name": "PRESLEY"
                                },
                                {
                                    "first_name": "KENNETH",
                                    "last_name": "TORN"
                                },
                                {
                                    "first_name": "DARYL",
                                    "last_name": "WAHLBERG"
                                },
                                {
                                    "first_name": "GENE",
                                    "last_name": "WILLIS"
                                },
                                {
                                    "first_name": "MEG",
                                    "last_name": "HAWKE"
                                },
                                {
                                    "first_name": "CHRIS",
                                    "last_name": "BRIDGES"
                                },
                                {
                                    "first_name": "JIM",
                                    "last_name": "MOSTEL"
                                },
                                {
                                    "first_name": "SPENCER",
                                    "last_name": "DEPP"
                                },
                                {
                                    "first_name": "SUSAN",
                                    "last_name": "DAVIS"
                                },
                                {
                                    "first_name": "WALTER",
                                    "last_name": "TORN"
                                },
                                {
                                    "first_name": "MATTHEW",
                                    "last_name": "LEIGH"
                                },
                                {
                                    "first_name": "PENELOPE",
                                    "last_name": "CRONYN"
                                },
                                {
                                    "first_name": "SIDNEY",
                                    "last_name": "CROWE"
                                },
                                {
                                    "first_name": "GROUCHO",
                                    "last_name": "DUNST"
                                },
                                {
                                    "first_name": "GINA",
                                    "last_name": "DEGENERES"
                                },
                                {
                                    "first_name": "WARREN",
                                    "last_name": "NOLTE"
                                },
                                {
                                    "first_name": "SYLVESTER",
                                    "last_name": "DERN"
                                },
                                {
                                    "first_name": "SUSAN",
                                    "last_name": "DAVIS"
                                },
                                {
                                    "first_name": "CAMERON",
                                    "last_name": "ZELLWEGER"
                                },
                                {
                                    "first_name": "RUSSELL",
                                    "last_name": "BACALL"
                                },
                                {
                                    "first_name": "MORGAN",
                                    "last_name": "HOPKINS"
                                },
                                {
                                    "first_name": "MORGAN",
                                    "last_name": "MCDORMAND"
                                },
                                {
                                    "first_name": "HARRISON",
                                    "last_name": "BALE"
                                },
                                {
                                    "first_name": "DAN",
                                    "last_name": "STREEP"
                                },
                                {
                                    "first_name": "RENEE",
                                    "last_name": "TRACY"
                                },
                                {
                                    "first_name": "CUBA",
                                    "last_name": "ALLEN"
                                },
                                {
                                    "first_name": "WARREN",
                                    "last_name": "JACKMAN"
                                },
                                {
                                    "first_name": "PENELOPE",
                                    "last_name": "MONROE"
                                },
                                {
                                    "first_name": "LIZA",
                                    "last_name": "BERGMAN"
                                },
                                {
                                    "first_name": "SALMA",
                                    "last_name": "NOLTE"
                                },
                                {
                                    "first_name": "JULIANNE",
                                    "last_name": "DENCH"
                                },
                                {
                                    "first_name": "SCARLETT",
                                    "last_name": "BENING"
                                },
                                {
                                    "first_name": "ALBERT",
                                    "last_name": "NOLTE"
                                },
                                {
                                    "first_name": "FRANCES",
                                    "last_name": "TOMEI"
                                },
                                {
                                    "first_name": "KEVIN",
                                    "last_name": "GARLAND"
                                },
                                {
                                    "first_name": "CATE",
                                    "last_name": "MCQUEEN"
                                },
                                {
                                    "first_name": "DARYL",
                                    "last_name": "CRAWFORD"
                                },
                                {
                                    "first_name": "GRETA",
                                    "last_name": "KEITEL"
                                },
                                {
                                    "first_name": "JANE",
                                    "last_name": "JACKMAN"
                                },
                                {
                                    "first_name": "ADAM",
                                    "last_name": "HOPPER"
                                },
                                {
                                    "first_name": "RICHARD",
                                    "last_name": "PENN"
                                },
                                {
                                    "first_name": "GENE",
                                    "last_name": "HOPKINS"
                                },
                                {
                                    "first_name": "RITA",
                                    "last_name": "REYNOLDS"
                                },
                                {
                                    "first_name": "ED",
                                    "last_name": "MANSFIELD"
                                },
                                {
                                    "first_name": "MORGAN",
                                    "last_name": "WILLIAMS"
                                },
                                {
                                    "first_name": "LUCILLE",
                                    "last_name": "DEE"
                                },
                                {
                                    "first_name": "EWAN",
                                    "last_name": "GOODING"
                                },
                                {
                                    "first_name": "WHOOPI",
                                    "last_name": "HURT"
                                },
                                {
                                    "first_name": "CATE",
                                    "last_name": "HARRIS"
                                },
                                {
                                    "first_name": "JADA",
                                    "last_name": "RYDER"
                                },
                                {
                                    "first_name": "RIVER",
                                    "last_name": "DEAN"
                                },
                                {
                                    "first_name": "ANGELA",
                                    "last_name": "WITHERSPOON"
                                },
                                {
                                    "first_name": "KIM",
                                    "last_name": "ALLEN"
                                },
                                {
                                    "first_name": "ALBERT",
                                    "last_name": "JOHANSSON"
                                },
                                {
                                    "first_name": "FAY",
                                    "last_name": "WINSLET"
                                },
                                {
                                    "first_name": "EMILY",
                                    "last_name": "DEE"
                                },
                                {
                                    "first_name": "RUSSELL",
                                    "last_name": "TEMPLE"
                                },
                                {
                                    "first_name": "JAYNE",
                                    "last_name": "NOLTE"
                                },
                                {
                                    "first_name": "GEOFFREY",
                                    "last_name": "HESTON"
                                },
                                {
                                    "first_name": "BEN",
                                    "last_name": "HARRIS"
                                },
                                {
                                    "first_name": "MINNIE",
                                    "last_name": "KILMER"
                                },
                                {
                                    "first_name": "MERYL",
                                    "last_name": "GIBSON"
                                },
                                {
                                    "first_name": "IAN",
                                    "last_name": "TANDY"
                                },
                                {
                                    "first_name": "FAY",
                                    "last_name": "WOOD"
                                },
                                {
                                    "first_name": "GRETA",
                                    "last_name": "MALDEN"
                                },
                                {
                                    "first_name": "VIVIEN",
                                    "last_name": "BASINGER"
                                },
                                {
                                    "first_name": "LAURA",
                                    "last_name": "BRODY"
                                },
                                {
                                    "first_name": "CHRIS",
                                    "last_name": "DEPP"
                                },
                                {
                                    "first_name": "HARVEY",
                                    "last_name": "HOPE"
                                },
                                {
                                    "first_name": "OPRAH",
                                    "last_name": "KILMER"
                                },
                                {
                                    "first_name": "CHRISTOPHER",
                                    "last_name": "WEST"
                                },
                                {
                                    "first_name": "HUMPHREY",
                                    "last_name": "WILLIS"
                                },
                                {
                                    "first_name": "AL",
                                    "last_name": "GARLAND"
                                },
                                {
                                    "first_name": "NICK",
                                    "last_name": "DEGENERES"
                                },
                                {
                                    "first_name": "LAURENCE",
                                    "last_name": "BULLOCK"
                                },
                                {
                                    "first_name": "WILL",
                                    "last_name": "WILSON"
                                },
                                {
                                    "first_name": "KENNETH",
                                    "last_name": "HOFFMAN"
                                },
                                {
                                    "first_name": "MENA",
                                    "last_name": "HOPPER"
                                },
                                {
                                    "first_name": "OLYMPIA",
                                    "last_name": "PFEIFFER"
                                },
                                {
                                    "first_name": "GROUCHO",
                                    "last_name": "WILLIAMS"
                                },
                                {
                                    "first_name": "ALAN",
                                    "last_name": "DREYFUSS"
                                },
                                {
                                    "first_name": "MICHAEL",
                                    "last_name": "BENING"
                                },
                                {
                                    "first_name": "WILLIAM",
                                    "last_name": "HACKMAN"
                                },
                                {
                                    "first_name": "JON",
                                    "last_name": "CHASE"
                                },
                                {
                                    "first_name": "GENE",
                                    "last_name": "MCKELLEN"
                                },
                                {
                                    "first_name": "LISA",
                                    "last_name": "MONROE"
                                },
                                {
                                    "first_name": "ED",
                                    "last_name": "GUINESS"
                                },
                                {
                                    "first_name": "JEFF",
                                    "last_name": "SILVERSTONE"
                                },
                                {
                                    "first_name": "MATTHEW",
                                    "last_name": "CARREY"
                                },
                                {
                                    "first_name": "DEBBIE",
                                    "last_name": "AKROYD"
                                },
                                {
                                    "first_name": "RUSSELL",
                                    "last_name": "CLOSE"
                                },
                                {
                                    "first_name": "HUMPHREY",
                                    "last_name": "GARLAND"
                                },
                                {
                                    "first_name": "MICHAEL",
                                    "last_name": "BOLGER"
                                },
                                {
                                    "first_name": "JULIA",
                                    "last_name": "ZELLWEGER"
                                },
                                {
                                    "first_name": "RENEE",
                                    "last_name": "BALL"
                                },
                                {
                                    "first_name": "ROCK",
                                    "last_name": "DUKAKIS"
                                },
                                {
                                    "first_name": "CUBA",
                                    "last_name": "BIRCH"
                                },
                                {
                                    "first_name": "AUDREY",
                                    "last_name": "BAILEY"
                                },
                                {
                                    "first_name": "GREGORY",
                                    "last_name": "GOODING"
                                },
                                {
                                    "first_name": "JOHN",
                                    "last_name": "SUVARI"
                                },
                                {
                                    "first_name": "BURT",
                                    "last_name": "TEMPLE"
                                },
                                {
                                    "first_name": "MERYL",
                                    "last_name": "ALLEN"
                                },
                                {
                                    "first_name": "JAYNE",
                                    "last_name": "SILVERSTONE"
                                },
                                {
                                    "first_name": "BELA",
                                    "last_name": "WALKEN"
                                },
                                {
                                    "first_name": "REESE",
                                    "last_name": "WEST"
                                },
                                {
                                    "first_name": "MARY",
                                    "last_name": "KEITEL"
                                },
                                {
                                    "first_name": "JULIA",
                                    "last_name": "FAWCETT"
                                },
                                {
                                    "first_name": "THORA",
                                    "last_name": "TEMPLE"
                                }
                            ]
                        },
                        "text/html": [
                            "<table>",
                            "<tr><th>first_name</th><th>last_name</th></tr>",
                            "<tr><td>PENELOPE</td><td>GUINESS</td></tr>",
                            "<tr><td>NICK</td><td>WAHLBERG</td></tr>",
                            "<tr><td>ED</td><td>CHASE</td></tr>",
                            "<tr><td>JENNIFER</td><td>DAVIS</td></tr>",
                            "<tr><td>JOHNNY</td><td>LOLLOBRIGIDA</td></tr>",
                            "<tr><td>BETTE</td><td>NICHOLSON</td></tr>",
                            "<tr><td>GRACE</td><td>MOSTEL</td></tr>",
                            "<tr><td>MATTHEW</td><td>JOHANSSON</td></tr>",
                            "<tr><td>JOE</td><td>SWANK</td></tr>",
                            "<tr><td>CHRISTIAN</td><td>GABLE</td></tr>",
                            "<tr><td>ZERO</td><td>CAGE</td></tr>",
                            "<tr><td>KARL</td><td>BERRY</td></tr>",
                            "<tr><td>UMA</td><td>WOOD</td></tr>",
                            "<tr><td>VIVIEN</td><td>BERGEN</td></tr>",
                            "<tr><td>CUBA</td><td>OLIVIER</td></tr>",
                            "<tr><td>FRED</td><td>COSTNER</td></tr>",
                            "<tr><td>HELEN</td><td>VOIGHT</td></tr>",
                            "<tr><td>DAN</td><td>TORN</td></tr>",
                            "<tr><td>BOB</td><td>FAWCETT</td></tr>",
                            "<tr><td>LUCILLE</td><td>TRACY</td></tr>",
                            "<tr><td>KIRSTEN</td><td>PALTROW</td></tr>",
                            "<tr><td>ELVIS</td><td>MARX</td></tr>",
                            "<tr><td>SANDRA</td><td>KILMER</td></tr>",
                            "<tr><td>CAMERON</td><td>STREEP</td></tr>",
                            "<tr><td>KEVIN</td><td>BLOOM</td></tr>",
                            "<tr><td>RIP</td><td>CRAWFORD</td></tr>",
                            "<tr><td>JULIA</td><td>MCQUEEN</td></tr>",
                            "<tr><td>WOODY</td><td>HOFFMAN</td></tr>",
                            "<tr><td>ALEC</td><td>WAYNE</td></tr>",
                            "<tr><td>SANDRA</td><td>PECK</td></tr>",
                            "<tr><td>SISSY</td><td>SOBIESKI</td></tr>",
                            "<tr><td>TIM</td><td>HACKMAN</td></tr>",
                            "<tr><td>MILLA</td><td>PECK</td></tr>",
                            "<tr><td>AUDREY</td><td>OLIVIER</td></tr>",
                            "<tr><td>JUDY</td><td>DEAN</td></tr>",
                            "<tr><td>BURT</td><td>DUKAKIS</td></tr>",
                            "<tr><td>VAL</td><td>BOLGER</td></tr>",
                            "<tr><td>TOM</td><td>MCKELLEN</td></tr>",
                            "<tr><td>GOLDIE</td><td>BRODY</td></tr>",
                            "<tr><td>JOHNNY</td><td>CAGE</td></tr>",
                            "<tr><td>JODIE</td><td>DEGENERES</td></tr>",
                            "<tr><td>TOM</td><td>MIRANDA</td></tr>",
                            "<tr><td>KIRK</td><td>JOVOVICH</td></tr>",
                            "<tr><td>NICK</td><td>STALLONE</td></tr>",
                            "<tr><td>REESE</td><td>KILMER</td></tr>",
                            "<tr><td>PARKER</td><td>GOLDBERG</td></tr>",
                            "<tr><td>JULIA</td><td>BARRYMORE</td></tr>",
                            "<tr><td>FRANCES</td><td>DAY-LEWIS</td></tr>",
                            "<tr><td>ANNE</td><td>CRONYN</td></tr>",
                            "<tr><td>NATALIE</td><td>HOPKINS</td></tr>",
                            "<tr><td>GARY</td><td>PHOENIX</td></tr>",
                            "<tr><td>CARMEN</td><td>HUNT</td></tr>",
                            "<tr><td>MENA</td><td>TEMPLE</td></tr>",
                            "<tr><td>PENELOPE</td><td>PINKETT</td></tr>",
                            "<tr><td>FAY</td><td>KILMER</td></tr>",
                            "<tr><td>DAN</td><td>HARRIS</td></tr>",
                            "<tr><td>JUDE</td><td>CRUISE</td></tr>",
                            "<tr><td>CHRISTIAN</td><td>AKROYD</td></tr>",
                            "<tr><td>DUSTIN</td><td>TAUTOU</td></tr>",
                            "<tr><td>HENRY</td><td>BERRY</td></tr>",
                            "<tr><td>CHRISTIAN</td><td>NEESON</td></tr>",
                            "<tr><td>JAYNE</td><td>NEESON</td></tr>",
                            "<tr><td>CAMERON</td><td>WRAY</td></tr>",
                            "<tr><td>RAY</td><td>JOHANSSON</td></tr>",
                            "<tr><td>ANGELA</td><td>HUDSON</td></tr>",
                            "<tr><td>MARY</td><td>TANDY</td></tr>",
                            "<tr><td>JESSICA</td><td>BAILEY</td></tr>",
                            "<tr><td>RIP</td><td>WINSLET</td></tr>",
                            "<tr><td>KENNETH</td><td>PALTROW</td></tr>",
                            "<tr><td>MICHELLE</td><td>MCCONAUGHEY</td></tr>",
                            "<tr><td>ADAM</td><td>GRANT</td></tr>",
                            "<tr><td>SEAN</td><td>WILLIAMS</td></tr>",
                            "<tr><td>GARY</td><td>PENN</td></tr>",
                            "<tr><td>MILLA</td><td>KEITEL</td></tr>",
                            "<tr><td>BURT</td><td>POSEY</td></tr>",
                            "<tr><td>ANGELINA</td><td>ASTAIRE</td></tr>",
                            "<tr><td>CARY</td><td>MCCONAUGHEY</td></tr>",
                            "<tr><td>GROUCHO</td><td>SINATRA</td></tr>",
                            "<tr><td>MAE</td><td>HOFFMAN</td></tr>",
                            "<tr><td>RALPH</td><td>CRUZ</td></tr>",
                            "<tr><td>SCARLETT</td><td>DAMON</td></tr>",
                            "<tr><td>WOODY</td><td>JOLIE</td></tr>",
                            "<tr><td>BEN</td><td>WILLIS</td></tr>",
                            "<tr><td>JAMES</td><td>PITT</td></tr>",
                            "<tr><td>MINNIE</td><td>ZELLWEGER</td></tr>",
                            "<tr><td>GREG</td><td>CHAPLIN</td></tr>",
                            "<tr><td>SPENCER</td><td>PECK</td></tr>",
                            "<tr><td>KENNETH</td><td>PESCI</td></tr>",
                            "<tr><td>CHARLIZE</td><td>DENCH</td></tr>",
                            "<tr><td>SEAN</td><td>GUINESS</td></tr>",
                            "<tr><td>CHRISTOPHER</td><td>BERRY</td></tr>",
                            "<tr><td>KIRSTEN</td><td>AKROYD</td></tr>",
                            "<tr><td>ELLEN</td><td>PRESLEY</td></tr>",
                            "<tr><td>KENNETH</td><td>TORN</td></tr>",
                            "<tr><td>DARYL</td><td>WAHLBERG</td></tr>",
                            "<tr><td>GENE</td><td>WILLIS</td></tr>",
                            "<tr><td>MEG</td><td>HAWKE</td></tr>",
                            "<tr><td>CHRIS</td><td>BRIDGES</td></tr>",
                            "<tr><td>JIM</td><td>MOSTEL</td></tr>",
                            "<tr><td>SPENCER</td><td>DEPP</td></tr>",
                            "<tr><td>SUSAN</td><td>DAVIS</td></tr>",
                            "<tr><td>WALTER</td><td>TORN</td></tr>",
                            "<tr><td>MATTHEW</td><td>LEIGH</td></tr>",
                            "<tr><td>PENELOPE</td><td>CRONYN</td></tr>",
                            "<tr><td>SIDNEY</td><td>CROWE</td></tr>",
                            "<tr><td>GROUCHO</td><td>DUNST</td></tr>",
                            "<tr><td>GINA</td><td>DEGENERES</td></tr>",
                            "<tr><td>WARREN</td><td>NOLTE</td></tr>",
                            "<tr><td>SYLVESTER</td><td>DERN</td></tr>",
                            "<tr><td>SUSAN</td><td>DAVIS</td></tr>",
                            "<tr><td>CAMERON</td><td>ZELLWEGER</td></tr>",
                            "<tr><td>RUSSELL</td><td>BACALL</td></tr>",
                            "<tr><td>MORGAN</td><td>HOPKINS</td></tr>",
                            "<tr><td>MORGAN</td><td>MCDORMAND</td></tr>",
                            "<tr><td>HARRISON</td><td>BALE</td></tr>",
                            "<tr><td>DAN</td><td>STREEP</td></tr>",
                            "<tr><td>RENEE</td><td>TRACY</td></tr>",
                            "<tr><td>CUBA</td><td>ALLEN</td></tr>",
                            "<tr><td>WARREN</td><td>JACKMAN</td></tr>",
                            "<tr><td>PENELOPE</td><td>MONROE</td></tr>",
                            "<tr><td>LIZA</td><td>BERGMAN</td></tr>",
                            "<tr><td>SALMA</td><td>NOLTE</td></tr>",
                            "<tr><td>JULIANNE</td><td>DENCH</td></tr>",
                            "<tr><td>SCARLETT</td><td>BENING</td></tr>",
                            "<tr><td>ALBERT</td><td>NOLTE</td></tr>",
                            "<tr><td>FRANCES</td><td>TOMEI</td></tr>",
                            "<tr><td>KEVIN</td><td>GARLAND</td></tr>",
                            "<tr><td>CATE</td><td>MCQUEEN</td></tr>",
                            "<tr><td>DARYL</td><td>CRAWFORD</td></tr>",
                            "<tr><td>GRETA</td><td>KEITEL</td></tr>",
                            "<tr><td>JANE</td><td>JACKMAN</td></tr>",
                            "<tr><td>ADAM</td><td>HOPPER</td></tr>",
                            "<tr><td>RICHARD</td><td>PENN</td></tr>",
                            "<tr><td>GENE</td><td>HOPKINS</td></tr>",
                            "<tr><td>RITA</td><td>REYNOLDS</td></tr>",
                            "<tr><td>ED</td><td>MANSFIELD</td></tr>",
                            "<tr><td>MORGAN</td><td>WILLIAMS</td></tr>",
                            "<tr><td>LUCILLE</td><td>DEE</td></tr>",
                            "<tr><td>EWAN</td><td>GOODING</td></tr>",
                            "<tr><td>WHOOPI</td><td>HURT</td></tr>",
                            "<tr><td>CATE</td><td>HARRIS</td></tr>",
                            "<tr><td>JADA</td><td>RYDER</td></tr>",
                            "<tr><td>RIVER</td><td>DEAN</td></tr>",
                            "<tr><td>ANGELA</td><td>WITHERSPOON</td></tr>",
                            "<tr><td>KIM</td><td>ALLEN</td></tr>",
                            "<tr><td>ALBERT</td><td>JOHANSSON</td></tr>",
                            "<tr><td>FAY</td><td>WINSLET</td></tr>",
                            "<tr><td>EMILY</td><td>DEE</td></tr>",
                            "<tr><td>RUSSELL</td><td>TEMPLE</td></tr>",
                            "<tr><td>JAYNE</td><td>NOLTE</td></tr>",
                            "<tr><td>GEOFFREY</td><td>HESTON</td></tr>",
                            "<tr><td>BEN</td><td>HARRIS</td></tr>",
                            "<tr><td>MINNIE</td><td>KILMER</td></tr>",
                            "<tr><td>MERYL</td><td>GIBSON</td></tr>",
                            "<tr><td>IAN</td><td>TANDY</td></tr>",
                            "<tr><td>FAY</td><td>WOOD</td></tr>",
                            "<tr><td>GRETA</td><td>MALDEN</td></tr>",
                            "<tr><td>VIVIEN</td><td>BASINGER</td></tr>",
                            "<tr><td>LAURA</td><td>BRODY</td></tr>",
                            "<tr><td>CHRIS</td><td>DEPP</td></tr>",
                            "<tr><td>HARVEY</td><td>HOPE</td></tr>",
                            "<tr><td>OPRAH</td><td>KILMER</td></tr>",
                            "<tr><td>CHRISTOPHER</td><td>WEST</td></tr>",
                            "<tr><td>HUMPHREY</td><td>WILLIS</td></tr>",
                            "<tr><td>AL</td><td>GARLAND</td></tr>",
                            "<tr><td>NICK</td><td>DEGENERES</td></tr>",
                            "<tr><td>LAURENCE</td><td>BULLOCK</td></tr>",
                            "<tr><td>WILL</td><td>WILSON</td></tr>",
                            "<tr><td>KENNETH</td><td>HOFFMAN</td></tr>",
                            "<tr><td>MENA</td><td>HOPPER</td></tr>",
                            "<tr><td>OLYMPIA</td><td>PFEIFFER</td></tr>",
                            "<tr><td>GROUCHO</td><td>WILLIAMS</td></tr>",
                            "<tr><td>ALAN</td><td>DREYFUSS</td></tr>",
                            "<tr><td>MICHAEL</td><td>BENING</td></tr>",
                            "<tr><td>WILLIAM</td><td>HACKMAN</td></tr>",
                            "<tr><td>JON</td><td>CHASE</td></tr>",
                            "<tr><td>GENE</td><td>MCKELLEN</td></tr>",
                            "<tr><td>LISA</td><td>MONROE</td></tr>",
                            "<tr><td>ED</td><td>GUINESS</td></tr>",
                            "<tr><td>JEFF</td><td>SILVERSTONE</td></tr>",
                            "<tr><td>MATTHEW</td><td>CARREY</td></tr>",
                            "<tr><td>DEBBIE</td><td>AKROYD</td></tr>",
                            "<tr><td>RUSSELL</td><td>CLOSE</td></tr>",
                            "<tr><td>HUMPHREY</td><td>GARLAND</td></tr>",
                            "<tr><td>MICHAEL</td><td>BOLGER</td></tr>",
                            "<tr><td>JULIA</td><td>ZELLWEGER</td></tr>",
                            "<tr><td>RENEE</td><td>BALL</td></tr>",
                            "<tr><td>ROCK</td><td>DUKAKIS</td></tr>",
                            "<tr><td>CUBA</td><td>BIRCH</td></tr>",
                            "<tr><td>AUDREY</td><td>BAILEY</td></tr>",
                            "<tr><td>GREGORY</td><td>GOODING</td></tr>",
                            "<tr><td>JOHN</td><td>SUVARI</td></tr>",
                            "<tr><td>BURT</td><td>TEMPLE</td></tr>",
                            "<tr><td>MERYL</td><td>ALLEN</td></tr>",
                            "<tr><td>JAYNE</td><td>SILVERSTONE</td></tr>",
                            "<tr><td>BELA</td><td>WALKEN</td></tr>",
                            "<tr><td>REESE</td><td>WEST</td></tr>",
                            "<tr><td>MARY</td><td>KEITEL</td></tr>",
                            "<tr><td>JULIA</td><td>FAWCETT</td></tr>",
                            "<tr><td>THORA</td><td>TEMPLE</td></tr>",
                            "</table>"
                        ]
                    }
                }
            ],
            "execution_count": 6
        },
        {
            "cell_type": "code",
            "source": [
                "SELECT \r\n",
                "    first_name, \r\n",
                "    last_name \r\n",
                "FROM \r\n",
                "    actor\r\n",
                "ORDER BY \r\n",
                "    first_name;"
            ],
            "metadata": {
                "language": "sql",
                "azdata_cell_guid": "0e65c15f-df7d-4d8e-a7ac-2b6c8e98152c"
            },
            "outputs": [
                {
                    "output_type": "display_data",
                    "data": {
                        "text/html": "(200 row(s) affected)"
                    },
                    "metadata": {}
                },
                {
                    "output_type": "display_data",
                    "data": {
                        "text/html": "Total execution time: 00:00:01.011"
                    },
                    "metadata": {}
                },
                {
                    "output_type": "execute_result",
                    "metadata": {},
                    "execution_count": 7,
                    "data": {
                        "application/vnd.dataresource+json": {
                            "schema": {
                                "fields": [
                                    {
                                        "name": "first_name"
                                    },
                                    {
                                        "name": "last_name"
                                    }
                                ]
                            },
                            "data": [
                                {
                                    "first_name": "ADAM",
                                    "last_name": "GRANT"
                                },
                                {
                                    "first_name": "ADAM",
                                    "last_name": "HOPPER"
                                },
                                {
                                    "first_name": "AL",
                                    "last_name": "GARLAND"
                                },
                                {
                                    "first_name": "ALAN",
                                    "last_name": "DREYFUSS"
                                },
                                {
                                    "first_name": "ALBERT",
                                    "last_name": "NOLTE"
                                },
                                {
                                    "first_name": "ALBERT",
                                    "last_name": "JOHANSSON"
                                },
                                {
                                    "first_name": "ALEC",
                                    "last_name": "WAYNE"
                                },
                                {
                                    "first_name": "ANGELA",
                                    "last_name": "HUDSON"
                                },
                                {
                                    "first_name": "ANGELA",
                                    "last_name": "WITHERSPOON"
                                },
                                {
                                    "first_name": "ANGELINA",
                                    "last_name": "ASTAIRE"
                                },
                                {
                                    "first_name": "ANNE",
                                    "last_name": "CRONYN"
                                },
                                {
                                    "first_name": "AUDREY",
                                    "last_name": "BAILEY"
                                },
                                {
                                    "first_name": "AUDREY",
                                    "last_name": "OLIVIER"
                                },
                                {
                                    "first_name": "BELA",
                                    "last_name": "WALKEN"
                                },
                                {
                                    "first_name": "BEN",
                                    "last_name": "HARRIS"
                                },
                                {
                                    "first_name": "BEN",
                                    "last_name": "WILLIS"
                                },
                                {
                                    "first_name": "BETTE",
                                    "last_name": "NICHOLSON"
                                },
                                {
                                    "first_name": "BOB",
                                    "last_name": "FAWCETT"
                                },
                                {
                                    "first_name": "BURT",
                                    "last_name": "DUKAKIS"
                                },
                                {
                                    "first_name": "BURT",
                                    "last_name": "POSEY"
                                },
                                {
                                    "first_name": "BURT",
                                    "last_name": "TEMPLE"
                                },
                                {
                                    "first_name": "CAMERON",
                                    "last_name": "WRAY"
                                },
                                {
                                    "first_name": "CAMERON",
                                    "last_name": "STREEP"
                                },
                                {
                                    "first_name": "CAMERON",
                                    "last_name": "ZELLWEGER"
                                },
                                {
                                    "first_name": "CARMEN",
                                    "last_name": "HUNT"
                                },
                                {
                                    "first_name": "CARY",
                                    "last_name": "MCCONAUGHEY"
                                },
                                {
                                    "first_name": "CATE",
                                    "last_name": "HARRIS"
                                },
                                {
                                    "first_name": "CATE",
                                    "last_name": "MCQUEEN"
                                },
                                {
                                    "first_name": "CHARLIZE",
                                    "last_name": "DENCH"
                                },
                                {
                                    "first_name": "CHRIS",
                                    "last_name": "DEPP"
                                },
                                {
                                    "first_name": "CHRIS",
                                    "last_name": "BRIDGES"
                                },
                                {
                                    "first_name": "CHRISTIAN",
                                    "last_name": "NEESON"
                                },
                                {
                                    "first_name": "CHRISTIAN",
                                    "last_name": "GABLE"
                                },
                                {
                                    "first_name": "CHRISTIAN",
                                    "last_name": "AKROYD"
                                },
                                {
                                    "first_name": "CHRISTOPHER",
                                    "last_name": "BERRY"
                                },
                                {
                                    "first_name": "CHRISTOPHER",
                                    "last_name": "WEST"
                                },
                                {
                                    "first_name": "CUBA",
                                    "last_name": "ALLEN"
                                },
                                {
                                    "first_name": "CUBA",
                                    "last_name": "OLIVIER"
                                },
                                {
                                    "first_name": "CUBA",
                                    "last_name": "BIRCH"
                                },
                                {
                                    "first_name": "DAN",
                                    "last_name": "TORN"
                                },
                                {
                                    "first_name": "DAN",
                                    "last_name": "HARRIS"
                                },
                                {
                                    "first_name": "DAN",
                                    "last_name": "STREEP"
                                },
                                {
                                    "first_name": "DARYL",
                                    "last_name": "WAHLBERG"
                                },
                                {
                                    "first_name": "DARYL",
                                    "last_name": "CRAWFORD"
                                },
                                {
                                    "first_name": "DEBBIE",
                                    "last_name": "AKROYD"
                                },
                                {
                                    "first_name": "DUSTIN",
                                    "last_name": "TAUTOU"
                                },
                                {
                                    "first_name": "ED",
                                    "last_name": "CHASE"
                                },
                                {
                                    "first_name": "ED",
                                    "last_name": "GUINESS"
                                },
                                {
                                    "first_name": "ED",
                                    "last_name": "MANSFIELD"
                                },
                                {
                                    "first_name": "ELLEN",
                                    "last_name": "PRESLEY"
                                },
                                {
                                    "first_name": "ELVIS",
                                    "last_name": "MARX"
                                },
                                {
                                    "first_name": "EMILY",
                                    "last_name": "DEE"
                                },
                                {
                                    "first_name": "EWAN",
                                    "last_name": "GOODING"
                                },
                                {
                                    "first_name": "FAY",
                                    "last_name": "KILMER"
                                },
                                {
                                    "first_name": "FAY",
                                    "last_name": "WOOD"
                                },
                                {
                                    "first_name": "FAY",
                                    "last_name": "WINSLET"
                                },
                                {
                                    "first_name": "FRANCES",
                                    "last_name": "TOMEI"
                                },
                                {
                                    "first_name": "FRANCES",
                                    "last_name": "DAY-LEWIS"
                                },
                                {
                                    "first_name": "FRED",
                                    "last_name": "COSTNER"
                                },
                                {
                                    "first_name": "GARY",
                                    "last_name": "PHOENIX"
                                },
                                {
                                    "first_name": "GARY",
                                    "last_name": "PENN"
                                },
                                {
                                    "first_name": "GENE",
                                    "last_name": "MCKELLEN"
                                },
                                {
                                    "first_name": "GENE",
                                    "last_name": "HOPKINS"
                                },
                                {
                                    "first_name": "GENE",
                                    "last_name": "WILLIS"
                                },
                                {
                                    "first_name": "GEOFFREY",
                                    "last_name": "HESTON"
                                },
                                {
                                    "first_name": "GINA",
                                    "last_name": "DEGENERES"
                                },
                                {
                                    "first_name": "GOLDIE",
                                    "last_name": "BRODY"
                                },
                                {
                                    "first_name": "GRACE",
                                    "last_name": "MOSTEL"
                                },
                                {
                                    "first_name": "GREG",
                                    "last_name": "CHAPLIN"
                                },
                                {
                                    "first_name": "GREGORY",
                                    "last_name": "GOODING"
                                },
                                {
                                    "first_name": "GRETA",
                                    "last_name": "MALDEN"
                                },
                                {
                                    "first_name": "GRETA",
                                    "last_name": "KEITEL"
                                },
                                {
                                    "first_name": "GROUCHO",
                                    "last_name": "WILLIAMS"
                                },
                                {
                                    "first_name": "GROUCHO",
                                    "last_name": "DUNST"
                                },
                                {
                                    "first_name": "GROUCHO",
                                    "last_name": "SINATRA"
                                },
                                {
                                    "first_name": "HARRISON",
                                    "last_name": "BALE"
                                },
                                {
                                    "first_name": "HARVEY",
                                    "last_name": "HOPE"
                                },
                                {
                                    "first_name": "HELEN",
                                    "last_name": "VOIGHT"
                                },
                                {
                                    "first_name": "HENRY",
                                    "last_name": "BERRY"
                                },
                                {
                                    "first_name": "HUMPHREY",
                                    "last_name": "GARLAND"
                                },
                                {
                                    "first_name": "HUMPHREY",
                                    "last_name": "WILLIS"
                                },
                                {
                                    "first_name": "IAN",
                                    "last_name": "TANDY"
                                },
                                {
                                    "first_name": "JADA",
                                    "last_name": "RYDER"
                                },
                                {
                                    "first_name": "JAMES",
                                    "last_name": "PITT"
                                },
                                {
                                    "first_name": "JANE",
                                    "last_name": "JACKMAN"
                                },
                                {
                                    "first_name": "JAYNE",
                                    "last_name": "NOLTE"
                                },
                                {
                                    "first_name": "JAYNE",
                                    "last_name": "NEESON"
                                },
                                {
                                    "first_name": "JAYNE",
                                    "last_name": "SILVERSTONE"
                                },
                                {
                                    "first_name": "JEFF",
                                    "last_name": "SILVERSTONE"
                                },
                                {
                                    "first_name": "JENNIFER",
                                    "last_name": "DAVIS"
                                },
                                {
                                    "first_name": "JESSICA",
                                    "last_name": "BAILEY"
                                },
                                {
                                    "first_name": "JIM",
                                    "last_name": "MOSTEL"
                                },
                                {
                                    "first_name": "JODIE",
                                    "last_name": "DEGENERES"
                                },
                                {
                                    "first_name": "JOE",
                                    "last_name": "SWANK"
                                },
                                {
                                    "first_name": "JOHN",
                                    "last_name": "SUVARI"
                                },
                                {
                                    "first_name": "JOHNNY",
                                    "last_name": "CAGE"
                                },
                                {
                                    "first_name": "JOHNNY",
                                    "last_name": "LOLLOBRIGIDA"
                                },
                                {
                                    "first_name": "JON",
                                    "last_name": "CHASE"
                                },
                                {
                                    "first_name": "JUDE",
                                    "last_name": "CRUISE"
                                },
                                {
                                    "first_name": "JUDY",
                                    "last_name": "DEAN"
                                },
                                {
                                    "first_name": "JULIA",
                                    "last_name": "ZELLWEGER"
                                },
                                {
                                    "first_name": "JULIA",
                                    "last_name": "MCQUEEN"
                                },
                                {
                                    "first_name": "JULIA",
                                    "last_name": "BARRYMORE"
                                },
                                {
                                    "first_name": "JULIA",
                                    "last_name": "FAWCETT"
                                },
                                {
                                    "first_name": "JULIANNE",
                                    "last_name": "DENCH"
                                },
                                {
                                    "first_name": "KARL",
                                    "last_name": "BERRY"
                                },
                                {
                                    "first_name": "KENNETH",
                                    "last_name": "PESCI"
                                },
                                {
                                    "first_name": "KENNETH",
                                    "last_name": "PALTROW"
                                },
                                {
                                    "first_name": "KENNETH",
                                    "last_name": "TORN"
                                },
                                {
                                    "first_name": "KENNETH",
                                    "last_name": "HOFFMAN"
                                },
                                {
                                    "first_name": "KEVIN",
                                    "last_name": "GARLAND"
                                },
                                {
                                    "first_name": "KEVIN",
                                    "last_name": "BLOOM"
                                },
                                {
                                    "first_name": "KIM",
                                    "last_name": "ALLEN"
                                },
                                {
                                    "first_name": "KIRK",
                                    "last_name": "JOVOVICH"
                                },
                                {
                                    "first_name": "KIRSTEN",
                                    "last_name": "AKROYD"
                                },
                                {
                                    "first_name": "KIRSTEN",
                                    "last_name": "PALTROW"
                                },
                                {
                                    "first_name": "LAURA",
                                    "last_name": "BRODY"
                                },
                                {
                                    "first_name": "LAURENCE",
                                    "last_name": "BULLOCK"
                                },
                                {
                                    "first_name": "LISA",
                                    "last_name": "MONROE"
                                },
                                {
                                    "first_name": "LIZA",
                                    "last_name": "BERGMAN"
                                },
                                {
                                    "first_name": "LUCILLE",
                                    "last_name": "TRACY"
                                },
                                {
                                    "first_name": "LUCILLE",
                                    "last_name": "DEE"
                                },
                                {
                                    "first_name": "MAE",
                                    "last_name": "HOFFMAN"
                                },
                                {
                                    "first_name": "MARY",
                                    "last_name": "TANDY"
                                },
                                {
                                    "first_name": "MARY",
                                    "last_name": "KEITEL"
                                },
                                {
                                    "first_name": "MATTHEW",
                                    "last_name": "LEIGH"
                                },
                                {
                                    "first_name": "MATTHEW",
                                    "last_name": "CARREY"
                                },
                                {
                                    "first_name": "MATTHEW",
                                    "last_name": "JOHANSSON"
                                },
                                {
                                    "first_name": "MEG",
                                    "last_name": "HAWKE"
                                },
                                {
                                    "first_name": "MENA",
                                    "last_name": "HOPPER"
                                },
                                {
                                    "first_name": "MENA",
                                    "last_name": "TEMPLE"
                                },
                                {
                                    "first_name": "MERYL",
                                    "last_name": "GIBSON"
                                },
                                {
                                    "first_name": "MERYL",
                                    "last_name": "ALLEN"
                                },
                                {
                                    "first_name": "MICHAEL",
                                    "last_name": "BENING"
                                },
                                {
                                    "first_name": "MICHAEL",
                                    "last_name": "BOLGER"
                                },
                                {
                                    "first_name": "MICHELLE",
                                    "last_name": "MCCONAUGHEY"
                                },
                                {
                                    "first_name": "MILLA",
                                    "last_name": "PECK"
                                },
                                {
                                    "first_name": "MILLA",
                                    "last_name": "KEITEL"
                                },
                                {
                                    "first_name": "MINNIE",
                                    "last_name": "KILMER"
                                },
                                {
                                    "first_name": "MINNIE",
                                    "last_name": "ZELLWEGER"
                                },
                                {
                                    "first_name": "MORGAN",
                                    "last_name": "HOPKINS"
                                },
                                {
                                    "first_name": "MORGAN",
                                    "last_name": "WILLIAMS"
                                },
                                {
                                    "first_name": "MORGAN",
                                    "last_name": "MCDORMAND"
                                },
                                {
                                    "first_name": "NATALIE",
                                    "last_name": "HOPKINS"
                                },
                                {
                                    "first_name": "NICK",
                                    "last_name": "DEGENERES"
                                },
                                {
                                    "first_name": "NICK",
                                    "last_name": "WAHLBERG"
                                },
                                {
                                    "first_name": "NICK",
                                    "last_name": "STALLONE"
                                },
                                {
                                    "first_name": "OLYMPIA",
                                    "last_name": "PFEIFFER"
                                },
                                {
                                    "first_name": "OPRAH",
                                    "last_name": "KILMER"
                                },
                                {
                                    "first_name": "PARKER",
                                    "last_name": "GOLDBERG"
                                },
                                {
                                    "first_name": "PENELOPE",
                                    "last_name": "MONROE"
                                },
                                {
                                    "first_name": "PENELOPE",
                                    "last_name": "PINKETT"
                                },
                                {
                                    "first_name": "PENELOPE",
                                    "last_name": "GUINESS"
                                },
                                {
                                    "first_name": "PENELOPE",
                                    "last_name": "CRONYN"
                                },
                                {
                                    "first_name": "RALPH",
                                    "last_name": "CRUZ"
                                },
                                {
                                    "first_name": "RAY",
                                    "last_name": "JOHANSSON"
                                },
                                {
                                    "first_name": "REESE",
                                    "last_name": "KILMER"
                                },
                                {
                                    "first_name": "REESE",
                                    "last_name": "WEST"
                                },
                                {
                                    "first_name": "RENEE",
                                    "last_name": "TRACY"
                                },
                                {
                                    "first_name": "RENEE",
                                    "last_name": "BALL"
                                },
                                {
                                    "first_name": "RICHARD",
                                    "last_name": "PENN"
                                },
                                {
                                    "first_name": "RIP",
                                    "last_name": "CRAWFORD"
                                },
                                {
                                    "first_name": "RIP",
                                    "last_name": "WINSLET"
                                },
                                {
                                    "first_name": "RITA",
                                    "last_name": "REYNOLDS"
                                },
                                {
                                    "first_name": "RIVER",
                                    "last_name": "DEAN"
                                },
                                {
                                    "first_name": "ROCK",
                                    "last_name": "DUKAKIS"
                                },
                                {
                                    "first_name": "RUSSELL",
                                    "last_name": "TEMPLE"
                                },
                                {
                                    "first_name": "RUSSELL",
                                    "last_name": "BACALL"
                                },
                                {
                                    "first_name": "RUSSELL",
                                    "last_name": "CLOSE"
                                },
                                {
                                    "first_name": "SALMA",
                                    "last_name": "NOLTE"
                                },
                                {
                                    "first_name": "SANDRA",
                                    "last_name": "KILMER"
                                },
                                {
                                    "first_name": "SANDRA",
                                    "last_name": "PECK"
                                },
                                {
                                    "first_name": "SCARLETT",
                                    "last_name": "BENING"
                                },
                                {
                                    "first_name": "SCARLETT",
                                    "last_name": "DAMON"
                                },
                                {
                                    "first_name": "SEAN",
                                    "last_name": "GUINESS"
                                },
                                {
                                    "first_name": "SEAN",
                                    "last_name": "WILLIAMS"
                                },
                                {
                                    "first_name": "SIDNEY",
                                    "last_name": "CROWE"
                                },
                                {
                                    "first_name": "SISSY",
                                    "last_name": "SOBIESKI"
                                },
                                {
                                    "first_name": "SPENCER",
                                    "last_name": "DEPP"
                                },
                                {
                                    "first_name": "SPENCER",
                                    "last_name": "PECK"
                                },
                                {
                                    "first_name": "SUSAN",
                                    "last_name": "DAVIS"
                                },
                                {
                                    "first_name": "SUSAN",
                                    "last_name": "DAVIS"
                                },
                                {
                                    "first_name": "SYLVESTER",
                                    "last_name": "DERN"
                                },
                                {
                                    "first_name": "THORA",
                                    "last_name": "TEMPLE"
                                },
                                {
                                    "first_name": "TIM",
                                    "last_name": "HACKMAN"
                                },
                                {
                                    "first_name": "TOM",
                                    "last_name": "MIRANDA"
                                },
                                {
                                    "first_name": "TOM",
                                    "last_name": "MCKELLEN"
                                },
                                {
                                    "first_name": "UMA",
                                    "last_name": "WOOD"
                                },
                                {
                                    "first_name": "VAL",
                                    "last_name": "BOLGER"
                                },
                                {
                                    "first_name": "VIVIEN",
                                    "last_name": "BASINGER"
                                },
                                {
                                    "first_name": "VIVIEN",
                                    "last_name": "BERGEN"
                                },
                                {
                                    "first_name": "WALTER",
                                    "last_name": "TORN"
                                },
                                {
                                    "first_name": "WARREN",
                                    "last_name": "JACKMAN"
                                },
                                {
                                    "first_name": "WARREN",
                                    "last_name": "NOLTE"
                                },
                                {
                                    "first_name": "WHOOPI",
                                    "last_name": "HURT"
                                },
                                {
                                    "first_name": "WILL",
                                    "last_name": "WILSON"
                                },
                                {
                                    "first_name": "WILLIAM",
                                    "last_name": "HACKMAN"
                                },
                                {
                                    "first_name": "WOODY",
                                    "last_name": "JOLIE"
                                },
                                {
                                    "first_name": "WOODY",
                                    "last_name": "HOFFMAN"
                                },
                                {
                                    "first_name": "ZERO",
                                    "last_name": "CAGE"
                                }
                            ]
                        },
                        "text/html": [
                            "<table>",
                            "<tr><th>first_name</th><th>last_name</th></tr>",
                            "<tr><td>ADAM</td><td>GRANT</td></tr>",
                            "<tr><td>ADAM</td><td>HOPPER</td></tr>",
                            "<tr><td>AL</td><td>GARLAND</td></tr>",
                            "<tr><td>ALAN</td><td>DREYFUSS</td></tr>",
                            "<tr><td>ALBERT</td><td>NOLTE</td></tr>",
                            "<tr><td>ALBERT</td><td>JOHANSSON</td></tr>",
                            "<tr><td>ALEC</td><td>WAYNE</td></tr>",
                            "<tr><td>ANGELA</td><td>HUDSON</td></tr>",
                            "<tr><td>ANGELA</td><td>WITHERSPOON</td></tr>",
                            "<tr><td>ANGELINA</td><td>ASTAIRE</td></tr>",
                            "<tr><td>ANNE</td><td>CRONYN</td></tr>",
                            "<tr><td>AUDREY</td><td>BAILEY</td></tr>",
                            "<tr><td>AUDREY</td><td>OLIVIER</td></tr>",
                            "<tr><td>BELA</td><td>WALKEN</td></tr>",
                            "<tr><td>BEN</td><td>HARRIS</td></tr>",
                            "<tr><td>BEN</td><td>WILLIS</td></tr>",
                            "<tr><td>BETTE</td><td>NICHOLSON</td></tr>",
                            "<tr><td>BOB</td><td>FAWCETT</td></tr>",
                            "<tr><td>BURT</td><td>DUKAKIS</td></tr>",
                            "<tr><td>BURT</td><td>POSEY</td></tr>",
                            "<tr><td>BURT</td><td>TEMPLE</td></tr>",
                            "<tr><td>CAMERON</td><td>WRAY</td></tr>",
                            "<tr><td>CAMERON</td><td>STREEP</td></tr>",
                            "<tr><td>CAMERON</td><td>ZELLWEGER</td></tr>",
                            "<tr><td>CARMEN</td><td>HUNT</td></tr>",
                            "<tr><td>CARY</td><td>MCCONAUGHEY</td></tr>",
                            "<tr><td>CATE</td><td>HARRIS</td></tr>",
                            "<tr><td>CATE</td><td>MCQUEEN</td></tr>",
                            "<tr><td>CHARLIZE</td><td>DENCH</td></tr>",
                            "<tr><td>CHRIS</td><td>DEPP</td></tr>",
                            "<tr><td>CHRIS</td><td>BRIDGES</td></tr>",
                            "<tr><td>CHRISTIAN</td><td>NEESON</td></tr>",
                            "<tr><td>CHRISTIAN</td><td>GABLE</td></tr>",
                            "<tr><td>CHRISTIAN</td><td>AKROYD</td></tr>",
                            "<tr><td>CHRISTOPHER</td><td>BERRY</td></tr>",
                            "<tr><td>CHRISTOPHER</td><td>WEST</td></tr>",
                            "<tr><td>CUBA</td><td>ALLEN</td></tr>",
                            "<tr><td>CUBA</td><td>OLIVIER</td></tr>",
                            "<tr><td>CUBA</td><td>BIRCH</td></tr>",
                            "<tr><td>DAN</td><td>TORN</td></tr>",
                            "<tr><td>DAN</td><td>HARRIS</td></tr>",
                            "<tr><td>DAN</td><td>STREEP</td></tr>",
                            "<tr><td>DARYL</td><td>WAHLBERG</td></tr>",
                            "<tr><td>DARYL</td><td>CRAWFORD</td></tr>",
                            "<tr><td>DEBBIE</td><td>AKROYD</td></tr>",
                            "<tr><td>DUSTIN</td><td>TAUTOU</td></tr>",
                            "<tr><td>ED</td><td>CHASE</td></tr>",
                            "<tr><td>ED</td><td>GUINESS</td></tr>",
                            "<tr><td>ED</td><td>MANSFIELD</td></tr>",
                            "<tr><td>ELLEN</td><td>PRESLEY</td></tr>",
                            "<tr><td>ELVIS</td><td>MARX</td></tr>",
                            "<tr><td>EMILY</td><td>DEE</td></tr>",
                            "<tr><td>EWAN</td><td>GOODING</td></tr>",
                            "<tr><td>FAY</td><td>KILMER</td></tr>",
                            "<tr><td>FAY</td><td>WOOD</td></tr>",
                            "<tr><td>FAY</td><td>WINSLET</td></tr>",
                            "<tr><td>FRANCES</td><td>TOMEI</td></tr>",
                            "<tr><td>FRANCES</td><td>DAY-LEWIS</td></tr>",
                            "<tr><td>FRED</td><td>COSTNER</td></tr>",
                            "<tr><td>GARY</td><td>PHOENIX</td></tr>",
                            "<tr><td>GARY</td><td>PENN</td></tr>",
                            "<tr><td>GENE</td><td>MCKELLEN</td></tr>",
                            "<tr><td>GENE</td><td>HOPKINS</td></tr>",
                            "<tr><td>GENE</td><td>WILLIS</td></tr>",
                            "<tr><td>GEOFFREY</td><td>HESTON</td></tr>",
                            "<tr><td>GINA</td><td>DEGENERES</td></tr>",
                            "<tr><td>GOLDIE</td><td>BRODY</td></tr>",
                            "<tr><td>GRACE</td><td>MOSTEL</td></tr>",
                            "<tr><td>GREG</td><td>CHAPLIN</td></tr>",
                            "<tr><td>GREGORY</td><td>GOODING</td></tr>",
                            "<tr><td>GRETA</td><td>MALDEN</td></tr>",
                            "<tr><td>GRETA</td><td>KEITEL</td></tr>",
                            "<tr><td>GROUCHO</td><td>WILLIAMS</td></tr>",
                            "<tr><td>GROUCHO</td><td>DUNST</td></tr>",
                            "<tr><td>GROUCHO</td><td>SINATRA</td></tr>",
                            "<tr><td>HARRISON</td><td>BALE</td></tr>",
                            "<tr><td>HARVEY</td><td>HOPE</td></tr>",
                            "<tr><td>HELEN</td><td>VOIGHT</td></tr>",
                            "<tr><td>HENRY</td><td>BERRY</td></tr>",
                            "<tr><td>HUMPHREY</td><td>GARLAND</td></tr>",
                            "<tr><td>HUMPHREY</td><td>WILLIS</td></tr>",
                            "<tr><td>IAN</td><td>TANDY</td></tr>",
                            "<tr><td>JADA</td><td>RYDER</td></tr>",
                            "<tr><td>JAMES</td><td>PITT</td></tr>",
                            "<tr><td>JANE</td><td>JACKMAN</td></tr>",
                            "<tr><td>JAYNE</td><td>NOLTE</td></tr>",
                            "<tr><td>JAYNE</td><td>NEESON</td></tr>",
                            "<tr><td>JAYNE</td><td>SILVERSTONE</td></tr>",
                            "<tr><td>JEFF</td><td>SILVERSTONE</td></tr>",
                            "<tr><td>JENNIFER</td><td>DAVIS</td></tr>",
                            "<tr><td>JESSICA</td><td>BAILEY</td></tr>",
                            "<tr><td>JIM</td><td>MOSTEL</td></tr>",
                            "<tr><td>JODIE</td><td>DEGENERES</td></tr>",
                            "<tr><td>JOE</td><td>SWANK</td></tr>",
                            "<tr><td>JOHN</td><td>SUVARI</td></tr>",
                            "<tr><td>JOHNNY</td><td>CAGE</td></tr>",
                            "<tr><td>JOHNNY</td><td>LOLLOBRIGIDA</td></tr>",
                            "<tr><td>JON</td><td>CHASE</td></tr>",
                            "<tr><td>JUDE</td><td>CRUISE</td></tr>",
                            "<tr><td>JUDY</td><td>DEAN</td></tr>",
                            "<tr><td>JULIA</td><td>ZELLWEGER</td></tr>",
                            "<tr><td>JULIA</td><td>MCQUEEN</td></tr>",
                            "<tr><td>JULIA</td><td>BARRYMORE</td></tr>",
                            "<tr><td>JULIA</td><td>FAWCETT</td></tr>",
                            "<tr><td>JULIANNE</td><td>DENCH</td></tr>",
                            "<tr><td>KARL</td><td>BERRY</td></tr>",
                            "<tr><td>KENNETH</td><td>PESCI</td></tr>",
                            "<tr><td>KENNETH</td><td>PALTROW</td></tr>",
                            "<tr><td>KENNETH</td><td>TORN</td></tr>",
                            "<tr><td>KENNETH</td><td>HOFFMAN</td></tr>",
                            "<tr><td>KEVIN</td><td>GARLAND</td></tr>",
                            "<tr><td>KEVIN</td><td>BLOOM</td></tr>",
                            "<tr><td>KIM</td><td>ALLEN</td></tr>",
                            "<tr><td>KIRK</td><td>JOVOVICH</td></tr>",
                            "<tr><td>KIRSTEN</td><td>AKROYD</td></tr>",
                            "<tr><td>KIRSTEN</td><td>PALTROW</td></tr>",
                            "<tr><td>LAURA</td><td>BRODY</td></tr>",
                            "<tr><td>LAURENCE</td><td>BULLOCK</td></tr>",
                            "<tr><td>LISA</td><td>MONROE</td></tr>",
                            "<tr><td>LIZA</td><td>BERGMAN</td></tr>",
                            "<tr><td>LUCILLE</td><td>TRACY</td></tr>",
                            "<tr><td>LUCILLE</td><td>DEE</td></tr>",
                            "<tr><td>MAE</td><td>HOFFMAN</td></tr>",
                            "<tr><td>MARY</td><td>TANDY</td></tr>",
                            "<tr><td>MARY</td><td>KEITEL</td></tr>",
                            "<tr><td>MATTHEW</td><td>LEIGH</td></tr>",
                            "<tr><td>MATTHEW</td><td>CARREY</td></tr>",
                            "<tr><td>MATTHEW</td><td>JOHANSSON</td></tr>",
                            "<tr><td>MEG</td><td>HAWKE</td></tr>",
                            "<tr><td>MENA</td><td>HOPPER</td></tr>",
                            "<tr><td>MENA</td><td>TEMPLE</td></tr>",
                            "<tr><td>MERYL</td><td>GIBSON</td></tr>",
                            "<tr><td>MERYL</td><td>ALLEN</td></tr>",
                            "<tr><td>MICHAEL</td><td>BENING</td></tr>",
                            "<tr><td>MICHAEL</td><td>BOLGER</td></tr>",
                            "<tr><td>MICHELLE</td><td>MCCONAUGHEY</td></tr>",
                            "<tr><td>MILLA</td><td>PECK</td></tr>",
                            "<tr><td>MILLA</td><td>KEITEL</td></tr>",
                            "<tr><td>MINNIE</td><td>KILMER</td></tr>",
                            "<tr><td>MINNIE</td><td>ZELLWEGER</td></tr>",
                            "<tr><td>MORGAN</td><td>HOPKINS</td></tr>",
                            "<tr><td>MORGAN</td><td>WILLIAMS</td></tr>",
                            "<tr><td>MORGAN</td><td>MCDORMAND</td></tr>",
                            "<tr><td>NATALIE</td><td>HOPKINS</td></tr>",
                            "<tr><td>NICK</td><td>DEGENERES</td></tr>",
                            "<tr><td>NICK</td><td>WAHLBERG</td></tr>",
                            "<tr><td>NICK</td><td>STALLONE</td></tr>",
                            "<tr><td>OLYMPIA</td><td>PFEIFFER</td></tr>",
                            "<tr><td>OPRAH</td><td>KILMER</td></tr>",
                            "<tr><td>PARKER</td><td>GOLDBERG</td></tr>",
                            "<tr><td>PENELOPE</td><td>MONROE</td></tr>",
                            "<tr><td>PENELOPE</td><td>PINKETT</td></tr>",
                            "<tr><td>PENELOPE</td><td>GUINESS</td></tr>",
                            "<tr><td>PENELOPE</td><td>CRONYN</td></tr>",
                            "<tr><td>RALPH</td><td>CRUZ</td></tr>",
                            "<tr><td>RAY</td><td>JOHANSSON</td></tr>",
                            "<tr><td>REESE</td><td>KILMER</td></tr>",
                            "<tr><td>REESE</td><td>WEST</td></tr>",
                            "<tr><td>RENEE</td><td>TRACY</td></tr>",
                            "<tr><td>RENEE</td><td>BALL</td></tr>",
                            "<tr><td>RICHARD</td><td>PENN</td></tr>",
                            "<tr><td>RIP</td><td>CRAWFORD</td></tr>",
                            "<tr><td>RIP</td><td>WINSLET</td></tr>",
                            "<tr><td>RITA</td><td>REYNOLDS</td></tr>",
                            "<tr><td>RIVER</td><td>DEAN</td></tr>",
                            "<tr><td>ROCK</td><td>DUKAKIS</td></tr>",
                            "<tr><td>RUSSELL</td><td>TEMPLE</td></tr>",
                            "<tr><td>RUSSELL</td><td>BACALL</td></tr>",
                            "<tr><td>RUSSELL</td><td>CLOSE</td></tr>",
                            "<tr><td>SALMA</td><td>NOLTE</td></tr>",
                            "<tr><td>SANDRA</td><td>KILMER</td></tr>",
                            "<tr><td>SANDRA</td><td>PECK</td></tr>",
                            "<tr><td>SCARLETT</td><td>BENING</td></tr>",
                            "<tr><td>SCARLETT</td><td>DAMON</td></tr>",
                            "<tr><td>SEAN</td><td>GUINESS</td></tr>",
                            "<tr><td>SEAN</td><td>WILLIAMS</td></tr>",
                            "<tr><td>SIDNEY</td><td>CROWE</td></tr>",
                            "<tr><td>SISSY</td><td>SOBIESKI</td></tr>",
                            "<tr><td>SPENCER</td><td>DEPP</td></tr>",
                            "<tr><td>SPENCER</td><td>PECK</td></tr>",
                            "<tr><td>SUSAN</td><td>DAVIS</td></tr>",
                            "<tr><td>SUSAN</td><td>DAVIS</td></tr>",
                            "<tr><td>SYLVESTER</td><td>DERN</td></tr>",
                            "<tr><td>THORA</td><td>TEMPLE</td></tr>",
                            "<tr><td>TIM</td><td>HACKMAN</td></tr>",
                            "<tr><td>TOM</td><td>MIRANDA</td></tr>",
                            "<tr><td>TOM</td><td>MCKELLEN</td></tr>",
                            "<tr><td>UMA</td><td>WOOD</td></tr>",
                            "<tr><td>VAL</td><td>BOLGER</td></tr>",
                            "<tr><td>VIVIEN</td><td>BASINGER</td></tr>",
                            "<tr><td>VIVIEN</td><td>BERGEN</td></tr>",
                            "<tr><td>WALTER</td><td>TORN</td></tr>",
                            "<tr><td>WARREN</td><td>JACKMAN</td></tr>",
                            "<tr><td>WARREN</td><td>NOLTE</td></tr>",
                            "<tr><td>WHOOPI</td><td>HURT</td></tr>",
                            "<tr><td>WILL</td><td>WILSON</td></tr>",
                            "<tr><td>WILLIAM</td><td>HACKMAN</td></tr>",
                            "<tr><td>WOODY</td><td>JOLIE</td></tr>",
                            "<tr><td>WOODY</td><td>HOFFMAN</td></tr>",
                            "<tr><td>ZERO</td><td>CAGE</td></tr>",
                            "</table>"
                        ]
                    }
                }
            ],
            "execution_count": 7
        },
        {
            "cell_type": "code",
            "source": [
                "SELECT \r\n",
                "    first_name, \r\n",
                "    last_name \r\n",
                "FROM \r\n",
                "    actor\r\n",
                "ORDER BY \r\n",
                "    first_name, last_name;"
            ],
            "metadata": {
                "language": "sql",
                "azdata_cell_guid": "7a81815a-e834-4450-8f58-c1e3021ba2e2"
            },
            "outputs": [
                {
                    "output_type": "display_data",
                    "data": {
                        "text/html": "(200 row(s) affected)"
                    },
                    "metadata": {}
                },
                {
                    "output_type": "display_data",
                    "data": {
                        "text/html": "Total execution time: 00:00:01.004"
                    },
                    "metadata": {}
                },
                {
                    "output_type": "execute_result",
                    "metadata": {},
                    "execution_count": 8,
                    "data": {
                        "application/vnd.dataresource+json": {
                            "schema": {
                                "fields": [
                                    {
                                        "name": "first_name"
                                    },
                                    {
                                        "name": "last_name"
                                    }
                                ]
                            },
                            "data": [
                                {
                                    "first_name": "ADAM",
                                    "last_name": "GRANT"
                                },
                                {
                                    "first_name": "ADAM",
                                    "last_name": "HOPPER"
                                },
                                {
                                    "first_name": "AL",
                                    "last_name": "GARLAND"
                                },
                                {
                                    "first_name": "ALAN",
                                    "last_name": "DREYFUSS"
                                },
                                {
                                    "first_name": "ALBERT",
                                    "last_name": "JOHANSSON"
                                },
                                {
                                    "first_name": "ALBERT",
                                    "last_name": "NOLTE"
                                },
                                {
                                    "first_name": "ALEC",
                                    "last_name": "WAYNE"
                                },
                                {
                                    "first_name": "ANGELA",
                                    "last_name": "HUDSON"
                                },
                                {
                                    "first_name": "ANGELA",
                                    "last_name": "WITHERSPOON"
                                },
                                {
                                    "first_name": "ANGELINA",
                                    "last_name": "ASTAIRE"
                                },
                                {
                                    "first_name": "ANNE",
                                    "last_name": "CRONYN"
                                },
                                {
                                    "first_name": "AUDREY",
                                    "last_name": "BAILEY"
                                },
                                {
                                    "first_name": "AUDREY",
                                    "last_name": "OLIVIER"
                                },
                                {
                                    "first_name": "BELA",
                                    "last_name": "WALKEN"
                                },
                                {
                                    "first_name": "BEN",
                                    "last_name": "HARRIS"
                                },
                                {
                                    "first_name": "BEN",
                                    "last_name": "WILLIS"
                                },
                                {
                                    "first_name": "BETTE",
                                    "last_name": "NICHOLSON"
                                },
                                {
                                    "first_name": "BOB",
                                    "last_name": "FAWCETT"
                                },
                                {
                                    "first_name": "BURT",
                                    "last_name": "DUKAKIS"
                                },
                                {
                                    "first_name": "BURT",
                                    "last_name": "POSEY"
                                },
                                {
                                    "first_name": "BURT",
                                    "last_name": "TEMPLE"
                                },
                                {
                                    "first_name": "CAMERON",
                                    "last_name": "STREEP"
                                },
                                {
                                    "first_name": "CAMERON",
                                    "last_name": "WRAY"
                                },
                                {
                                    "first_name": "CAMERON",
                                    "last_name": "ZELLWEGER"
                                },
                                {
                                    "first_name": "CARMEN",
                                    "last_name": "HUNT"
                                },
                                {
                                    "first_name": "CARY",
                                    "last_name": "MCCONAUGHEY"
                                },
                                {
                                    "first_name": "CATE",
                                    "last_name": "HARRIS"
                                },
                                {
                                    "first_name": "CATE",
                                    "last_name": "MCQUEEN"
                                },
                                {
                                    "first_name": "CHARLIZE",
                                    "last_name": "DENCH"
                                },
                                {
                                    "first_name": "CHRIS",
                                    "last_name": "BRIDGES"
                                },
                                {
                                    "first_name": "CHRIS",
                                    "last_name": "DEPP"
                                },
                                {
                                    "first_name": "CHRISTIAN",
                                    "last_name": "AKROYD"
                                },
                                {
                                    "first_name": "CHRISTIAN",
                                    "last_name": "GABLE"
                                },
                                {
                                    "first_name": "CHRISTIAN",
                                    "last_name": "NEESON"
                                },
                                {
                                    "first_name": "CHRISTOPHER",
                                    "last_name": "BERRY"
                                },
                                {
                                    "first_name": "CHRISTOPHER",
                                    "last_name": "WEST"
                                },
                                {
                                    "first_name": "CUBA",
                                    "last_name": "ALLEN"
                                },
                                {
                                    "first_name": "CUBA",
                                    "last_name": "BIRCH"
                                },
                                {
                                    "first_name": "CUBA",
                                    "last_name": "OLIVIER"
                                },
                                {
                                    "first_name": "DAN",
                                    "last_name": "HARRIS"
                                },
                                {
                                    "first_name": "DAN",
                                    "last_name": "STREEP"
                                },
                                {
                                    "first_name": "DAN",
                                    "last_name": "TORN"
                                },
                                {
                                    "first_name": "DARYL",
                                    "last_name": "CRAWFORD"
                                },
                                {
                                    "first_name": "DARYL",
                                    "last_name": "WAHLBERG"
                                },
                                {
                                    "first_name": "DEBBIE",
                                    "last_name": "AKROYD"
                                },
                                {
                                    "first_name": "DUSTIN",
                                    "last_name": "TAUTOU"
                                },
                                {
                                    "first_name": "ED",
                                    "last_name": "CHASE"
                                },
                                {
                                    "first_name": "ED",
                                    "last_name": "GUINESS"
                                },
                                {
                                    "first_name": "ED",
                                    "last_name": "MANSFIELD"
                                },
                                {
                                    "first_name": "ELLEN",
                                    "last_name": "PRESLEY"
                                },
                                {
                                    "first_name": "ELVIS",
                                    "last_name": "MARX"
                                },
                                {
                                    "first_name": "EMILY",
                                    "last_name": "DEE"
                                },
                                {
                                    "first_name": "EWAN",
                                    "last_name": "GOODING"
                                },
                                {
                                    "first_name": "FAY",
                                    "last_name": "KILMER"
                                },
                                {
                                    "first_name": "FAY",
                                    "last_name": "WINSLET"
                                },
                                {
                                    "first_name": "FAY",
                                    "last_name": "WOOD"
                                },
                                {
                                    "first_name": "FRANCES",
                                    "last_name": "DAY-LEWIS"
                                },
                                {
                                    "first_name": "FRANCES",
                                    "last_name": "TOMEI"
                                },
                                {
                                    "first_name": "FRED",
                                    "last_name": "COSTNER"
                                },
                                {
                                    "first_name": "GARY",
                                    "last_name": "PENN"
                                },
                                {
                                    "first_name": "GARY",
                                    "last_name": "PHOENIX"
                                },
                                {
                                    "first_name": "GENE",
                                    "last_name": "HOPKINS"
                                },
                                {
                                    "first_name": "GENE",
                                    "last_name": "MCKELLEN"
                                },
                                {
                                    "first_name": "GENE",
                                    "last_name": "WILLIS"
                                },
                                {
                                    "first_name": "GEOFFREY",
                                    "last_name": "HESTON"
                                },
                                {
                                    "first_name": "GINA",
                                    "last_name": "DEGENERES"
                                },
                                {
                                    "first_name": "GOLDIE",
                                    "last_name": "BRODY"
                                },
                                {
                                    "first_name": "GRACE",
                                    "last_name": "MOSTEL"
                                },
                                {
                                    "first_name": "GREG",
                                    "last_name": "CHAPLIN"
                                },
                                {
                                    "first_name": "GREGORY",
                                    "last_name": "GOODING"
                                },
                                {
                                    "first_name": "GRETA",
                                    "last_name": "KEITEL"
                                },
                                {
                                    "first_name": "GRETA",
                                    "last_name": "MALDEN"
                                },
                                {
                                    "first_name": "GROUCHO",
                                    "last_name": "DUNST"
                                },
                                {
                                    "first_name": "GROUCHO",
                                    "last_name": "SINATRA"
                                },
                                {
                                    "first_name": "GROUCHO",
                                    "last_name": "WILLIAMS"
                                },
                                {
                                    "first_name": "HARRISON",
                                    "last_name": "BALE"
                                },
                                {
                                    "first_name": "HARVEY",
                                    "last_name": "HOPE"
                                },
                                {
                                    "first_name": "HELEN",
                                    "last_name": "VOIGHT"
                                },
                                {
                                    "first_name": "HENRY",
                                    "last_name": "BERRY"
                                },
                                {
                                    "first_name": "HUMPHREY",
                                    "last_name": "GARLAND"
                                },
                                {
                                    "first_name": "HUMPHREY",
                                    "last_name": "WILLIS"
                                },
                                {
                                    "first_name": "IAN",
                                    "last_name": "TANDY"
                                },
                                {
                                    "first_name": "JADA",
                                    "last_name": "RYDER"
                                },
                                {
                                    "first_name": "JAMES",
                                    "last_name": "PITT"
                                },
                                {
                                    "first_name": "JANE",
                                    "last_name": "JACKMAN"
                                },
                                {
                                    "first_name": "JAYNE",
                                    "last_name": "NEESON"
                                },
                                {
                                    "first_name": "JAYNE",
                                    "last_name": "NOLTE"
                                },
                                {
                                    "first_name": "JAYNE",
                                    "last_name": "SILVERSTONE"
                                },
                                {
                                    "first_name": "JEFF",
                                    "last_name": "SILVERSTONE"
                                },
                                {
                                    "first_name": "JENNIFER",
                                    "last_name": "DAVIS"
                                },
                                {
                                    "first_name": "JESSICA",
                                    "last_name": "BAILEY"
                                },
                                {
                                    "first_name": "JIM",
                                    "last_name": "MOSTEL"
                                },
                                {
                                    "first_name": "JODIE",
                                    "last_name": "DEGENERES"
                                },
                                {
                                    "first_name": "JOE",
                                    "last_name": "SWANK"
                                },
                                {
                                    "first_name": "JOHN",
                                    "last_name": "SUVARI"
                                },
                                {
                                    "first_name": "JOHNNY",
                                    "last_name": "CAGE"
                                },
                                {
                                    "first_name": "JOHNNY",
                                    "last_name": "LOLLOBRIGIDA"
                                },
                                {
                                    "first_name": "JON",
                                    "last_name": "CHASE"
                                },
                                {
                                    "first_name": "JUDE",
                                    "last_name": "CRUISE"
                                },
                                {
                                    "first_name": "JUDY",
                                    "last_name": "DEAN"
                                },
                                {
                                    "first_name": "JULIA",
                                    "last_name": "BARRYMORE"
                                },
                                {
                                    "first_name": "JULIA",
                                    "last_name": "FAWCETT"
                                },
                                {
                                    "first_name": "JULIA",
                                    "last_name": "MCQUEEN"
                                },
                                {
                                    "first_name": "JULIA",
                                    "last_name": "ZELLWEGER"
                                },
                                {
                                    "first_name": "JULIANNE",
                                    "last_name": "DENCH"
                                },
                                {
                                    "first_name": "KARL",
                                    "last_name": "BERRY"
                                },
                                {
                                    "first_name": "KENNETH",
                                    "last_name": "HOFFMAN"
                                },
                                {
                                    "first_name": "KENNETH",
                                    "last_name": "PALTROW"
                                },
                                {
                                    "first_name": "KENNETH",
                                    "last_name": "PESCI"
                                },
                                {
                                    "first_name": "KENNETH",
                                    "last_name": "TORN"
                                },
                                {
                                    "first_name": "KEVIN",
                                    "last_name": "BLOOM"
                                },
                                {
                                    "first_name": "KEVIN",
                                    "last_name": "GARLAND"
                                },
                                {
                                    "first_name": "KIM",
                                    "last_name": "ALLEN"
                                },
                                {
                                    "first_name": "KIRK",
                                    "last_name": "JOVOVICH"
                                },
                                {
                                    "first_name": "KIRSTEN",
                                    "last_name": "AKROYD"
                                },
                                {
                                    "first_name": "KIRSTEN",
                                    "last_name": "PALTROW"
                                },
                                {
                                    "first_name": "LAURA",
                                    "last_name": "BRODY"
                                },
                                {
                                    "first_name": "LAURENCE",
                                    "last_name": "BULLOCK"
                                },
                                {
                                    "first_name": "LISA",
                                    "last_name": "MONROE"
                                },
                                {
                                    "first_name": "LIZA",
                                    "last_name": "BERGMAN"
                                },
                                {
                                    "first_name": "LUCILLE",
                                    "last_name": "DEE"
                                },
                                {
                                    "first_name": "LUCILLE",
                                    "last_name": "TRACY"
                                },
                                {
                                    "first_name": "MAE",
                                    "last_name": "HOFFMAN"
                                },
                                {
                                    "first_name": "MARY",
                                    "last_name": "KEITEL"
                                },
                                {
                                    "first_name": "MARY",
                                    "last_name": "TANDY"
                                },
                                {
                                    "first_name": "MATTHEW",
                                    "last_name": "CARREY"
                                },
                                {
                                    "first_name": "MATTHEW",
                                    "last_name": "JOHANSSON"
                                },
                                {
                                    "first_name": "MATTHEW",
                                    "last_name": "LEIGH"
                                },
                                {
                                    "first_name": "MEG",
                                    "last_name": "HAWKE"
                                },
                                {
                                    "first_name": "MENA",
                                    "last_name": "HOPPER"
                                },
                                {
                                    "first_name": "MENA",
                                    "last_name": "TEMPLE"
                                },
                                {
                                    "first_name": "MERYL",
                                    "last_name": "ALLEN"
                                },
                                {
                                    "first_name": "MERYL",
                                    "last_name": "GIBSON"
                                },
                                {
                                    "first_name": "MICHAEL",
                                    "last_name": "BENING"
                                },
                                {
                                    "first_name": "MICHAEL",
                                    "last_name": "BOLGER"
                                },
                                {
                                    "first_name": "MICHELLE",
                                    "last_name": "MCCONAUGHEY"
                                },
                                {
                                    "first_name": "MILLA",
                                    "last_name": "KEITEL"
                                },
                                {
                                    "first_name": "MILLA",
                                    "last_name": "PECK"
                                },
                                {
                                    "first_name": "MINNIE",
                                    "last_name": "KILMER"
                                },
                                {
                                    "first_name": "MINNIE",
                                    "last_name": "ZELLWEGER"
                                },
                                {
                                    "first_name": "MORGAN",
                                    "last_name": "HOPKINS"
                                },
                                {
                                    "first_name": "MORGAN",
                                    "last_name": "MCDORMAND"
                                },
                                {
                                    "first_name": "MORGAN",
                                    "last_name": "WILLIAMS"
                                },
                                {
                                    "first_name": "NATALIE",
                                    "last_name": "HOPKINS"
                                },
                                {
                                    "first_name": "NICK",
                                    "last_name": "DEGENERES"
                                },
                                {
                                    "first_name": "NICK",
                                    "last_name": "STALLONE"
                                },
                                {
                                    "first_name": "NICK",
                                    "last_name": "WAHLBERG"
                                },
                                {
                                    "first_name": "OLYMPIA",
                                    "last_name": "PFEIFFER"
                                },
                                {
                                    "first_name": "OPRAH",
                                    "last_name": "KILMER"
                                },
                                {
                                    "first_name": "PARKER",
                                    "last_name": "GOLDBERG"
                                },
                                {
                                    "first_name": "PENELOPE",
                                    "last_name": "CRONYN"
                                },
                                {
                                    "first_name": "PENELOPE",
                                    "last_name": "GUINESS"
                                },
                                {
                                    "first_name": "PENELOPE",
                                    "last_name": "MONROE"
                                },
                                {
                                    "first_name": "PENELOPE",
                                    "last_name": "PINKETT"
                                },
                                {
                                    "first_name": "RALPH",
                                    "last_name": "CRUZ"
                                },
                                {
                                    "first_name": "RAY",
                                    "last_name": "JOHANSSON"
                                },
                                {
                                    "first_name": "REESE",
                                    "last_name": "KILMER"
                                },
                                {
                                    "first_name": "REESE",
                                    "last_name": "WEST"
                                },
                                {
                                    "first_name": "RENEE",
                                    "last_name": "BALL"
                                },
                                {
                                    "first_name": "RENEE",
                                    "last_name": "TRACY"
                                },
                                {
                                    "first_name": "RICHARD",
                                    "last_name": "PENN"
                                },
                                {
                                    "first_name": "RIP",
                                    "last_name": "CRAWFORD"
                                },
                                {
                                    "first_name": "RIP",
                                    "last_name": "WINSLET"
                                },
                                {
                                    "first_name": "RITA",
                                    "last_name": "REYNOLDS"
                                },
                                {
                                    "first_name": "RIVER",
                                    "last_name": "DEAN"
                                },
                                {
                                    "first_name": "ROCK",
                                    "last_name": "DUKAKIS"
                                },
                                {
                                    "first_name": "RUSSELL",
                                    "last_name": "BACALL"
                                },
                                {
                                    "first_name": "RUSSELL",
                                    "last_name": "CLOSE"
                                },
                                {
                                    "first_name": "RUSSELL",
                                    "last_name": "TEMPLE"
                                },
                                {
                                    "first_name": "SALMA",
                                    "last_name": "NOLTE"
                                },
                                {
                                    "first_name": "SANDRA",
                                    "last_name": "KILMER"
                                },
                                {
                                    "first_name": "SANDRA",
                                    "last_name": "PECK"
                                },
                                {
                                    "first_name": "SCARLETT",
                                    "last_name": "BENING"
                                },
                                {
                                    "first_name": "SCARLETT",
                                    "last_name": "DAMON"
                                },
                                {
                                    "first_name": "SEAN",
                                    "last_name": "GUINESS"
                                },
                                {
                                    "first_name": "SEAN",
                                    "last_name": "WILLIAMS"
                                },
                                {
                                    "first_name": "SIDNEY",
                                    "last_name": "CROWE"
                                },
                                {
                                    "first_name": "SISSY",
                                    "last_name": "SOBIESKI"
                                },
                                {
                                    "first_name": "SPENCER",
                                    "last_name": "DEPP"
                                },
                                {
                                    "first_name": "SPENCER",
                                    "last_name": "PECK"
                                },
                                {
                                    "first_name": "SUSAN",
                                    "last_name": "DAVIS"
                                },
                                {
                                    "first_name": "SUSAN",
                                    "last_name": "DAVIS"
                                },
                                {
                                    "first_name": "SYLVESTER",
                                    "last_name": "DERN"
                                },
                                {
                                    "first_name": "THORA",
                                    "last_name": "TEMPLE"
                                },
                                {
                                    "first_name": "TIM",
                                    "last_name": "HACKMAN"
                                },
                                {
                                    "first_name": "TOM",
                                    "last_name": "MCKELLEN"
                                },
                                {
                                    "first_name": "TOM",
                                    "last_name": "MIRANDA"
                                },
                                {
                                    "first_name": "UMA",
                                    "last_name": "WOOD"
                                },
                                {
                                    "first_name": "VAL",
                                    "last_name": "BOLGER"
                                },
                                {
                                    "first_name": "VIVIEN",
                                    "last_name": "BASINGER"
                                },
                                {
                                    "first_name": "VIVIEN",
                                    "last_name": "BERGEN"
                                },
                                {
                                    "first_name": "WALTER",
                                    "last_name": "TORN"
                                },
                                {
                                    "first_name": "WARREN",
                                    "last_name": "JACKMAN"
                                },
                                {
                                    "first_name": "WARREN",
                                    "last_name": "NOLTE"
                                },
                                {
                                    "first_name": "WHOOPI",
                                    "last_name": "HURT"
                                },
                                {
                                    "first_name": "WILL",
                                    "last_name": "WILSON"
                                },
                                {
                                    "first_name": "WILLIAM",
                                    "last_name": "HACKMAN"
                                },
                                {
                                    "first_name": "WOODY",
                                    "last_name": "HOFFMAN"
                                },
                                {
                                    "first_name": "WOODY",
                                    "last_name": "JOLIE"
                                },
                                {
                                    "first_name": "ZERO",
                                    "last_name": "CAGE"
                                }
                            ]
                        },
                        "text/html": [
                            "<table>",
                            "<tr><th>first_name</th><th>last_name</th></tr>",
                            "<tr><td>ADAM</td><td>GRANT</td></tr>",
                            "<tr><td>ADAM</td><td>HOPPER</td></tr>",
                            "<tr><td>AL</td><td>GARLAND</td></tr>",
                            "<tr><td>ALAN</td><td>DREYFUSS</td></tr>",
                            "<tr><td>ALBERT</td><td>JOHANSSON</td></tr>",
                            "<tr><td>ALBERT</td><td>NOLTE</td></tr>",
                            "<tr><td>ALEC</td><td>WAYNE</td></tr>",
                            "<tr><td>ANGELA</td><td>HUDSON</td></tr>",
                            "<tr><td>ANGELA</td><td>WITHERSPOON</td></tr>",
                            "<tr><td>ANGELINA</td><td>ASTAIRE</td></tr>",
                            "<tr><td>ANNE</td><td>CRONYN</td></tr>",
                            "<tr><td>AUDREY</td><td>BAILEY</td></tr>",
                            "<tr><td>AUDREY</td><td>OLIVIER</td></tr>",
                            "<tr><td>BELA</td><td>WALKEN</td></tr>",
                            "<tr><td>BEN</td><td>HARRIS</td></tr>",
                            "<tr><td>BEN</td><td>WILLIS</td></tr>",
                            "<tr><td>BETTE</td><td>NICHOLSON</td></tr>",
                            "<tr><td>BOB</td><td>FAWCETT</td></tr>",
                            "<tr><td>BURT</td><td>DUKAKIS</td></tr>",
                            "<tr><td>BURT</td><td>POSEY</td></tr>",
                            "<tr><td>BURT</td><td>TEMPLE</td></tr>",
                            "<tr><td>CAMERON</td><td>STREEP</td></tr>",
                            "<tr><td>CAMERON</td><td>WRAY</td></tr>",
                            "<tr><td>CAMERON</td><td>ZELLWEGER</td></tr>",
                            "<tr><td>CARMEN</td><td>HUNT</td></tr>",
                            "<tr><td>CARY</td><td>MCCONAUGHEY</td></tr>",
                            "<tr><td>CATE</td><td>HARRIS</td></tr>",
                            "<tr><td>CATE</td><td>MCQUEEN</td></tr>",
                            "<tr><td>CHARLIZE</td><td>DENCH</td></tr>",
                            "<tr><td>CHRIS</td><td>BRIDGES</td></tr>",
                            "<tr><td>CHRIS</td><td>DEPP</td></tr>",
                            "<tr><td>CHRISTIAN</td><td>AKROYD</td></tr>",
                            "<tr><td>CHRISTIAN</td><td>GABLE</td></tr>",
                            "<tr><td>CHRISTIAN</td><td>NEESON</td></tr>",
                            "<tr><td>CHRISTOPHER</td><td>BERRY</td></tr>",
                            "<tr><td>CHRISTOPHER</td><td>WEST</td></tr>",
                            "<tr><td>CUBA</td><td>ALLEN</td></tr>",
                            "<tr><td>CUBA</td><td>BIRCH</td></tr>",
                            "<tr><td>CUBA</td><td>OLIVIER</td></tr>",
                            "<tr><td>DAN</td><td>HARRIS</td></tr>",
                            "<tr><td>DAN</td><td>STREEP</td></tr>",
                            "<tr><td>DAN</td><td>TORN</td></tr>",
                            "<tr><td>DARYL</td><td>CRAWFORD</td></tr>",
                            "<tr><td>DARYL</td><td>WAHLBERG</td></tr>",
                            "<tr><td>DEBBIE</td><td>AKROYD</td></tr>",
                            "<tr><td>DUSTIN</td><td>TAUTOU</td></tr>",
                            "<tr><td>ED</td><td>CHASE</td></tr>",
                            "<tr><td>ED</td><td>GUINESS</td></tr>",
                            "<tr><td>ED</td><td>MANSFIELD</td></tr>",
                            "<tr><td>ELLEN</td><td>PRESLEY</td></tr>",
                            "<tr><td>ELVIS</td><td>MARX</td></tr>",
                            "<tr><td>EMILY</td><td>DEE</td></tr>",
                            "<tr><td>EWAN</td><td>GOODING</td></tr>",
                            "<tr><td>FAY</td><td>KILMER</td></tr>",
                            "<tr><td>FAY</td><td>WINSLET</td></tr>",
                            "<tr><td>FAY</td><td>WOOD</td></tr>",
                            "<tr><td>FRANCES</td><td>DAY-LEWIS</td></tr>",
                            "<tr><td>FRANCES</td><td>TOMEI</td></tr>",
                            "<tr><td>FRED</td><td>COSTNER</td></tr>",
                            "<tr><td>GARY</td><td>PENN</td></tr>",
                            "<tr><td>GARY</td><td>PHOENIX</td></tr>",
                            "<tr><td>GENE</td><td>HOPKINS</td></tr>",
                            "<tr><td>GENE</td><td>MCKELLEN</td></tr>",
                            "<tr><td>GENE</td><td>WILLIS</td></tr>",
                            "<tr><td>GEOFFREY</td><td>HESTON</td></tr>",
                            "<tr><td>GINA</td><td>DEGENERES</td></tr>",
                            "<tr><td>GOLDIE</td><td>BRODY</td></tr>",
                            "<tr><td>GRACE</td><td>MOSTEL</td></tr>",
                            "<tr><td>GREG</td><td>CHAPLIN</td></tr>",
                            "<tr><td>GREGORY</td><td>GOODING</td></tr>",
                            "<tr><td>GRETA</td><td>KEITEL</td></tr>",
                            "<tr><td>GRETA</td><td>MALDEN</td></tr>",
                            "<tr><td>GROUCHO</td><td>DUNST</td></tr>",
                            "<tr><td>GROUCHO</td><td>SINATRA</td></tr>",
                            "<tr><td>GROUCHO</td><td>WILLIAMS</td></tr>",
                            "<tr><td>HARRISON</td><td>BALE</td></tr>",
                            "<tr><td>HARVEY</td><td>HOPE</td></tr>",
                            "<tr><td>HELEN</td><td>VOIGHT</td></tr>",
                            "<tr><td>HENRY</td><td>BERRY</td></tr>",
                            "<tr><td>HUMPHREY</td><td>GARLAND</td></tr>",
                            "<tr><td>HUMPHREY</td><td>WILLIS</td></tr>",
                            "<tr><td>IAN</td><td>TANDY</td></tr>",
                            "<tr><td>JADA</td><td>RYDER</td></tr>",
                            "<tr><td>JAMES</td><td>PITT</td></tr>",
                            "<tr><td>JANE</td><td>JACKMAN</td></tr>",
                            "<tr><td>JAYNE</td><td>NEESON</td></tr>",
                            "<tr><td>JAYNE</td><td>NOLTE</td></tr>",
                            "<tr><td>JAYNE</td><td>SILVERSTONE</td></tr>",
                            "<tr><td>JEFF</td><td>SILVERSTONE</td></tr>",
                            "<tr><td>JENNIFER</td><td>DAVIS</td></tr>",
                            "<tr><td>JESSICA</td><td>BAILEY</td></tr>",
                            "<tr><td>JIM</td><td>MOSTEL</td></tr>",
                            "<tr><td>JODIE</td><td>DEGENERES</td></tr>",
                            "<tr><td>JOE</td><td>SWANK</td></tr>",
                            "<tr><td>JOHN</td><td>SUVARI</td></tr>",
                            "<tr><td>JOHNNY</td><td>CAGE</td></tr>",
                            "<tr><td>JOHNNY</td><td>LOLLOBRIGIDA</td></tr>",
                            "<tr><td>JON</td><td>CHASE</td></tr>",
                            "<tr><td>JUDE</td><td>CRUISE</td></tr>",
                            "<tr><td>JUDY</td><td>DEAN</td></tr>",
                            "<tr><td>JULIA</td><td>BARRYMORE</td></tr>",
                            "<tr><td>JULIA</td><td>FAWCETT</td></tr>",
                            "<tr><td>JULIA</td><td>MCQUEEN</td></tr>",
                            "<tr><td>JULIA</td><td>ZELLWEGER</td></tr>",
                            "<tr><td>JULIANNE</td><td>DENCH</td></tr>",
                            "<tr><td>KARL</td><td>BERRY</td></tr>",
                            "<tr><td>KENNETH</td><td>HOFFMAN</td></tr>",
                            "<tr><td>KENNETH</td><td>PALTROW</td></tr>",
                            "<tr><td>KENNETH</td><td>PESCI</td></tr>",
                            "<tr><td>KENNETH</td><td>TORN</td></tr>",
                            "<tr><td>KEVIN</td><td>BLOOM</td></tr>",
                            "<tr><td>KEVIN</td><td>GARLAND</td></tr>",
                            "<tr><td>KIM</td><td>ALLEN</td></tr>",
                            "<tr><td>KIRK</td><td>JOVOVICH</td></tr>",
                            "<tr><td>KIRSTEN</td><td>AKROYD</td></tr>",
                            "<tr><td>KIRSTEN</td><td>PALTROW</td></tr>",
                            "<tr><td>LAURA</td><td>BRODY</td></tr>",
                            "<tr><td>LAURENCE</td><td>BULLOCK</td></tr>",
                            "<tr><td>LISA</td><td>MONROE</td></tr>",
                            "<tr><td>LIZA</td><td>BERGMAN</td></tr>",
                            "<tr><td>LUCILLE</td><td>DEE</td></tr>",
                            "<tr><td>LUCILLE</td><td>TRACY</td></tr>",
                            "<tr><td>MAE</td><td>HOFFMAN</td></tr>",
                            "<tr><td>MARY</td><td>KEITEL</td></tr>",
                            "<tr><td>MARY</td><td>TANDY</td></tr>",
                            "<tr><td>MATTHEW</td><td>CARREY</td></tr>",
                            "<tr><td>MATTHEW</td><td>JOHANSSON</td></tr>",
                            "<tr><td>MATTHEW</td><td>LEIGH</td></tr>",
                            "<tr><td>MEG</td><td>HAWKE</td></tr>",
                            "<tr><td>MENA</td><td>HOPPER</td></tr>",
                            "<tr><td>MENA</td><td>TEMPLE</td></tr>",
                            "<tr><td>MERYL</td><td>ALLEN</td></tr>",
                            "<tr><td>MERYL</td><td>GIBSON</td></tr>",
                            "<tr><td>MICHAEL</td><td>BENING</td></tr>",
                            "<tr><td>MICHAEL</td><td>BOLGER</td></tr>",
                            "<tr><td>MICHELLE</td><td>MCCONAUGHEY</td></tr>",
                            "<tr><td>MILLA</td><td>KEITEL</td></tr>",
                            "<tr><td>MILLA</td><td>PECK</td></tr>",
                            "<tr><td>MINNIE</td><td>KILMER</td></tr>",
                            "<tr><td>MINNIE</td><td>ZELLWEGER</td></tr>",
                            "<tr><td>MORGAN</td><td>HOPKINS</td></tr>",
                            "<tr><td>MORGAN</td><td>MCDORMAND</td></tr>",
                            "<tr><td>MORGAN</td><td>WILLIAMS</td></tr>",
                            "<tr><td>NATALIE</td><td>HOPKINS</td></tr>",
                            "<tr><td>NICK</td><td>DEGENERES</td></tr>",
                            "<tr><td>NICK</td><td>STALLONE</td></tr>",
                            "<tr><td>NICK</td><td>WAHLBERG</td></tr>",
                            "<tr><td>OLYMPIA</td><td>PFEIFFER</td></tr>",
                            "<tr><td>OPRAH</td><td>KILMER</td></tr>",
                            "<tr><td>PARKER</td><td>GOLDBERG</td></tr>",
                            "<tr><td>PENELOPE</td><td>CRONYN</td></tr>",
                            "<tr><td>PENELOPE</td><td>GUINESS</td></tr>",
                            "<tr><td>PENELOPE</td><td>MONROE</td></tr>",
                            "<tr><td>PENELOPE</td><td>PINKETT</td></tr>",
                            "<tr><td>RALPH</td><td>CRUZ</td></tr>",
                            "<tr><td>RAY</td><td>JOHANSSON</td></tr>",
                            "<tr><td>REESE</td><td>KILMER</td></tr>",
                            "<tr><td>REESE</td><td>WEST</td></tr>",
                            "<tr><td>RENEE</td><td>BALL</td></tr>",
                            "<tr><td>RENEE</td><td>TRACY</td></tr>",
                            "<tr><td>RICHARD</td><td>PENN</td></tr>",
                            "<tr><td>RIP</td><td>CRAWFORD</td></tr>",
                            "<tr><td>RIP</td><td>WINSLET</td></tr>",
                            "<tr><td>RITA</td><td>REYNOLDS</td></tr>",
                            "<tr><td>RIVER</td><td>DEAN</td></tr>",
                            "<tr><td>ROCK</td><td>DUKAKIS</td></tr>",
                            "<tr><td>RUSSELL</td><td>BACALL</td></tr>",
                            "<tr><td>RUSSELL</td><td>CLOSE</td></tr>",
                            "<tr><td>RUSSELL</td><td>TEMPLE</td></tr>",
                            "<tr><td>SALMA</td><td>NOLTE</td></tr>",
                            "<tr><td>SANDRA</td><td>KILMER</td></tr>",
                            "<tr><td>SANDRA</td><td>PECK</td></tr>",
                            "<tr><td>SCARLETT</td><td>BENING</td></tr>",
                            "<tr><td>SCARLETT</td><td>DAMON</td></tr>",
                            "<tr><td>SEAN</td><td>GUINESS</td></tr>",
                            "<tr><td>SEAN</td><td>WILLIAMS</td></tr>",
                            "<tr><td>SIDNEY</td><td>CROWE</td></tr>",
                            "<tr><td>SISSY</td><td>SOBIESKI</td></tr>",
                            "<tr><td>SPENCER</td><td>DEPP</td></tr>",
                            "<tr><td>SPENCER</td><td>PECK</td></tr>",
                            "<tr><td>SUSAN</td><td>DAVIS</td></tr>",
                            "<tr><td>SUSAN</td><td>DAVIS</td></tr>",
                            "<tr><td>SYLVESTER</td><td>DERN</td></tr>",
                            "<tr><td>THORA</td><td>TEMPLE</td></tr>",
                            "<tr><td>TIM</td><td>HACKMAN</td></tr>",
                            "<tr><td>TOM</td><td>MCKELLEN</td></tr>",
                            "<tr><td>TOM</td><td>MIRANDA</td></tr>",
                            "<tr><td>UMA</td><td>WOOD</td></tr>",
                            "<tr><td>VAL</td><td>BOLGER</td></tr>",
                            "<tr><td>VIVIEN</td><td>BASINGER</td></tr>",
                            "<tr><td>VIVIEN</td><td>BERGEN</td></tr>",
                            "<tr><td>WALTER</td><td>TORN</td></tr>",
                            "<tr><td>WARREN</td><td>JACKMAN</td></tr>",
                            "<tr><td>WARREN</td><td>NOLTE</td></tr>",
                            "<tr><td>WHOOPI</td><td>HURT</td></tr>",
                            "<tr><td>WILL</td><td>WILSON</td></tr>",
                            "<tr><td>WILLIAM</td><td>HACKMAN</td></tr>",
                            "<tr><td>WOODY</td><td>HOFFMAN</td></tr>",
                            "<tr><td>WOODY</td><td>JOLIE</td></tr>",
                            "<tr><td>ZERO</td><td>CAGE</td></tr>",
                            "</table>"
                        ]
                    }
                }
            ],
            "execution_count": 8
        },
        {
            "cell_type": "code",
            "source": [
                "SELECT \r\n",
                "    first_name, \r\n",
                "    last_name \r\n",
                "FROM \r\n",
                "    actor\r\n",
                "ORDER BY \r\n",
                "    first_name DESC;"
            ],
            "metadata": {
                "azdata_cell_guid": "98119f79-2a41-4218-82dd-57d4fbcaf160",
                "language": "sql"
            },
            "outputs": [
                {
                    "output_type": "display_data",
                    "data": {
                        "text/html": "(200 row(s) affected)"
                    },
                    "metadata": {}
                },
                {
                    "output_type": "display_data",
                    "data": {
                        "text/html": "Total execution time: 00:00:01.010"
                    },
                    "metadata": {}
                },
                {
                    "output_type": "execute_result",
                    "metadata": {},
                    "execution_count": 9,
                    "data": {
                        "application/vnd.dataresource+json": {
                            "schema": {
                                "fields": [
                                    {
                                        "name": "first_name"
                                    },
                                    {
                                        "name": "last_name"
                                    }
                                ]
                            },
                            "data": [
                                {
                                    "first_name": "ZERO",
                                    "last_name": "CAGE"
                                },
                                {
                                    "first_name": "WOODY",
                                    "last_name": "JOLIE"
                                },
                                {
                                    "first_name": "WOODY",
                                    "last_name": "HOFFMAN"
                                },
                                {
                                    "first_name": "WILLIAM",
                                    "last_name": "HACKMAN"
                                },
                                {
                                    "first_name": "WILL",
                                    "last_name": "WILSON"
                                },
                                {
                                    "first_name": "WHOOPI",
                                    "last_name": "HURT"
                                },
                                {
                                    "first_name": "WARREN",
                                    "last_name": "JACKMAN"
                                },
                                {
                                    "first_name": "WARREN",
                                    "last_name": "NOLTE"
                                },
                                {
                                    "first_name": "WALTER",
                                    "last_name": "TORN"
                                },
                                {
                                    "first_name": "VIVIEN",
                                    "last_name": "BERGEN"
                                },
                                {
                                    "first_name": "VIVIEN",
                                    "last_name": "BASINGER"
                                },
                                {
                                    "first_name": "VAL",
                                    "last_name": "BOLGER"
                                },
                                {
                                    "first_name": "UMA",
                                    "last_name": "WOOD"
                                },
                                {
                                    "first_name": "TOM",
                                    "last_name": "MCKELLEN"
                                },
                                {
                                    "first_name": "TOM",
                                    "last_name": "MIRANDA"
                                },
                                {
                                    "first_name": "TIM",
                                    "last_name": "HACKMAN"
                                },
                                {
                                    "first_name": "THORA",
                                    "last_name": "TEMPLE"
                                },
                                {
                                    "first_name": "SYLVESTER",
                                    "last_name": "DERN"
                                },
                                {
                                    "first_name": "SUSAN",
                                    "last_name": "DAVIS"
                                },
                                {
                                    "first_name": "SUSAN",
                                    "last_name": "DAVIS"
                                },
                                {
                                    "first_name": "SPENCER",
                                    "last_name": "PECK"
                                },
                                {
                                    "first_name": "SPENCER",
                                    "last_name": "DEPP"
                                },
                                {
                                    "first_name": "SISSY",
                                    "last_name": "SOBIESKI"
                                },
                                {
                                    "first_name": "SIDNEY",
                                    "last_name": "CROWE"
                                },
                                {
                                    "first_name": "SEAN",
                                    "last_name": "WILLIAMS"
                                },
                                {
                                    "first_name": "SEAN",
                                    "last_name": "GUINESS"
                                },
                                {
                                    "first_name": "SCARLETT",
                                    "last_name": "DAMON"
                                },
                                {
                                    "first_name": "SCARLETT",
                                    "last_name": "BENING"
                                },
                                {
                                    "first_name": "SANDRA",
                                    "last_name": "PECK"
                                },
                                {
                                    "first_name": "SANDRA",
                                    "last_name": "KILMER"
                                },
                                {
                                    "first_name": "SALMA",
                                    "last_name": "NOLTE"
                                },
                                {
                                    "first_name": "RUSSELL",
                                    "last_name": "TEMPLE"
                                },
                                {
                                    "first_name": "RUSSELL",
                                    "last_name": "BACALL"
                                },
                                {
                                    "first_name": "RUSSELL",
                                    "last_name": "CLOSE"
                                },
                                {
                                    "first_name": "ROCK",
                                    "last_name": "DUKAKIS"
                                },
                                {
                                    "first_name": "RIVER",
                                    "last_name": "DEAN"
                                },
                                {
                                    "first_name": "RITA",
                                    "last_name": "REYNOLDS"
                                },
                                {
                                    "first_name": "RIP",
                                    "last_name": "WINSLET"
                                },
                                {
                                    "first_name": "RIP",
                                    "last_name": "CRAWFORD"
                                },
                                {
                                    "first_name": "RICHARD",
                                    "last_name": "PENN"
                                },
                                {
                                    "first_name": "RENEE",
                                    "last_name": "TRACY"
                                },
                                {
                                    "first_name": "RENEE",
                                    "last_name": "BALL"
                                },
                                {
                                    "first_name": "REESE",
                                    "last_name": "WEST"
                                },
                                {
                                    "first_name": "REESE",
                                    "last_name": "KILMER"
                                },
                                {
                                    "first_name": "RAY",
                                    "last_name": "JOHANSSON"
                                },
                                {
                                    "first_name": "RALPH",
                                    "last_name": "CRUZ"
                                },
                                {
                                    "first_name": "PENELOPE",
                                    "last_name": "CRONYN"
                                },
                                {
                                    "first_name": "PENELOPE",
                                    "last_name": "MONROE"
                                },
                                {
                                    "first_name": "PENELOPE",
                                    "last_name": "GUINESS"
                                },
                                {
                                    "first_name": "PENELOPE",
                                    "last_name": "PINKETT"
                                },
                                {
                                    "first_name": "PARKER",
                                    "last_name": "GOLDBERG"
                                },
                                {
                                    "first_name": "OPRAH",
                                    "last_name": "KILMER"
                                },
                                {
                                    "first_name": "OLYMPIA",
                                    "last_name": "PFEIFFER"
                                },
                                {
                                    "first_name": "NICK",
                                    "last_name": "WAHLBERG"
                                },
                                {
                                    "first_name": "NICK",
                                    "last_name": "STALLONE"
                                },
                                {
                                    "first_name": "NICK",
                                    "last_name": "DEGENERES"
                                },
                                {
                                    "first_name": "NATALIE",
                                    "last_name": "HOPKINS"
                                },
                                {
                                    "first_name": "MORGAN",
                                    "last_name": "WILLIAMS"
                                },
                                {
                                    "first_name": "MORGAN",
                                    "last_name": "MCDORMAND"
                                },
                                {
                                    "first_name": "MORGAN",
                                    "last_name": "HOPKINS"
                                },
                                {
                                    "first_name": "MINNIE",
                                    "last_name": "KILMER"
                                },
                                {
                                    "first_name": "MINNIE",
                                    "last_name": "ZELLWEGER"
                                },
                                {
                                    "first_name": "MILLA",
                                    "last_name": "KEITEL"
                                },
                                {
                                    "first_name": "MILLA",
                                    "last_name": "PECK"
                                },
                                {
                                    "first_name": "MICHELLE",
                                    "last_name": "MCCONAUGHEY"
                                },
                                {
                                    "first_name": "MICHAEL",
                                    "last_name": "BOLGER"
                                },
                                {
                                    "first_name": "MICHAEL",
                                    "last_name": "BENING"
                                },
                                {
                                    "first_name": "MERYL",
                                    "last_name": "GIBSON"
                                },
                                {
                                    "first_name": "MERYL",
                                    "last_name": "ALLEN"
                                },
                                {
                                    "first_name": "MENA",
                                    "last_name": "HOPPER"
                                },
                                {
                                    "first_name": "MENA",
                                    "last_name": "TEMPLE"
                                },
                                {
                                    "first_name": "MEG",
                                    "last_name": "HAWKE"
                                },
                                {
                                    "first_name": "MATTHEW",
                                    "last_name": "CARREY"
                                },
                                {
                                    "first_name": "MATTHEW",
                                    "last_name": "JOHANSSON"
                                },
                                {
                                    "first_name": "MATTHEW",
                                    "last_name": "LEIGH"
                                },
                                {
                                    "first_name": "MARY",
                                    "last_name": "KEITEL"
                                },
                                {
                                    "first_name": "MARY",
                                    "last_name": "TANDY"
                                },
                                {
                                    "first_name": "MAE",
                                    "last_name": "HOFFMAN"
                                },
                                {
                                    "first_name": "LUCILLE",
                                    "last_name": "DEE"
                                },
                                {
                                    "first_name": "LUCILLE",
                                    "last_name": "TRACY"
                                },
                                {
                                    "first_name": "LIZA",
                                    "last_name": "BERGMAN"
                                },
                                {
                                    "first_name": "LISA",
                                    "last_name": "MONROE"
                                },
                                {
                                    "first_name": "LAURENCE",
                                    "last_name": "BULLOCK"
                                },
                                {
                                    "first_name": "LAURA",
                                    "last_name": "BRODY"
                                },
                                {
                                    "first_name": "KIRSTEN",
                                    "last_name": "PALTROW"
                                },
                                {
                                    "first_name": "KIRSTEN",
                                    "last_name": "AKROYD"
                                },
                                {
                                    "first_name": "KIRK",
                                    "last_name": "JOVOVICH"
                                },
                                {
                                    "first_name": "KIM",
                                    "last_name": "ALLEN"
                                },
                                {
                                    "first_name": "KEVIN",
                                    "last_name": "BLOOM"
                                },
                                {
                                    "first_name": "KEVIN",
                                    "last_name": "GARLAND"
                                },
                                {
                                    "first_name": "KENNETH",
                                    "last_name": "PALTROW"
                                },
                                {
                                    "first_name": "KENNETH",
                                    "last_name": "HOFFMAN"
                                },
                                {
                                    "first_name": "KENNETH",
                                    "last_name": "PESCI"
                                },
                                {
                                    "first_name": "KENNETH",
                                    "last_name": "TORN"
                                },
                                {
                                    "first_name": "KARL",
                                    "last_name": "BERRY"
                                },
                                {
                                    "first_name": "JULIANNE",
                                    "last_name": "DENCH"
                                },
                                {
                                    "first_name": "JULIA",
                                    "last_name": "BARRYMORE"
                                },
                                {
                                    "first_name": "JULIA",
                                    "last_name": "MCQUEEN"
                                },
                                {
                                    "first_name": "JULIA",
                                    "last_name": "ZELLWEGER"
                                },
                                {
                                    "first_name": "JULIA",
                                    "last_name": "FAWCETT"
                                },
                                {
                                    "first_name": "JUDY",
                                    "last_name": "DEAN"
                                },
                                {
                                    "first_name": "JUDE",
                                    "last_name": "CRUISE"
                                },
                                {
                                    "first_name": "JON",
                                    "last_name": "CHASE"
                                },
                                {
                                    "first_name": "JOHNNY",
                                    "last_name": "CAGE"
                                },
                                {
                                    "first_name": "JOHNNY",
                                    "last_name": "LOLLOBRIGIDA"
                                },
                                {
                                    "first_name": "JOHN",
                                    "last_name": "SUVARI"
                                },
                                {
                                    "first_name": "JOE",
                                    "last_name": "SWANK"
                                },
                                {
                                    "first_name": "JODIE",
                                    "last_name": "DEGENERES"
                                },
                                {
                                    "first_name": "JIM",
                                    "last_name": "MOSTEL"
                                },
                                {
                                    "first_name": "JESSICA",
                                    "last_name": "BAILEY"
                                },
                                {
                                    "first_name": "JENNIFER",
                                    "last_name": "DAVIS"
                                },
                                {
                                    "first_name": "JEFF",
                                    "last_name": "SILVERSTONE"
                                },
                                {
                                    "first_name": "JAYNE",
                                    "last_name": "NEESON"
                                },
                                {
                                    "first_name": "JAYNE",
                                    "last_name": "NOLTE"
                                },
                                {
                                    "first_name": "JAYNE",
                                    "last_name": "SILVERSTONE"
                                },
                                {
                                    "first_name": "JANE",
                                    "last_name": "JACKMAN"
                                },
                                {
                                    "first_name": "JAMES",
                                    "last_name": "PITT"
                                },
                                {
                                    "first_name": "JADA",
                                    "last_name": "RYDER"
                                },
                                {
                                    "first_name": "IAN",
                                    "last_name": "TANDY"
                                },
                                {
                                    "first_name": "HUMPHREY",
                                    "last_name": "GARLAND"
                                },
                                {
                                    "first_name": "HUMPHREY",
                                    "last_name": "WILLIS"
                                },
                                {
                                    "first_name": "HENRY",
                                    "last_name": "BERRY"
                                },
                                {
                                    "first_name": "HELEN",
                                    "last_name": "VOIGHT"
                                },
                                {
                                    "first_name": "HARVEY",
                                    "last_name": "HOPE"
                                },
                                {
                                    "first_name": "HARRISON",
                                    "last_name": "BALE"
                                },
                                {
                                    "first_name": "GROUCHO",
                                    "last_name": "SINATRA"
                                },
                                {
                                    "first_name": "GROUCHO",
                                    "last_name": "DUNST"
                                },
                                {
                                    "first_name": "GROUCHO",
                                    "last_name": "WILLIAMS"
                                },
                                {
                                    "first_name": "GRETA",
                                    "last_name": "MALDEN"
                                },
                                {
                                    "first_name": "GRETA",
                                    "last_name": "KEITEL"
                                },
                                {
                                    "first_name": "GREGORY",
                                    "last_name": "GOODING"
                                },
                                {
                                    "first_name": "GREG",
                                    "last_name": "CHAPLIN"
                                },
                                {
                                    "first_name": "GRACE",
                                    "last_name": "MOSTEL"
                                },
                                {
                                    "first_name": "GOLDIE",
                                    "last_name": "BRODY"
                                },
                                {
                                    "first_name": "GINA",
                                    "last_name": "DEGENERES"
                                },
                                {
                                    "first_name": "GEOFFREY",
                                    "last_name": "HESTON"
                                },
                                {
                                    "first_name": "GENE",
                                    "last_name": "MCKELLEN"
                                },
                                {
                                    "first_name": "GENE",
                                    "last_name": "WILLIS"
                                },
                                {
                                    "first_name": "GENE",
                                    "last_name": "HOPKINS"
                                },
                                {
                                    "first_name": "GARY",
                                    "last_name": "PHOENIX"
                                },
                                {
                                    "first_name": "GARY",
                                    "last_name": "PENN"
                                },
                                {
                                    "first_name": "FRED",
                                    "last_name": "COSTNER"
                                },
                                {
                                    "first_name": "FRANCES",
                                    "last_name": "DAY-LEWIS"
                                },
                                {
                                    "first_name": "FRANCES",
                                    "last_name": "TOMEI"
                                },
                                {
                                    "first_name": "FAY",
                                    "last_name": "WOOD"
                                },
                                {
                                    "first_name": "FAY",
                                    "last_name": "WINSLET"
                                },
                                {
                                    "first_name": "FAY",
                                    "last_name": "KILMER"
                                },
                                {
                                    "first_name": "EWAN",
                                    "last_name": "GOODING"
                                },
                                {
                                    "first_name": "EMILY",
                                    "last_name": "DEE"
                                },
                                {
                                    "first_name": "ELVIS",
                                    "last_name": "MARX"
                                },
                                {
                                    "first_name": "ELLEN",
                                    "last_name": "PRESLEY"
                                },
                                {
                                    "first_name": "ED",
                                    "last_name": "MANSFIELD"
                                },
                                {
                                    "first_name": "ED",
                                    "last_name": "GUINESS"
                                },
                                {
                                    "first_name": "ED",
                                    "last_name": "CHASE"
                                },
                                {
                                    "first_name": "DUSTIN",
                                    "last_name": "TAUTOU"
                                },
                                {
                                    "first_name": "DEBBIE",
                                    "last_name": "AKROYD"
                                },
                                {
                                    "first_name": "DARYL",
                                    "last_name": "WAHLBERG"
                                },
                                {
                                    "first_name": "DARYL",
                                    "last_name": "CRAWFORD"
                                },
                                {
                                    "first_name": "DAN",
                                    "last_name": "STREEP"
                                },
                                {
                                    "first_name": "DAN",
                                    "last_name": "HARRIS"
                                },
                                {
                                    "first_name": "DAN",
                                    "last_name": "TORN"
                                },
                                {
                                    "first_name": "CUBA",
                                    "last_name": "BIRCH"
                                },
                                {
                                    "first_name": "CUBA",
                                    "last_name": "ALLEN"
                                },
                                {
                                    "first_name": "CUBA",
                                    "last_name": "OLIVIER"
                                },
                                {
                                    "first_name": "CHRISTOPHER",
                                    "last_name": "BERRY"
                                },
                                {
                                    "first_name": "CHRISTOPHER",
                                    "last_name": "WEST"
                                },
                                {
                                    "first_name": "CHRISTIAN",
                                    "last_name": "NEESON"
                                },
                                {
                                    "first_name": "CHRISTIAN",
                                    "last_name": "AKROYD"
                                },
                                {
                                    "first_name": "CHRISTIAN",
                                    "last_name": "GABLE"
                                },
                                {
                                    "first_name": "CHRIS",
                                    "last_name": "DEPP"
                                },
                                {
                                    "first_name": "CHRIS",
                                    "last_name": "BRIDGES"
                                },
                                {
                                    "first_name": "CHARLIZE",
                                    "last_name": "DENCH"
                                },
                                {
                                    "first_name": "CATE",
                                    "last_name": "MCQUEEN"
                                },
                                {
                                    "first_name": "CATE",
                                    "last_name": "HARRIS"
                                },
                                {
                                    "first_name": "CARY",
                                    "last_name": "MCCONAUGHEY"
                                },
                                {
                                    "first_name": "CARMEN",
                                    "last_name": "HUNT"
                                },
                                {
                                    "first_name": "CAMERON",
                                    "last_name": "STREEP"
                                },
                                {
                                    "first_name": "CAMERON",
                                    "last_name": "ZELLWEGER"
                                },
                                {
                                    "first_name": "CAMERON",
                                    "last_name": "WRAY"
                                },
                                {
                                    "first_name": "BURT",
                                    "last_name": "DUKAKIS"
                                },
                                {
                                    "first_name": "BURT",
                                    "last_name": "POSEY"
                                },
                                {
                                    "first_name": "BURT",
                                    "last_name": "TEMPLE"
                                },
                                {
                                    "first_name": "BOB",
                                    "last_name": "FAWCETT"
                                },
                                {
                                    "first_name": "BETTE",
                                    "last_name": "NICHOLSON"
                                },
                                {
                                    "first_name": "BEN",
                                    "last_name": "HARRIS"
                                },
                                {
                                    "first_name": "BEN",
                                    "last_name": "WILLIS"
                                },
                                {
                                    "first_name": "BELA",
                                    "last_name": "WALKEN"
                                },
                                {
                                    "first_name": "AUDREY",
                                    "last_name": "OLIVIER"
                                },
                                {
                                    "first_name": "AUDREY",
                                    "last_name": "BAILEY"
                                },
                                {
                                    "first_name": "ANNE",
                                    "last_name": "CRONYN"
                                },
                                {
                                    "first_name": "ANGELINA",
                                    "last_name": "ASTAIRE"
                                },
                                {
                                    "first_name": "ANGELA",
                                    "last_name": "HUDSON"
                                },
                                {
                                    "first_name": "ANGELA",
                                    "last_name": "WITHERSPOON"
                                },
                                {
                                    "first_name": "ALEC",
                                    "last_name": "WAYNE"
                                },
                                {
                                    "first_name": "ALBERT",
                                    "last_name": "NOLTE"
                                },
                                {
                                    "first_name": "ALBERT",
                                    "last_name": "JOHANSSON"
                                },
                                {
                                    "first_name": "ALAN",
                                    "last_name": "DREYFUSS"
                                },
                                {
                                    "first_name": "AL",
                                    "last_name": "GARLAND"
                                },
                                {
                                    "first_name": "ADAM",
                                    "last_name": "HOPPER"
                                },
                                {
                                    "first_name": "ADAM",
                                    "last_name": "GRANT"
                                }
                            ]
                        },
                        "text/html": [
                            "<table>",
                            "<tr><th>first_name</th><th>last_name</th></tr>",
                            "<tr><td>ZERO</td><td>CAGE</td></tr>",
                            "<tr><td>WOODY</td><td>JOLIE</td></tr>",
                            "<tr><td>WOODY</td><td>HOFFMAN</td></tr>",
                            "<tr><td>WILLIAM</td><td>HACKMAN</td></tr>",
                            "<tr><td>WILL</td><td>WILSON</td></tr>",
                            "<tr><td>WHOOPI</td><td>HURT</td></tr>",
                            "<tr><td>WARREN</td><td>JACKMAN</td></tr>",
                            "<tr><td>WARREN</td><td>NOLTE</td></tr>",
                            "<tr><td>WALTER</td><td>TORN</td></tr>",
                            "<tr><td>VIVIEN</td><td>BERGEN</td></tr>",
                            "<tr><td>VIVIEN</td><td>BASINGER</td></tr>",
                            "<tr><td>VAL</td><td>BOLGER</td></tr>",
                            "<tr><td>UMA</td><td>WOOD</td></tr>",
                            "<tr><td>TOM</td><td>MCKELLEN</td></tr>",
                            "<tr><td>TOM</td><td>MIRANDA</td></tr>",
                            "<tr><td>TIM</td><td>HACKMAN</td></tr>",
                            "<tr><td>THORA</td><td>TEMPLE</td></tr>",
                            "<tr><td>SYLVESTER</td><td>DERN</td></tr>",
                            "<tr><td>SUSAN</td><td>DAVIS</td></tr>",
                            "<tr><td>SUSAN</td><td>DAVIS</td></tr>",
                            "<tr><td>SPENCER</td><td>PECK</td></tr>",
                            "<tr><td>SPENCER</td><td>DEPP</td></tr>",
                            "<tr><td>SISSY</td><td>SOBIESKI</td></tr>",
                            "<tr><td>SIDNEY</td><td>CROWE</td></tr>",
                            "<tr><td>SEAN</td><td>WILLIAMS</td></tr>",
                            "<tr><td>SEAN</td><td>GUINESS</td></tr>",
                            "<tr><td>SCARLETT</td><td>DAMON</td></tr>",
                            "<tr><td>SCARLETT</td><td>BENING</td></tr>",
                            "<tr><td>SANDRA</td><td>PECK</td></tr>",
                            "<tr><td>SANDRA</td><td>KILMER</td></tr>",
                            "<tr><td>SALMA</td><td>NOLTE</td></tr>",
                            "<tr><td>RUSSELL</td><td>TEMPLE</td></tr>",
                            "<tr><td>RUSSELL</td><td>BACALL</td></tr>",
                            "<tr><td>RUSSELL</td><td>CLOSE</td></tr>",
                            "<tr><td>ROCK</td><td>DUKAKIS</td></tr>",
                            "<tr><td>RIVER</td><td>DEAN</td></tr>",
                            "<tr><td>RITA</td><td>REYNOLDS</td></tr>",
                            "<tr><td>RIP</td><td>WINSLET</td></tr>",
                            "<tr><td>RIP</td><td>CRAWFORD</td></tr>",
                            "<tr><td>RICHARD</td><td>PENN</td></tr>",
                            "<tr><td>RENEE</td><td>TRACY</td></tr>",
                            "<tr><td>RENEE</td><td>BALL</td></tr>",
                            "<tr><td>REESE</td><td>WEST</td></tr>",
                            "<tr><td>REESE</td><td>KILMER</td></tr>",
                            "<tr><td>RAY</td><td>JOHANSSON</td></tr>",
                            "<tr><td>RALPH</td><td>CRUZ</td></tr>",
                            "<tr><td>PENELOPE</td><td>CRONYN</td></tr>",
                            "<tr><td>PENELOPE</td><td>MONROE</td></tr>",
                            "<tr><td>PENELOPE</td><td>GUINESS</td></tr>",
                            "<tr><td>PENELOPE</td><td>PINKETT</td></tr>",
                            "<tr><td>PARKER</td><td>GOLDBERG</td></tr>",
                            "<tr><td>OPRAH</td><td>KILMER</td></tr>",
                            "<tr><td>OLYMPIA</td><td>PFEIFFER</td></tr>",
                            "<tr><td>NICK</td><td>WAHLBERG</td></tr>",
                            "<tr><td>NICK</td><td>STALLONE</td></tr>",
                            "<tr><td>NICK</td><td>DEGENERES</td></tr>",
                            "<tr><td>NATALIE</td><td>HOPKINS</td></tr>",
                            "<tr><td>MORGAN</td><td>WILLIAMS</td></tr>",
                            "<tr><td>MORGAN</td><td>MCDORMAND</td></tr>",
                            "<tr><td>MORGAN</td><td>HOPKINS</td></tr>",
                            "<tr><td>MINNIE</td><td>KILMER</td></tr>",
                            "<tr><td>MINNIE</td><td>ZELLWEGER</td></tr>",
                            "<tr><td>MILLA</td><td>KEITEL</td></tr>",
                            "<tr><td>MILLA</td><td>PECK</td></tr>",
                            "<tr><td>MICHELLE</td><td>MCCONAUGHEY</td></tr>",
                            "<tr><td>MICHAEL</td><td>BOLGER</td></tr>",
                            "<tr><td>MICHAEL</td><td>BENING</td></tr>",
                            "<tr><td>MERYL</td><td>GIBSON</td></tr>",
                            "<tr><td>MERYL</td><td>ALLEN</td></tr>",
                            "<tr><td>MENA</td><td>HOPPER</td></tr>",
                            "<tr><td>MENA</td><td>TEMPLE</td></tr>",
                            "<tr><td>MEG</td><td>HAWKE</td></tr>",
                            "<tr><td>MATTHEW</td><td>CARREY</td></tr>",
                            "<tr><td>MATTHEW</td><td>JOHANSSON</td></tr>",
                            "<tr><td>MATTHEW</td><td>LEIGH</td></tr>",
                            "<tr><td>MARY</td><td>KEITEL</td></tr>",
                            "<tr><td>MARY</td><td>TANDY</td></tr>",
                            "<tr><td>MAE</td><td>HOFFMAN</td></tr>",
                            "<tr><td>LUCILLE</td><td>DEE</td></tr>",
                            "<tr><td>LUCILLE</td><td>TRACY</td></tr>",
                            "<tr><td>LIZA</td><td>BERGMAN</td></tr>",
                            "<tr><td>LISA</td><td>MONROE</td></tr>",
                            "<tr><td>LAURENCE</td><td>BULLOCK</td></tr>",
                            "<tr><td>LAURA</td><td>BRODY</td></tr>",
                            "<tr><td>KIRSTEN</td><td>PALTROW</td></tr>",
                            "<tr><td>KIRSTEN</td><td>AKROYD</td></tr>",
                            "<tr><td>KIRK</td><td>JOVOVICH</td></tr>",
                            "<tr><td>KIM</td><td>ALLEN</td></tr>",
                            "<tr><td>KEVIN</td><td>BLOOM</td></tr>",
                            "<tr><td>KEVIN</td><td>GARLAND</td></tr>",
                            "<tr><td>KENNETH</td><td>PALTROW</td></tr>",
                            "<tr><td>KENNETH</td><td>HOFFMAN</td></tr>",
                            "<tr><td>KENNETH</td><td>PESCI</td></tr>",
                            "<tr><td>KENNETH</td><td>TORN</td></tr>",
                            "<tr><td>KARL</td><td>BERRY</td></tr>",
                            "<tr><td>JULIANNE</td><td>DENCH</td></tr>",
                            "<tr><td>JULIA</td><td>BARRYMORE</td></tr>",
                            "<tr><td>JULIA</td><td>MCQUEEN</td></tr>",
                            "<tr><td>JULIA</td><td>ZELLWEGER</td></tr>",
                            "<tr><td>JULIA</td><td>FAWCETT</td></tr>",
                            "<tr><td>JUDY</td><td>DEAN</td></tr>",
                            "<tr><td>JUDE</td><td>CRUISE</td></tr>",
                            "<tr><td>JON</td><td>CHASE</td></tr>",
                            "<tr><td>JOHNNY</td><td>CAGE</td></tr>",
                            "<tr><td>JOHNNY</td><td>LOLLOBRIGIDA</td></tr>",
                            "<tr><td>JOHN</td><td>SUVARI</td></tr>",
                            "<tr><td>JOE</td><td>SWANK</td></tr>",
                            "<tr><td>JODIE</td><td>DEGENERES</td></tr>",
                            "<tr><td>JIM</td><td>MOSTEL</td></tr>",
                            "<tr><td>JESSICA</td><td>BAILEY</td></tr>",
                            "<tr><td>JENNIFER</td><td>DAVIS</td></tr>",
                            "<tr><td>JEFF</td><td>SILVERSTONE</td></tr>",
                            "<tr><td>JAYNE</td><td>NEESON</td></tr>",
                            "<tr><td>JAYNE</td><td>NOLTE</td></tr>",
                            "<tr><td>JAYNE</td><td>SILVERSTONE</td></tr>",
                            "<tr><td>JANE</td><td>JACKMAN</td></tr>",
                            "<tr><td>JAMES</td><td>PITT</td></tr>",
                            "<tr><td>JADA</td><td>RYDER</td></tr>",
                            "<tr><td>IAN</td><td>TANDY</td></tr>",
                            "<tr><td>HUMPHREY</td><td>GARLAND</td></tr>",
                            "<tr><td>HUMPHREY</td><td>WILLIS</td></tr>",
                            "<tr><td>HENRY</td><td>BERRY</td></tr>",
                            "<tr><td>HELEN</td><td>VOIGHT</td></tr>",
                            "<tr><td>HARVEY</td><td>HOPE</td></tr>",
                            "<tr><td>HARRISON</td><td>BALE</td></tr>",
                            "<tr><td>GROUCHO</td><td>SINATRA</td></tr>",
                            "<tr><td>GROUCHO</td><td>DUNST</td></tr>",
                            "<tr><td>GROUCHO</td><td>WILLIAMS</td></tr>",
                            "<tr><td>GRETA</td><td>MALDEN</td></tr>",
                            "<tr><td>GRETA</td><td>KEITEL</td></tr>",
                            "<tr><td>GREGORY</td><td>GOODING</td></tr>",
                            "<tr><td>GREG</td><td>CHAPLIN</td></tr>",
                            "<tr><td>GRACE</td><td>MOSTEL</td></tr>",
                            "<tr><td>GOLDIE</td><td>BRODY</td></tr>",
                            "<tr><td>GINA</td><td>DEGENERES</td></tr>",
                            "<tr><td>GEOFFREY</td><td>HESTON</td></tr>",
                            "<tr><td>GENE</td><td>MCKELLEN</td></tr>",
                            "<tr><td>GENE</td><td>WILLIS</td></tr>",
                            "<tr><td>GENE</td><td>HOPKINS</td></tr>",
                            "<tr><td>GARY</td><td>PHOENIX</td></tr>",
                            "<tr><td>GARY</td><td>PENN</td></tr>",
                            "<tr><td>FRED</td><td>COSTNER</td></tr>",
                            "<tr><td>FRANCES</td><td>DAY-LEWIS</td></tr>",
                            "<tr><td>FRANCES</td><td>TOMEI</td></tr>",
                            "<tr><td>FAY</td><td>WOOD</td></tr>",
                            "<tr><td>FAY</td><td>WINSLET</td></tr>",
                            "<tr><td>FAY</td><td>KILMER</td></tr>",
                            "<tr><td>EWAN</td><td>GOODING</td></tr>",
                            "<tr><td>EMILY</td><td>DEE</td></tr>",
                            "<tr><td>ELVIS</td><td>MARX</td></tr>",
                            "<tr><td>ELLEN</td><td>PRESLEY</td></tr>",
                            "<tr><td>ED</td><td>MANSFIELD</td></tr>",
                            "<tr><td>ED</td><td>GUINESS</td></tr>",
                            "<tr><td>ED</td><td>CHASE</td></tr>",
                            "<tr><td>DUSTIN</td><td>TAUTOU</td></tr>",
                            "<tr><td>DEBBIE</td><td>AKROYD</td></tr>",
                            "<tr><td>DARYL</td><td>WAHLBERG</td></tr>",
                            "<tr><td>DARYL</td><td>CRAWFORD</td></tr>",
                            "<tr><td>DAN</td><td>STREEP</td></tr>",
                            "<tr><td>DAN</td><td>HARRIS</td></tr>",
                            "<tr><td>DAN</td><td>TORN</td></tr>",
                            "<tr><td>CUBA</td><td>BIRCH</td></tr>",
                            "<tr><td>CUBA</td><td>ALLEN</td></tr>",
                            "<tr><td>CUBA</td><td>OLIVIER</td></tr>",
                            "<tr><td>CHRISTOPHER</td><td>BERRY</td></tr>",
                            "<tr><td>CHRISTOPHER</td><td>WEST</td></tr>",
                            "<tr><td>CHRISTIAN</td><td>NEESON</td></tr>",
                            "<tr><td>CHRISTIAN</td><td>AKROYD</td></tr>",
                            "<tr><td>CHRISTIAN</td><td>GABLE</td></tr>",
                            "<tr><td>CHRIS</td><td>DEPP</td></tr>",
                            "<tr><td>CHRIS</td><td>BRIDGES</td></tr>",
                            "<tr><td>CHARLIZE</td><td>DENCH</td></tr>",
                            "<tr><td>CATE</td><td>MCQUEEN</td></tr>",
                            "<tr><td>CATE</td><td>HARRIS</td></tr>",
                            "<tr><td>CARY</td><td>MCCONAUGHEY</td></tr>",
                            "<tr><td>CARMEN</td><td>HUNT</td></tr>",
                            "<tr><td>CAMERON</td><td>STREEP</td></tr>",
                            "<tr><td>CAMERON</td><td>ZELLWEGER</td></tr>",
                            "<tr><td>CAMERON</td><td>WRAY</td></tr>",
                            "<tr><td>BURT</td><td>DUKAKIS</td></tr>",
                            "<tr><td>BURT</td><td>POSEY</td></tr>",
                            "<tr><td>BURT</td><td>TEMPLE</td></tr>",
                            "<tr><td>BOB</td><td>FAWCETT</td></tr>",
                            "<tr><td>BETTE</td><td>NICHOLSON</td></tr>",
                            "<tr><td>BEN</td><td>HARRIS</td></tr>",
                            "<tr><td>BEN</td><td>WILLIS</td></tr>",
                            "<tr><td>BELA</td><td>WALKEN</td></tr>",
                            "<tr><td>AUDREY</td><td>OLIVIER</td></tr>",
                            "<tr><td>AUDREY</td><td>BAILEY</td></tr>",
                            "<tr><td>ANNE</td><td>CRONYN</td></tr>",
                            "<tr><td>ANGELINA</td><td>ASTAIRE</td></tr>",
                            "<tr><td>ANGELA</td><td>HUDSON</td></tr>",
                            "<tr><td>ANGELA</td><td>WITHERSPOON</td></tr>",
                            "<tr><td>ALEC</td><td>WAYNE</td></tr>",
                            "<tr><td>ALBERT</td><td>NOLTE</td></tr>",
                            "<tr><td>ALBERT</td><td>JOHANSSON</td></tr>",
                            "<tr><td>ALAN</td><td>DREYFUSS</td></tr>",
                            "<tr><td>AL</td><td>GARLAND</td></tr>",
                            "<tr><td>ADAM</td><td>HOPPER</td></tr>",
                            "<tr><td>ADAM</td><td>GRANT</td></tr>",
                            "</table>"
                        ]
                    }
                }
            ],
            "execution_count": 9
        },
        {
            "cell_type": "code",
            "source": [
                "SELECT \r\n",
                "    first_name, \r\n",
                "    last_name \r\n",
                "FROM \r\n",
                "    actor\r\n",
                "ORDER BY \r\n",
                "    last_name ASC;"
            ],
            "metadata": {
                "azdata_cell_guid": "7ccabd8d-249c-4c19-b7e0-5bc67bae973d",
                "language": "sql"
            },
            "outputs": [
                {
                    "output_type": "display_data",
                    "data": {
                        "text/html": "(200 row(s) affected)"
                    },
                    "metadata": {}
                },
                {
                    "output_type": "display_data",
                    "data": {
                        "text/html": "Total execution time: 00:00:01.005"
                    },
                    "metadata": {}
                },
                {
                    "output_type": "execute_result",
                    "metadata": {},
                    "execution_count": 10,
                    "data": {
                        "application/vnd.dataresource+json": {
                            "schema": {
                                "fields": [
                                    {
                                        "name": "first_name"
                                    },
                                    {
                                        "name": "last_name"
                                    }
                                ]
                            },
                            "data": [
                                {
                                    "first_name": "KIRSTEN",
                                    "last_name": "AKROYD"
                                },
                                {
                                    "first_name": "DEBBIE",
                                    "last_name": "AKROYD"
                                },
                                {
                                    "first_name": "CHRISTIAN",
                                    "last_name": "AKROYD"
                                },
                                {
                                    "first_name": "KIM",
                                    "last_name": "ALLEN"
                                },
                                {
                                    "first_name": "MERYL",
                                    "last_name": "ALLEN"
                                },
                                {
                                    "first_name": "CUBA",
                                    "last_name": "ALLEN"
                                },
                                {
                                    "first_name": "ANGELINA",
                                    "last_name": "ASTAIRE"
                                },
                                {
                                    "first_name": "RUSSELL",
                                    "last_name": "BACALL"
                                },
                                {
                                    "first_name": "JESSICA",
                                    "last_name": "BAILEY"
                                },
                                {
                                    "first_name": "AUDREY",
                                    "last_name": "BAILEY"
                                },
                                {
                                    "first_name": "HARRISON",
                                    "last_name": "BALE"
                                },
                                {
                                    "first_name": "RENEE",
                                    "last_name": "BALL"
                                },
                                {
                                    "first_name": "JULIA",
                                    "last_name": "BARRYMORE"
                                },
                                {
                                    "first_name": "VIVIEN",
                                    "last_name": "BASINGER"
                                },
                                {
                                    "first_name": "MICHAEL",
                                    "last_name": "BENING"
                                },
                                {
                                    "first_name": "SCARLETT",
                                    "last_name": "BENING"
                                },
                                {
                                    "first_name": "VIVIEN",
                                    "last_name": "BERGEN"
                                },
                                {
                                    "first_name": "LIZA",
                                    "last_name": "BERGMAN"
                                },
                                {
                                    "first_name": "CHRISTOPHER",
                                    "last_name": "BERRY"
                                },
                                {
                                    "first_name": "HENRY",
                                    "last_name": "BERRY"
                                },
                                {
                                    "first_name": "KARL",
                                    "last_name": "BERRY"
                                },
                                {
                                    "first_name": "CUBA",
                                    "last_name": "BIRCH"
                                },
                                {
                                    "first_name": "KEVIN",
                                    "last_name": "BLOOM"
                                },
                                {
                                    "first_name": "MICHAEL",
                                    "last_name": "BOLGER"
                                },
                                {
                                    "first_name": "VAL",
                                    "last_name": "BOLGER"
                                },
                                {
                                    "first_name": "CHRIS",
                                    "last_name": "BRIDGES"
                                },
                                {
                                    "first_name": "GOLDIE",
                                    "last_name": "BRODY"
                                },
                                {
                                    "first_name": "LAURA",
                                    "last_name": "BRODY"
                                },
                                {
                                    "first_name": "LAURENCE",
                                    "last_name": "BULLOCK"
                                },
                                {
                                    "first_name": "JOHNNY",
                                    "last_name": "CAGE"
                                },
                                {
                                    "first_name": "ZERO",
                                    "last_name": "CAGE"
                                },
                                {
                                    "first_name": "MATTHEW",
                                    "last_name": "CARREY"
                                },
                                {
                                    "first_name": "GREG",
                                    "last_name": "CHAPLIN"
                                },
                                {
                                    "first_name": "JON",
                                    "last_name": "CHASE"
                                },
                                {
                                    "first_name": "ED",
                                    "last_name": "CHASE"
                                },
                                {
                                    "first_name": "RUSSELL",
                                    "last_name": "CLOSE"
                                },
                                {
                                    "first_name": "FRED",
                                    "last_name": "COSTNER"
                                },
                                {
                                    "first_name": "RIP",
                                    "last_name": "CRAWFORD"
                                },
                                {
                                    "first_name": "DARYL",
                                    "last_name": "CRAWFORD"
                                },
                                {
                                    "first_name": "ANNE",
                                    "last_name": "CRONYN"
                                },
                                {
                                    "first_name": "PENELOPE",
                                    "last_name": "CRONYN"
                                },
                                {
                                    "first_name": "SIDNEY",
                                    "last_name": "CROWE"
                                },
                                {
                                    "first_name": "JUDE",
                                    "last_name": "CRUISE"
                                },
                                {
                                    "first_name": "RALPH",
                                    "last_name": "CRUZ"
                                },
                                {
                                    "first_name": "SCARLETT",
                                    "last_name": "DAMON"
                                },
                                {
                                    "first_name": "SUSAN",
                                    "last_name": "DAVIS"
                                },
                                {
                                    "first_name": "SUSAN",
                                    "last_name": "DAVIS"
                                },
                                {
                                    "first_name": "JENNIFER",
                                    "last_name": "DAVIS"
                                },
                                {
                                    "first_name": "FRANCES",
                                    "last_name": "DAY-LEWIS"
                                },
                                {
                                    "first_name": "JUDY",
                                    "last_name": "DEAN"
                                },
                                {
                                    "first_name": "RIVER",
                                    "last_name": "DEAN"
                                },
                                {
                                    "first_name": "LUCILLE",
                                    "last_name": "DEE"
                                },
                                {
                                    "first_name": "EMILY",
                                    "last_name": "DEE"
                                },
                                {
                                    "first_name": "JODIE",
                                    "last_name": "DEGENERES"
                                },
                                {
                                    "first_name": "NICK",
                                    "last_name": "DEGENERES"
                                },
                                {
                                    "first_name": "GINA",
                                    "last_name": "DEGENERES"
                                },
                                {
                                    "first_name": "CHARLIZE",
                                    "last_name": "DENCH"
                                },
                                {
                                    "first_name": "JULIANNE",
                                    "last_name": "DENCH"
                                },
                                {
                                    "first_name": "CHRIS",
                                    "last_name": "DEPP"
                                },
                                {
                                    "first_name": "SPENCER",
                                    "last_name": "DEPP"
                                },
                                {
                                    "first_name": "SYLVESTER",
                                    "last_name": "DERN"
                                },
                                {
                                    "first_name": "ALAN",
                                    "last_name": "DREYFUSS"
                                },
                                {
                                    "first_name": "ROCK",
                                    "last_name": "DUKAKIS"
                                },
                                {
                                    "first_name": "BURT",
                                    "last_name": "DUKAKIS"
                                },
                                {
                                    "first_name": "GROUCHO",
                                    "last_name": "DUNST"
                                },
                                {
                                    "first_name": "JULIA",
                                    "last_name": "FAWCETT"
                                },
                                {
                                    "first_name": "BOB",
                                    "last_name": "FAWCETT"
                                },
                                {
                                    "first_name": "CHRISTIAN",
                                    "last_name": "GABLE"
                                },
                                {
                                    "first_name": "HUMPHREY",
                                    "last_name": "GARLAND"
                                },
                                {
                                    "first_name": "KEVIN",
                                    "last_name": "GARLAND"
                                },
                                {
                                    "first_name": "AL",
                                    "last_name": "GARLAND"
                                },
                                {
                                    "first_name": "MERYL",
                                    "last_name": "GIBSON"
                                },
                                {
                                    "first_name": "PARKER",
                                    "last_name": "GOLDBERG"
                                },
                                {
                                    "first_name": "GREGORY",
                                    "last_name": "GOODING"
                                },
                                {
                                    "first_name": "EWAN",
                                    "last_name": "GOODING"
                                },
                                {
                                    "first_name": "ADAM",
                                    "last_name": "GRANT"
                                },
                                {
                                    "first_name": "PENELOPE",
                                    "last_name": "GUINESS"
                                },
                                {
                                    "first_name": "ED",
                                    "last_name": "GUINESS"
                                },
                                {
                                    "first_name": "SEAN",
                                    "last_name": "GUINESS"
                                },
                                {
                                    "first_name": "WILLIAM",
                                    "last_name": "HACKMAN"
                                },
                                {
                                    "first_name": "TIM",
                                    "last_name": "HACKMAN"
                                },
                                {
                                    "first_name": "DAN",
                                    "last_name": "HARRIS"
                                },
                                {
                                    "first_name": "CATE",
                                    "last_name": "HARRIS"
                                },
                                {
                                    "first_name": "BEN",
                                    "last_name": "HARRIS"
                                },
                                {
                                    "first_name": "MEG",
                                    "last_name": "HAWKE"
                                },
                                {
                                    "first_name": "GEOFFREY",
                                    "last_name": "HESTON"
                                },
                                {
                                    "first_name": "WOODY",
                                    "last_name": "HOFFMAN"
                                },
                                {
                                    "first_name": "MAE",
                                    "last_name": "HOFFMAN"
                                },
                                {
                                    "first_name": "KENNETH",
                                    "last_name": "HOFFMAN"
                                },
                                {
                                    "first_name": "HARVEY",
                                    "last_name": "HOPE"
                                },
                                {
                                    "first_name": "MORGAN",
                                    "last_name": "HOPKINS"
                                },
                                {
                                    "first_name": "NATALIE",
                                    "last_name": "HOPKINS"
                                },
                                {
                                    "first_name": "GENE",
                                    "last_name": "HOPKINS"
                                },
                                {
                                    "first_name": "MENA",
                                    "last_name": "HOPPER"
                                },
                                {
                                    "first_name": "ADAM",
                                    "last_name": "HOPPER"
                                },
                                {
                                    "first_name": "ANGELA",
                                    "last_name": "HUDSON"
                                },
                                {
                                    "first_name": "CARMEN",
                                    "last_name": "HUNT"
                                },
                                {
                                    "first_name": "WHOOPI",
                                    "last_name": "HURT"
                                },
                                {
                                    "first_name": "WARREN",
                                    "last_name": "JACKMAN"
                                },
                                {
                                    "first_name": "JANE",
                                    "last_name": "JACKMAN"
                                },
                                {
                                    "first_name": "ALBERT",
                                    "last_name": "JOHANSSON"
                                },
                                {
                                    "first_name": "MATTHEW",
                                    "last_name": "JOHANSSON"
                                },
                                {
                                    "first_name": "RAY",
                                    "last_name": "JOHANSSON"
                                },
                                {
                                    "first_name": "WOODY",
                                    "last_name": "JOLIE"
                                },
                                {
                                    "first_name": "KIRK",
                                    "last_name": "JOVOVICH"
                                },
                                {
                                    "first_name": "MILLA",
                                    "last_name": "KEITEL"
                                },
                                {
                                    "first_name": "MARY",
                                    "last_name": "KEITEL"
                                },
                                {
                                    "first_name": "GRETA",
                                    "last_name": "KEITEL"
                                },
                                {
                                    "first_name": "MINNIE",
                                    "last_name": "KILMER"
                                },
                                {
                                    "first_name": "SANDRA",
                                    "last_name": "KILMER"
                                },
                                {
                                    "first_name": "OPRAH",
                                    "last_name": "KILMER"
                                },
                                {
                                    "first_name": "FAY",
                                    "last_name": "KILMER"
                                },
                                {
                                    "first_name": "REESE",
                                    "last_name": "KILMER"
                                },
                                {
                                    "first_name": "MATTHEW",
                                    "last_name": "LEIGH"
                                },
                                {
                                    "first_name": "JOHNNY",
                                    "last_name": "LOLLOBRIGIDA"
                                },
                                {
                                    "first_name": "GRETA",
                                    "last_name": "MALDEN"
                                },
                                {
                                    "first_name": "ED",
                                    "last_name": "MANSFIELD"
                                },
                                {
                                    "first_name": "ELVIS",
                                    "last_name": "MARX"
                                },
                                {
                                    "first_name": "CARY",
                                    "last_name": "MCCONAUGHEY"
                                },
                                {
                                    "first_name": "MICHELLE",
                                    "last_name": "MCCONAUGHEY"
                                },
                                {
                                    "first_name": "MORGAN",
                                    "last_name": "MCDORMAND"
                                },
                                {
                                    "first_name": "TOM",
                                    "last_name": "MCKELLEN"
                                },
                                {
                                    "first_name": "GENE",
                                    "last_name": "MCKELLEN"
                                },
                                {
                                    "first_name": "CATE",
                                    "last_name": "MCQUEEN"
                                },
                                {
                                    "first_name": "JULIA",
                                    "last_name": "MCQUEEN"
                                },
                                {
                                    "first_name": "TOM",
                                    "last_name": "MIRANDA"
                                },
                                {
                                    "first_name": "LISA",
                                    "last_name": "MONROE"
                                },
                                {
                                    "first_name": "PENELOPE",
                                    "last_name": "MONROE"
                                },
                                {
                                    "first_name": "GRACE",
                                    "last_name": "MOSTEL"
                                },
                                {
                                    "first_name": "JIM",
                                    "last_name": "MOSTEL"
                                },
                                {
                                    "first_name": "CHRISTIAN",
                                    "last_name": "NEESON"
                                },
                                {
                                    "first_name": "JAYNE",
                                    "last_name": "NEESON"
                                },
                                {
                                    "first_name": "BETTE",
                                    "last_name": "NICHOLSON"
                                },
                                {
                                    "first_name": "WARREN",
                                    "last_name": "NOLTE"
                                },
                                {
                                    "first_name": "SALMA",
                                    "last_name": "NOLTE"
                                },
                                {
                                    "first_name": "ALBERT",
                                    "last_name": "NOLTE"
                                },
                                {
                                    "first_name": "JAYNE",
                                    "last_name": "NOLTE"
                                },
                                {
                                    "first_name": "CUBA",
                                    "last_name": "OLIVIER"
                                },
                                {
                                    "first_name": "AUDREY",
                                    "last_name": "OLIVIER"
                                },
                                {
                                    "first_name": "KIRSTEN",
                                    "last_name": "PALTROW"
                                },
                                {
                                    "first_name": "KENNETH",
                                    "last_name": "PALTROW"
                                },
                                {
                                    "first_name": "SANDRA",
                                    "last_name": "PECK"
                                },
                                {
                                    "first_name": "MILLA",
                                    "last_name": "PECK"
                                },
                                {
                                    "first_name": "SPENCER",
                                    "last_name": "PECK"
                                },
                                {
                                    "first_name": "GARY",
                                    "last_name": "PENN"
                                },
                                {
                                    "first_name": "RICHARD",
                                    "last_name": "PENN"
                                },
                                {
                                    "first_name": "KENNETH",
                                    "last_name": "PESCI"
                                },
                                {
                                    "first_name": "OLYMPIA",
                                    "last_name": "PFEIFFER"
                                },
                                {
                                    "first_name": "GARY",
                                    "last_name": "PHOENIX"
                                },
                                {
                                    "first_name": "PENELOPE",
                                    "last_name": "PINKETT"
                                },
                                {
                                    "first_name": "JAMES",
                                    "last_name": "PITT"
                                },
                                {
                                    "first_name": "BURT",
                                    "last_name": "POSEY"
                                },
                                {
                                    "first_name": "ELLEN",
                                    "last_name": "PRESLEY"
                                },
                                {
                                    "first_name": "RITA",
                                    "last_name": "REYNOLDS"
                                },
                                {
                                    "first_name": "JADA",
                                    "last_name": "RYDER"
                                },
                                {
                                    "first_name": "JAYNE",
                                    "last_name": "SILVERSTONE"
                                },
                                {
                                    "first_name": "JEFF",
                                    "last_name": "SILVERSTONE"
                                },
                                {
                                    "first_name": "GROUCHO",
                                    "last_name": "SINATRA"
                                },
                                {
                                    "first_name": "SISSY",
                                    "last_name": "SOBIESKI"
                                },
                                {
                                    "first_name": "NICK",
                                    "last_name": "STALLONE"
                                },
                                {
                                    "first_name": "CAMERON",
                                    "last_name": "STREEP"
                                },
                                {
                                    "first_name": "DAN",
                                    "last_name": "STREEP"
                                },
                                {
                                    "first_name": "JOHN",
                                    "last_name": "SUVARI"
                                },
                                {
                                    "first_name": "JOE",
                                    "last_name": "SWANK"
                                },
                                {
                                    "first_name": "IAN",
                                    "last_name": "TANDY"
                                },
                                {
                                    "first_name": "MARY",
                                    "last_name": "TANDY"
                                },
                                {
                                    "first_name": "DUSTIN",
                                    "last_name": "TAUTOU"
                                },
                                {
                                    "first_name": "MENA",
                                    "last_name": "TEMPLE"
                                },
                                {
                                    "first_name": "BURT",
                                    "last_name": "TEMPLE"
                                },
                                {
                                    "first_name": "RUSSELL",
                                    "last_name": "TEMPLE"
                                },
                                {
                                    "first_name": "THORA",
                                    "last_name": "TEMPLE"
                                },
                                {
                                    "first_name": "FRANCES",
                                    "last_name": "TOMEI"
                                },
                                {
                                    "first_name": "KENNETH",
                                    "last_name": "TORN"
                                },
                                {
                                    "first_name": "WALTER",
                                    "last_name": "TORN"
                                },
                                {
                                    "first_name": "DAN",
                                    "last_name": "TORN"
                                },
                                {
                                    "first_name": "RENEE",
                                    "last_name": "TRACY"
                                },
                                {
                                    "first_name": "LUCILLE",
                                    "last_name": "TRACY"
                                },
                                {
                                    "first_name": "HELEN",
                                    "last_name": "VOIGHT"
                                },
                                {
                                    "first_name": "NICK",
                                    "last_name": "WAHLBERG"
                                },
                                {
                                    "first_name": "DARYL",
                                    "last_name": "WAHLBERG"
                                },
                                {
                                    "first_name": "BELA",
                                    "last_name": "WALKEN"
                                },
                                {
                                    "first_name": "ALEC",
                                    "last_name": "WAYNE"
                                },
                                {
                                    "first_name": "CHRISTOPHER",
                                    "last_name": "WEST"
                                },
                                {
                                    "first_name": "REESE",
                                    "last_name": "WEST"
                                },
                                {
                                    "first_name": "GROUCHO",
                                    "last_name": "WILLIAMS"
                                },
                                {
                                    "first_name": "SEAN",
                                    "last_name": "WILLIAMS"
                                },
                                {
                                    "first_name": "MORGAN",
                                    "last_name": "WILLIAMS"
                                },
                                {
                                    "first_name": "BEN",
                                    "last_name": "WILLIS"
                                },
                                {
                                    "first_name": "GENE",
                                    "last_name": "WILLIS"
                                },
                                {
                                    "first_name": "HUMPHREY",
                                    "last_name": "WILLIS"
                                },
                                {
                                    "first_name": "WILL",
                                    "last_name": "WILSON"
                                },
                                {
                                    "first_name": "RIP",
                                    "last_name": "WINSLET"
                                },
                                {
                                    "first_name": "FAY",
                                    "last_name": "WINSLET"
                                },
                                {
                                    "first_name": "ANGELA",
                                    "last_name": "WITHERSPOON"
                                },
                                {
                                    "first_name": "FAY",
                                    "last_name": "WOOD"
                                },
                                {
                                    "first_name": "UMA",
                                    "last_name": "WOOD"
                                },
                                {
                                    "first_name": "CAMERON",
                                    "last_name": "WRAY"
                                },
                                {
                                    "first_name": "MINNIE",
                                    "last_name": "ZELLWEGER"
                                },
                                {
                                    "first_name": "CAMERON",
                                    "last_name": "ZELLWEGER"
                                },
                                {
                                    "first_name": "JULIA",
                                    "last_name": "ZELLWEGER"
                                }
                            ]
                        },
                        "text/html": [
                            "<table>",
                            "<tr><th>first_name</th><th>last_name</th></tr>",
                            "<tr><td>KIRSTEN</td><td>AKROYD</td></tr>",
                            "<tr><td>DEBBIE</td><td>AKROYD</td></tr>",
                            "<tr><td>CHRISTIAN</td><td>AKROYD</td></tr>",
                            "<tr><td>KIM</td><td>ALLEN</td></tr>",
                            "<tr><td>MERYL</td><td>ALLEN</td></tr>",
                            "<tr><td>CUBA</td><td>ALLEN</td></tr>",
                            "<tr><td>ANGELINA</td><td>ASTAIRE</td></tr>",
                            "<tr><td>RUSSELL</td><td>BACALL</td></tr>",
                            "<tr><td>JESSICA</td><td>BAILEY</td></tr>",
                            "<tr><td>AUDREY</td><td>BAILEY</td></tr>",
                            "<tr><td>HARRISON</td><td>BALE</td></tr>",
                            "<tr><td>RENEE</td><td>BALL</td></tr>",
                            "<tr><td>JULIA</td><td>BARRYMORE</td></tr>",
                            "<tr><td>VIVIEN</td><td>BASINGER</td></tr>",
                            "<tr><td>MICHAEL</td><td>BENING</td></tr>",
                            "<tr><td>SCARLETT</td><td>BENING</td></tr>",
                            "<tr><td>VIVIEN</td><td>BERGEN</td></tr>",
                            "<tr><td>LIZA</td><td>BERGMAN</td></tr>",
                            "<tr><td>CHRISTOPHER</td><td>BERRY</td></tr>",
                            "<tr><td>HENRY</td><td>BERRY</td></tr>",
                            "<tr><td>KARL</td><td>BERRY</td></tr>",
                            "<tr><td>CUBA</td><td>BIRCH</td></tr>",
                            "<tr><td>KEVIN</td><td>BLOOM</td></tr>",
                            "<tr><td>MICHAEL</td><td>BOLGER</td></tr>",
                            "<tr><td>VAL</td><td>BOLGER</td></tr>",
                            "<tr><td>CHRIS</td><td>BRIDGES</td></tr>",
                            "<tr><td>GOLDIE</td><td>BRODY</td></tr>",
                            "<tr><td>LAURA</td><td>BRODY</td></tr>",
                            "<tr><td>LAURENCE</td><td>BULLOCK</td></tr>",
                            "<tr><td>JOHNNY</td><td>CAGE</td></tr>",
                            "<tr><td>ZERO</td><td>CAGE</td></tr>",
                            "<tr><td>MATTHEW</td><td>CARREY</td></tr>",
                            "<tr><td>GREG</td><td>CHAPLIN</td></tr>",
                            "<tr><td>JON</td><td>CHASE</td></tr>",
                            "<tr><td>ED</td><td>CHASE</td></tr>",
                            "<tr><td>RUSSELL</td><td>CLOSE</td></tr>",
                            "<tr><td>FRED</td><td>COSTNER</td></tr>",
                            "<tr><td>RIP</td><td>CRAWFORD</td></tr>",
                            "<tr><td>DARYL</td><td>CRAWFORD</td></tr>",
                            "<tr><td>ANNE</td><td>CRONYN</td></tr>",
                            "<tr><td>PENELOPE</td><td>CRONYN</td></tr>",
                            "<tr><td>SIDNEY</td><td>CROWE</td></tr>",
                            "<tr><td>JUDE</td><td>CRUISE</td></tr>",
                            "<tr><td>RALPH</td><td>CRUZ</td></tr>",
                            "<tr><td>SCARLETT</td><td>DAMON</td></tr>",
                            "<tr><td>SUSAN</td><td>DAVIS</td></tr>",
                            "<tr><td>SUSAN</td><td>DAVIS</td></tr>",
                            "<tr><td>JENNIFER</td><td>DAVIS</td></tr>",
                            "<tr><td>FRANCES</td><td>DAY-LEWIS</td></tr>",
                            "<tr><td>JUDY</td><td>DEAN</td></tr>",
                            "<tr><td>RIVER</td><td>DEAN</td></tr>",
                            "<tr><td>LUCILLE</td><td>DEE</td></tr>",
                            "<tr><td>EMILY</td><td>DEE</td></tr>",
                            "<tr><td>JODIE</td><td>DEGENERES</td></tr>",
                            "<tr><td>NICK</td><td>DEGENERES</td></tr>",
                            "<tr><td>GINA</td><td>DEGENERES</td></tr>",
                            "<tr><td>CHARLIZE</td><td>DENCH</td></tr>",
                            "<tr><td>JULIANNE</td><td>DENCH</td></tr>",
                            "<tr><td>CHRIS</td><td>DEPP</td></tr>",
                            "<tr><td>SPENCER</td><td>DEPP</td></tr>",
                            "<tr><td>SYLVESTER</td><td>DERN</td></tr>",
                            "<tr><td>ALAN</td><td>DREYFUSS</td></tr>",
                            "<tr><td>ROCK</td><td>DUKAKIS</td></tr>",
                            "<tr><td>BURT</td><td>DUKAKIS</td></tr>",
                            "<tr><td>GROUCHO</td><td>DUNST</td></tr>",
                            "<tr><td>JULIA</td><td>FAWCETT</td></tr>",
                            "<tr><td>BOB</td><td>FAWCETT</td></tr>",
                            "<tr><td>CHRISTIAN</td><td>GABLE</td></tr>",
                            "<tr><td>HUMPHREY</td><td>GARLAND</td></tr>",
                            "<tr><td>KEVIN</td><td>GARLAND</td></tr>",
                            "<tr><td>AL</td><td>GARLAND</td></tr>",
                            "<tr><td>MERYL</td><td>GIBSON</td></tr>",
                            "<tr><td>PARKER</td><td>GOLDBERG</td></tr>",
                            "<tr><td>GREGORY</td><td>GOODING</td></tr>",
                            "<tr><td>EWAN</td><td>GOODING</td></tr>",
                            "<tr><td>ADAM</td><td>GRANT</td></tr>",
                            "<tr><td>PENELOPE</td><td>GUINESS</td></tr>",
                            "<tr><td>ED</td><td>GUINESS</td></tr>",
                            "<tr><td>SEAN</td><td>GUINESS</td></tr>",
                            "<tr><td>WILLIAM</td><td>HACKMAN</td></tr>",
                            "<tr><td>TIM</td><td>HACKMAN</td></tr>",
                            "<tr><td>DAN</td><td>HARRIS</td></tr>",
                            "<tr><td>CATE</td><td>HARRIS</td></tr>",
                            "<tr><td>BEN</td><td>HARRIS</td></tr>",
                            "<tr><td>MEG</td><td>HAWKE</td></tr>",
                            "<tr><td>GEOFFREY</td><td>HESTON</td></tr>",
                            "<tr><td>WOODY</td><td>HOFFMAN</td></tr>",
                            "<tr><td>MAE</td><td>HOFFMAN</td></tr>",
                            "<tr><td>KENNETH</td><td>HOFFMAN</td></tr>",
                            "<tr><td>HARVEY</td><td>HOPE</td></tr>",
                            "<tr><td>MORGAN</td><td>HOPKINS</td></tr>",
                            "<tr><td>NATALIE</td><td>HOPKINS</td></tr>",
                            "<tr><td>GENE</td><td>HOPKINS</td></tr>",
                            "<tr><td>MENA</td><td>HOPPER</td></tr>",
                            "<tr><td>ADAM</td><td>HOPPER</td></tr>",
                            "<tr><td>ANGELA</td><td>HUDSON</td></tr>",
                            "<tr><td>CARMEN</td><td>HUNT</td></tr>",
                            "<tr><td>WHOOPI</td><td>HURT</td></tr>",
                            "<tr><td>WARREN</td><td>JACKMAN</td></tr>",
                            "<tr><td>JANE</td><td>JACKMAN</td></tr>",
                            "<tr><td>ALBERT</td><td>JOHANSSON</td></tr>",
                            "<tr><td>MATTHEW</td><td>JOHANSSON</td></tr>",
                            "<tr><td>RAY</td><td>JOHANSSON</td></tr>",
                            "<tr><td>WOODY</td><td>JOLIE</td></tr>",
                            "<tr><td>KIRK</td><td>JOVOVICH</td></tr>",
                            "<tr><td>MILLA</td><td>KEITEL</td></tr>",
                            "<tr><td>MARY</td><td>KEITEL</td></tr>",
                            "<tr><td>GRETA</td><td>KEITEL</td></tr>",
                            "<tr><td>MINNIE</td><td>KILMER</td></tr>",
                            "<tr><td>SANDRA</td><td>KILMER</td></tr>",
                            "<tr><td>OPRAH</td><td>KILMER</td></tr>",
                            "<tr><td>FAY</td><td>KILMER</td></tr>",
                            "<tr><td>REESE</td><td>KILMER</td></tr>",
                            "<tr><td>MATTHEW</td><td>LEIGH</td></tr>",
                            "<tr><td>JOHNNY</td><td>LOLLOBRIGIDA</td></tr>",
                            "<tr><td>GRETA</td><td>MALDEN</td></tr>",
                            "<tr><td>ED</td><td>MANSFIELD</td></tr>",
                            "<tr><td>ELVIS</td><td>MARX</td></tr>",
                            "<tr><td>CARY</td><td>MCCONAUGHEY</td></tr>",
                            "<tr><td>MICHELLE</td><td>MCCONAUGHEY</td></tr>",
                            "<tr><td>MORGAN</td><td>MCDORMAND</td></tr>",
                            "<tr><td>TOM</td><td>MCKELLEN</td></tr>",
                            "<tr><td>GENE</td><td>MCKELLEN</td></tr>",
                            "<tr><td>CATE</td><td>MCQUEEN</td></tr>",
                            "<tr><td>JULIA</td><td>MCQUEEN</td></tr>",
                            "<tr><td>TOM</td><td>MIRANDA</td></tr>",
                            "<tr><td>LISA</td><td>MONROE</td></tr>",
                            "<tr><td>PENELOPE</td><td>MONROE</td></tr>",
                            "<tr><td>GRACE</td><td>MOSTEL</td></tr>",
                            "<tr><td>JIM</td><td>MOSTEL</td></tr>",
                            "<tr><td>CHRISTIAN</td><td>NEESON</td></tr>",
                            "<tr><td>JAYNE</td><td>NEESON</td></tr>",
                            "<tr><td>BETTE</td><td>NICHOLSON</td></tr>",
                            "<tr><td>WARREN</td><td>NOLTE</td></tr>",
                            "<tr><td>SALMA</td><td>NOLTE</td></tr>",
                            "<tr><td>ALBERT</td><td>NOLTE</td></tr>",
                            "<tr><td>JAYNE</td><td>NOLTE</td></tr>",
                            "<tr><td>CUBA</td><td>OLIVIER</td></tr>",
                            "<tr><td>AUDREY</td><td>OLIVIER</td></tr>",
                            "<tr><td>KIRSTEN</td><td>PALTROW</td></tr>",
                            "<tr><td>KENNETH</td><td>PALTROW</td></tr>",
                            "<tr><td>SANDRA</td><td>PECK</td></tr>",
                            "<tr><td>MILLA</td><td>PECK</td></tr>",
                            "<tr><td>SPENCER</td><td>PECK</td></tr>",
                            "<tr><td>GARY</td><td>PENN</td></tr>",
                            "<tr><td>RICHARD</td><td>PENN</td></tr>",
                            "<tr><td>KENNETH</td><td>PESCI</td></tr>",
                            "<tr><td>OLYMPIA</td><td>PFEIFFER</td></tr>",
                            "<tr><td>GARY</td><td>PHOENIX</td></tr>",
                            "<tr><td>PENELOPE</td><td>PINKETT</td></tr>",
                            "<tr><td>JAMES</td><td>PITT</td></tr>",
                            "<tr><td>BURT</td><td>POSEY</td></tr>",
                            "<tr><td>ELLEN</td><td>PRESLEY</td></tr>",
                            "<tr><td>RITA</td><td>REYNOLDS</td></tr>",
                            "<tr><td>JADA</td><td>RYDER</td></tr>",
                            "<tr><td>JAYNE</td><td>SILVERSTONE</td></tr>",
                            "<tr><td>JEFF</td><td>SILVERSTONE</td></tr>",
                            "<tr><td>GROUCHO</td><td>SINATRA</td></tr>",
                            "<tr><td>SISSY</td><td>SOBIESKI</td></tr>",
                            "<tr><td>NICK</td><td>STALLONE</td></tr>",
                            "<tr><td>CAMERON</td><td>STREEP</td></tr>",
                            "<tr><td>DAN</td><td>STREEP</td></tr>",
                            "<tr><td>JOHN</td><td>SUVARI</td></tr>",
                            "<tr><td>JOE</td><td>SWANK</td></tr>",
                            "<tr><td>IAN</td><td>TANDY</td></tr>",
                            "<tr><td>MARY</td><td>TANDY</td></tr>",
                            "<tr><td>DUSTIN</td><td>TAUTOU</td></tr>",
                            "<tr><td>MENA</td><td>TEMPLE</td></tr>",
                            "<tr><td>BURT</td><td>TEMPLE</td></tr>",
                            "<tr><td>RUSSELL</td><td>TEMPLE</td></tr>",
                            "<tr><td>THORA</td><td>TEMPLE</td></tr>",
                            "<tr><td>FRANCES</td><td>TOMEI</td></tr>",
                            "<tr><td>KENNETH</td><td>TORN</td></tr>",
                            "<tr><td>WALTER</td><td>TORN</td></tr>",
                            "<tr><td>DAN</td><td>TORN</td></tr>",
                            "<tr><td>RENEE</td><td>TRACY</td></tr>",
                            "<tr><td>LUCILLE</td><td>TRACY</td></tr>",
                            "<tr><td>HELEN</td><td>VOIGHT</td></tr>",
                            "<tr><td>NICK</td><td>WAHLBERG</td></tr>",
                            "<tr><td>DARYL</td><td>WAHLBERG</td></tr>",
                            "<tr><td>BELA</td><td>WALKEN</td></tr>",
                            "<tr><td>ALEC</td><td>WAYNE</td></tr>",
                            "<tr><td>CHRISTOPHER</td><td>WEST</td></tr>",
                            "<tr><td>REESE</td><td>WEST</td></tr>",
                            "<tr><td>GROUCHO</td><td>WILLIAMS</td></tr>",
                            "<tr><td>SEAN</td><td>WILLIAMS</td></tr>",
                            "<tr><td>MORGAN</td><td>WILLIAMS</td></tr>",
                            "<tr><td>BEN</td><td>WILLIS</td></tr>",
                            "<tr><td>GENE</td><td>WILLIS</td></tr>",
                            "<tr><td>HUMPHREY</td><td>WILLIS</td></tr>",
                            "<tr><td>WILL</td><td>WILSON</td></tr>",
                            "<tr><td>RIP</td><td>WINSLET</td></tr>",
                            "<tr><td>FAY</td><td>WINSLET</td></tr>",
                            "<tr><td>ANGELA</td><td>WITHERSPOON</td></tr>",
                            "<tr><td>FAY</td><td>WOOD</td></tr>",
                            "<tr><td>UMA</td><td>WOOD</td></tr>",
                            "<tr><td>CAMERON</td><td>WRAY</td></tr>",
                            "<tr><td>MINNIE</td><td>ZELLWEGER</td></tr>",
                            "<tr><td>CAMERON</td><td>ZELLWEGER</td></tr>",
                            "<tr><td>JULIA</td><td>ZELLWEGER</td></tr>",
                            "</table>"
                        ]
                    }
                }
            ],
            "execution_count": 10
        },
        {
            "cell_type": "code",
            "source": [
                "SELECT 2+2;"
            ],
            "metadata": {
                "azdata_cell_guid": "c9637c8e-8062-42c5-bdec-ce13ef211ab2",
                "language": "sql"
            },
            "outputs": [
                {
                    "output_type": "display_data",
                    "data": {
                        "text/html": "(1 row(s) affected)"
                    },
                    "metadata": {}
                },
                {
                    "output_type": "display_data",
                    "data": {
                        "text/html": "Total execution time: 00:00:01.007"
                    },
                    "metadata": {}
                },
                {
                    "output_type": "execute_result",
                    "metadata": {},
                    "execution_count": 11,
                    "data": {
                        "application/vnd.dataresource+json": {
                            "schema": {
                                "fields": [
                                    {
                                        "name": "2+2"
                                    }
                                ]
                            },
                            "data": [
                                {
                                    "2+2": "4"
                                }
                            ]
                        },
                        "text/html": [
                            "<table>",
                            "<tr><th>2+2</th></tr>",
                            "<tr><td>4</td></tr>",
                            "</table>"
                        ]
                    }
                }
            ],
            "execution_count": 11
        },
        {
            "cell_type": "code",
            "source": [
                "Create TABLE IF NOT EXISTS reports (\r\n",
                "    id INTEGER PRIMARY KEY AUTO_INCREMENT,\r\n",
                "    name VARCHAR(25),\r\n",
                "    marks INTEGER, \r\n",
                "    total INTEGER DEFAULT 100\r\n",
                ");\r\n",
                "DESCRIBE reports;\r\n",
                "INSERT INTO reports (name, marks, total) VALUES ('Raj', 96, 200); \r\n",
                "INSERT INTO reports (name, marks, total) VALUES ('Rahul', 58, 50); \r\n",
                "INSERT INTO reports (name, marks, total) VALUES ('Rohan', 78, 90); \r\n",
                "INSERT INTO reports (name, marks, total) VALUES ('Ramesh', 60, 250); \r\n",
                "INSERT INTO reports (name, marks, total) VALUES ('Rajesh', 58, 250);\r\n",
                "SELECT * FROM reports;"
            ],
            "metadata": {
                "azdata_cell_guid": "c6db6945-341b-4308-9555-c55fafcf9f63",
                "language": "sql"
            },
            "outputs": [
                {
                    "output_type": "display_data",
                    "data": {
                        "text/html": "Commands completed successfully"
                    },
                    "metadata": {}
                },
                {
                    "output_type": "display_data",
                    "data": {
                        "text/html": "(4 row(s) affected)"
                    },
                    "metadata": {}
                },
                {
                    "output_type": "display_data",
                    "data": {
                        "text/html": "Commands completed successfully"
                    },
                    "metadata": {}
                },
                {
                    "output_type": "display_data",
                    "data": {
                        "text/html": "Commands completed successfully"
                    },
                    "metadata": {}
                },
                {
                    "output_type": "display_data",
                    "data": {
                        "text/html": "Commands completed successfully"
                    },
                    "metadata": {}
                },
                {
                    "output_type": "display_data",
                    "data": {
                        "text/html": "Commands completed successfully"
                    },
                    "metadata": {}
                },
                {
                    "output_type": "display_data",
                    "data": {
                        "text/html": "Commands completed successfully"
                    },
                    "metadata": {}
                },
                {
                    "output_type": "display_data",
                    "data": {
                        "text/html": "(5 row(s) affected)"
                    },
                    "metadata": {}
                },
                {
                    "output_type": "display_data",
                    "data": {
                        "text/html": "Total execution time: 00:00:02.024"
                    },
                    "metadata": {}
                },
                {
                    "output_type": "execute_result",
                    "metadata": {},
                    "execution_count": 14,
                    "data": {
                        "application/vnd.dataresource+json": {
                            "schema": {
                                "fields": [
                                    {
                                        "name": "Field"
                                    },
                                    {
                                        "name": "Type"
                                    },
                                    {
                                        "name": "Null"
                                    },
                                    {
                                        "name": "Key"
                                    },
                                    {
                                        "name": "Default"
                                    },
                                    {
                                        "name": "Extra"
                                    }
                                ]
                            },
                            "data": [
                                {
                                    "Field": "id",
                                    "Type": "b'int'",
                                    "Null": "NO",
                                    "Key": "PRI",
                                    "Default": "NULL",
                                    "Extra": "auto_increment"
                                },
                                {
                                    "Field": "name",
                                    "Type": "b'varchar(25)'",
                                    "Null": "YES",
                                    "Key": "",
                                    "Default": "NULL",
                                    "Extra": ""
                                },
                                {
                                    "Field": "marks",
                                    "Type": "b'int'",
                                    "Null": "YES",
                                    "Key": "",
                                    "Default": "NULL",
                                    "Extra": ""
                                },
                                {
                                    "Field": "total",
                                    "Type": "b'int'",
                                    "Null": "YES",
                                    "Key": "",
                                    "Default": "b'100'",
                                    "Extra": ""
                                }
                            ]
                        },
                        "text/html": [
                            "<table>",
                            "<tr><th>Field</th><th>Type</th><th>Null</th><th>Key</th><th>Default</th><th>Extra</th></tr>",
                            "<tr><td>id</td><td>b&#39;int&#39;</td><td>NO</td><td>PRI</td><td>NULL</td><td>auto_increment</td></tr>",
                            "<tr><td>name</td><td>b&#39;varchar(25)&#39;</td><td>YES</td><td></td><td>NULL</td><td></td></tr>",
                            "<tr><td>marks</td><td>b&#39;int&#39;</td><td>YES</td><td></td><td>NULL</td><td></td></tr>",
                            "<tr><td>total</td><td>b&#39;int&#39;</td><td>YES</td><td></td><td>b&#39;100&#39;</td><td></td></tr>",
                            "</table>"
                        ]
                    }
                },
                {
                    "output_type": "execute_result",
                    "metadata": {},
                    "execution_count": 14,
                    "data": {
                        "application/vnd.dataresource+json": {
                            "schema": {
                                "fields": [
                                    {
                                        "name": "id"
                                    },
                                    {
                                        "name": "name"
                                    },
                                    {
                                        "name": "marks"
                                    },
                                    {
                                        "name": "total"
                                    }
                                ]
                            },
                            "data": [
                                {
                                    "id": "1",
                                    "name": "Raj",
                                    "marks": "96",
                                    "total": "200"
                                },
                                {
                                    "id": "2",
                                    "name": "Rahul",
                                    "marks": "58",
                                    "total": "50"
                                },
                                {
                                    "id": "3",
                                    "name": "Rohan",
                                    "marks": "78",
                                    "total": "90"
                                },
                                {
                                    "id": "4",
                                    "name": "Ramesh",
                                    "marks": "60",
                                    "total": "250"
                                },
                                {
                                    "id": "5",
                                    "name": "Rajesh",
                                    "marks": "58",
                                    "total": "250"
                                }
                            ]
                        },
                        "text/html": [
                            "<table>",
                            "<tr><th>id</th><th>name</th><th>marks</th><th>total</th></tr>",
                            "<tr><td>1</td><td>Raj</td><td>96</td><td>200</td></tr>",
                            "<tr><td>2</td><td>Rahul</td><td>58</td><td>50</td></tr>",
                            "<tr><td>3</td><td>Rohan</td><td>78</td><td>90</td></tr>",
                            "<tr><td>4</td><td>Ramesh</td><td>60</td><td>250</td></tr>",
                            "<tr><td>5</td><td>Rajesh</td><td>58</td><td>250</td></tr>",
                            "</table>"
                        ]
                    }
                }
            ],
            "execution_count": 14
        },
        {
            "cell_type": "code",
            "source": [
                "SELECT\r\n",
                "    name,\r\n",
                "    marks,\r\n",
                "    total,\r\n",
                "    marks/total*100 as percentage\r\n",
                "FROM \r\n",
                "    reports\r\n",
                "ORDER BY\r\n",
                "    percentage DESC;"
            ],
            "metadata": {
                "azdata_cell_guid": "512072ce-bb36-4e48-86e1-eb352dc29a15",
                "language": "sql"
            },
            "outputs": [
{
    "output_type": "display_data",
    "data": {
        "text/html": "(5 row(s) affected)"
    },
    "metadata": {}
}, {
    "output_type": "display_data",
    "data": {
        "text/html": "Total execution time: 00:00:01.008"
    },
    "metadata": {}
}, {
    "output_type": "execute_result",
    "metadata": {},
    "execution_count": 15,
    "data": {
        "application/vnd.dataresource+json": {
            "schema": {
                "fields": [
                    {
                        "name": "name"
                    },
                    {
                        "name": "marks"
                    },
                    {
                        "name": "total"
                    },
                    {
                        "name": "percentage"
                    }
                ]
            },
            "data": [
                {
                    "name": "Rahul",
                    "marks": "58",
                    "total": "50",
                    "percentage": "116.0000"
                },
                {
                    "name": "Rohan",
                    "marks": "78",
                    "total": "90",
                    "percentage": "86.6667"
                },
                {
                    "name": "Raj",
                    "marks": "96",
                    "total": "200",
                    "percentage": "48.0000"
                },
                {
                    "name": "Ramesh",
                    "marks": "60",
                    "total": "250",
                    "percentage": "24.0000"
                },
                {
                    "name": "Rajesh",
                    "marks": "58",
                    "total": "250",
                    "percentage": "23.2000"
                }
            ]
        },
        "text/html": [
            "<table>",
            "<tr><th>name</th><th>marks</th><th>total</th><th>percentage</th></tr>",
            "<tr><td>Rahul</td><td>58</td><td>50</td><td>116.0000</td></tr>",
            "<tr><td>Rohan</td><td>78</td><td>90</td><td>86.6667</td></tr>",
            "<tr><td>Raj</td><td>96</td><td>200</td><td>48.0000</td></tr>",
            "<tr><td>Ramesh</td><td>60</td><td>250</td><td>24.0000</td></tr>",
            "<tr><td>Rajesh</td><td>58</td><td>250</td><td>23.2000</td></tr>",
            "</table>"
        ]
    }
}
],
            "execution_count": 15
        }
    ]
}